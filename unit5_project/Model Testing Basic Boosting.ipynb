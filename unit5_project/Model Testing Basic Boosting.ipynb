{
 "cells": [
  {
   "cell_type": "markdown",
   "metadata": {},
   "source": [
    "# Basic Boosters\n",
    "\n",
    "Testing basic boosters that are not XGBoost.\n",
    "Testing effect of oversampling methods.\n",
    "\n",
    "* [AdaBoost](#AdaBoost)\n",
    "* [Gradient Boosting](#Gradient-Boosting)\n",
    "* [Balance Testing](#Balance-Testing)"
   ]
  },
  {
   "cell_type": "code",
   "execution_count": 2,
   "metadata": {},
   "outputs": [],
   "source": [
    "import numpy as np\n",
    "import pandas as pd\n",
    "import matplotlib.pyplot as plt\n",
    "import seaborn as sns\n",
    "\n",
    "plt.rcParams['figure.facecolor']='w'"
   ]
  },
  {
   "cell_type": "code",
   "execution_count": 3,
   "metadata": {},
   "outputs": [],
   "source": [
    "from sklearn.ensemble import AdaBoostClassifier, GradientBoostingClassifier\n",
    "from sklearn.model_selection import train_test_split\n",
    "from sklearn.metrics import plot_confusion_matrix\n",
    "from sklearn.metrics import recall_score, precision_score\n",
    "\n",
    "from imblearn.over_sampling import RandomOverSampler, SMOTE, ADASYN"
   ]
  },
  {
   "cell_type": "code",
   "execution_count": 4,
   "metadata": {},
   "outputs": [
    {
     "data": {
      "text/html": [
       "<div>\n",
       "<style scoped>\n",
       "    .dataframe tbody tr th:only-of-type {\n",
       "        vertical-align: middle;\n",
       "    }\n",
       "\n",
       "    .dataframe tbody tr th {\n",
       "        vertical-align: top;\n",
       "    }\n",
       "\n",
       "    .dataframe thead th {\n",
       "        text-align: right;\n",
       "    }\n",
       "</style>\n",
       "<table border=\"1\" class=\"dataframe\">\n",
       "  <thead>\n",
       "    <tr style=\"text-align: right;\">\n",
       "      <th></th>\n",
       "      <th>Total day minutes</th>\n",
       "      <th>Area code_408</th>\n",
       "      <th>Number vmail messages</th>\n",
       "      <th>Churn</th>\n",
       "      <th>Total eve charge</th>\n",
       "      <th>Area code_415</th>\n",
       "      <th>Area code_510</th>\n",
       "      <th>Total day calls</th>\n",
       "      <th>Total intl calls</th>\n",
       "      <th>Total eve minutes</th>\n",
       "      <th>Total intl charge</th>\n",
       "      <th>International plan</th>\n",
       "      <th>Customer service calls</th>\n",
       "      <th>Voice mail plan</th>\n",
       "      <th>Total intl minutes</th>\n",
       "      <th>Total day charge</th>\n",
       "    </tr>\n",
       "  </thead>\n",
       "  <tbody>\n",
       "    <tr>\n",
       "      <th>0</th>\n",
       "      <td>265.1</td>\n",
       "      <td>0.0</td>\n",
       "      <td>25.0</td>\n",
       "      <td>0.0</td>\n",
       "      <td>16.78</td>\n",
       "      <td>1.0</td>\n",
       "      <td>0.0</td>\n",
       "      <td>110.0</td>\n",
       "      <td>3.0</td>\n",
       "      <td>197.4</td>\n",
       "      <td>2.70</td>\n",
       "      <td>0.0</td>\n",
       "      <td>1.0</td>\n",
       "      <td>1.0</td>\n",
       "      <td>10.0</td>\n",
       "      <td>45.07</td>\n",
       "    </tr>\n",
       "    <tr>\n",
       "      <th>1</th>\n",
       "      <td>161.6</td>\n",
       "      <td>0.0</td>\n",
       "      <td>26.0</td>\n",
       "      <td>0.0</td>\n",
       "      <td>16.62</td>\n",
       "      <td>1.0</td>\n",
       "      <td>0.0</td>\n",
       "      <td>123.0</td>\n",
       "      <td>3.0</td>\n",
       "      <td>195.5</td>\n",
       "      <td>3.70</td>\n",
       "      <td>0.0</td>\n",
       "      <td>1.0</td>\n",
       "      <td>1.0</td>\n",
       "      <td>13.7</td>\n",
       "      <td>27.47</td>\n",
       "    </tr>\n",
       "    <tr>\n",
       "      <th>2</th>\n",
       "      <td>243.4</td>\n",
       "      <td>0.0</td>\n",
       "      <td>0.0</td>\n",
       "      <td>0.0</td>\n",
       "      <td>10.30</td>\n",
       "      <td>1.0</td>\n",
       "      <td>0.0</td>\n",
       "      <td>114.0</td>\n",
       "      <td>5.0</td>\n",
       "      <td>121.2</td>\n",
       "      <td>3.29</td>\n",
       "      <td>0.0</td>\n",
       "      <td>0.0</td>\n",
       "      <td>0.0</td>\n",
       "      <td>12.2</td>\n",
       "      <td>41.38</td>\n",
       "    </tr>\n",
       "    <tr>\n",
       "      <th>3</th>\n",
       "      <td>299.4</td>\n",
       "      <td>1.0</td>\n",
       "      <td>0.0</td>\n",
       "      <td>0.0</td>\n",
       "      <td>5.26</td>\n",
       "      <td>0.0</td>\n",
       "      <td>0.0</td>\n",
       "      <td>71.0</td>\n",
       "      <td>7.0</td>\n",
       "      <td>61.9</td>\n",
       "      <td>1.78</td>\n",
       "      <td>1.0</td>\n",
       "      <td>2.0</td>\n",
       "      <td>0.0</td>\n",
       "      <td>6.6</td>\n",
       "      <td>50.90</td>\n",
       "    </tr>\n",
       "    <tr>\n",
       "      <th>4</th>\n",
       "      <td>166.7</td>\n",
       "      <td>0.0</td>\n",
       "      <td>0.0</td>\n",
       "      <td>0.0</td>\n",
       "      <td>12.61</td>\n",
       "      <td>1.0</td>\n",
       "      <td>0.0</td>\n",
       "      <td>113.0</td>\n",
       "      <td>3.0</td>\n",
       "      <td>148.3</td>\n",
       "      <td>2.73</td>\n",
       "      <td>1.0</td>\n",
       "      <td>3.0</td>\n",
       "      <td>0.0</td>\n",
       "      <td>10.1</td>\n",
       "      <td>28.34</td>\n",
       "    </tr>\n",
       "  </tbody>\n",
       "</table>\n",
       "</div>"
      ],
      "text/plain": [
       "   Total day minutes  Area code_408  Number vmail messages  Churn  \\\n",
       "0              265.1            0.0                   25.0    0.0   \n",
       "1              161.6            0.0                   26.0    0.0   \n",
       "2              243.4            0.0                    0.0    0.0   \n",
       "3              299.4            1.0                    0.0    0.0   \n",
       "4              166.7            0.0                    0.0    0.0   \n",
       "\n",
       "   Total eve charge  Area code_415  Area code_510  Total day calls  \\\n",
       "0             16.78            1.0            0.0            110.0   \n",
       "1             16.62            1.0            0.0            123.0   \n",
       "2             10.30            1.0            0.0            114.0   \n",
       "3              5.26            0.0            0.0             71.0   \n",
       "4             12.61            1.0            0.0            113.0   \n",
       "\n",
       "   Total intl calls  Total eve minutes  Total intl charge  International plan  \\\n",
       "0               3.0              197.4               2.70                 0.0   \n",
       "1               3.0              195.5               3.70                 0.0   \n",
       "2               5.0              121.2               3.29                 0.0   \n",
       "3               7.0               61.9               1.78                 1.0   \n",
       "4               3.0              148.3               2.73                 1.0   \n",
       "\n",
       "   Customer service calls  Voice mail plan  Total intl minutes  \\\n",
       "0                     1.0              1.0                10.0   \n",
       "1                     1.0              1.0                13.7   \n",
       "2                     0.0              0.0                12.2   \n",
       "3                     2.0              0.0                 6.6   \n",
       "4                     3.0              0.0                10.1   \n",
       "\n",
       "   Total day charge  \n",
       "0             45.07  \n",
       "1             27.47  \n",
       "2             41.38  \n",
       "3             50.90  \n",
       "4             28.34  "
      ]
     },
     "execution_count": 4,
     "metadata": {},
     "output_type": "execute_result"
    }
   ],
   "source": [
    "# set up data train, test, val\n",
    "\n",
    "teledf = pd.read_csv('data/teledf_final.csv', index_col=0)\n",
    "teledf.head()"
   ]
  },
  {
   "cell_type": "code",
   "execution_count": 5,
   "metadata": {},
   "outputs": [],
   "source": [
    "X = teledf.drop(columns='Churn')\n",
    "y = teledf.Churn"
   ]
  },
  {
   "cell_type": "code",
   "execution_count": 6,
   "metadata": {},
   "outputs": [],
   "source": [
    "X_rest, X_test, y_rest, y_test = train_test_split(X, y, test_size=0.2, random_state=42)"
   ]
  },
  {
   "cell_type": "code",
   "execution_count": 7,
   "metadata": {},
   "outputs": [],
   "source": [
    "X_train, X_val, y_train, y_val = train_test_split(X_rest, y_rest, test_size=0.2, random_state=42)"
   ]
  },
  {
   "cell_type": "markdown",
   "metadata": {},
   "source": [
    "# AdaBoost"
   ]
  },
  {
   "cell_type": "code",
   "execution_count": 8,
   "metadata": {},
   "outputs": [
    {
     "data": {
      "text/plain": [
       "(0.8916510318949343, 0.8632958801498127)"
      ]
     },
     "execution_count": 8,
     "metadata": {},
     "output_type": "execute_result"
    }
   ],
   "source": [
    "# fit model\n",
    "\n",
    "ada_model = AdaBoostClassifier(random_state=42)\n",
    "\n",
    "ada_model.fit(X_train, y_train.values.ravel())\n",
    "ada_model.score(X_train,y_train), ada_model.score(X_val, y_val)"
   ]
  },
  {
   "cell_type": "code",
   "execution_count": 9,
   "metadata": {},
   "outputs": [],
   "source": [
    "y_train_ada_pred = ada_model.predict(X_train)\n",
    "y_val_ada_pred = ada_model.predict(X_val)"
   ]
  },
  {
   "cell_type": "code",
   "execution_count": 28,
   "metadata": {},
   "outputs": [],
   "source": [
    "# observe metrics\n",
    "\n",
    "def getscores (true, pred):\n",
    "    print(f'Recall: {recall_score(true,pred):.4f}','\\n',\n",
    "          f'Precision: {precision_score(true,pred):.4f}')"
   ]
  },
  {
   "cell_type": "code",
   "execution_count": 29,
   "metadata": {},
   "outputs": [
    {
     "name": "stdout",
     "output_type": "stream",
     "text": [
      "Recall: 0.3935 \n",
      " Precision: 0.7394\n",
      "Recall: 0.3750 \n",
      " Precision: 0.5660\n"
     ]
    }
   ],
   "source": [
    "getscores(y_train, y_train_ada_pred)\n",
    "getscores(y_val, y_val_ada_pred)"
   ]
  },
  {
   "cell_type": "code",
   "execution_count": 12,
   "metadata": {},
   "outputs": [
    {
     "data": {
      "text/plain": [
       "<matplotlib.axes._subplots.AxesSubplot at 0x221e935c4a8>"
      ]
     },
     "execution_count": 12,
     "metadata": {},
     "output_type": "execute_result"
    },
    {
     "data": {
      "image/png": "[encoded data removed]",
      "text/plain": [
       "<Figure size 432x288 with 1 Axes>"
      ]
     },
     "metadata": {
      "needs_background": "light"
     },
     "output_type": "display_data"
    }
   ],
   "source": [
    "sns.barplot(y=X.columns,x=ada_model.feature_importances_)\n"
   ]
  },
  {
   "cell_type": "code",
   "execution_count": 13,
   "metadata": {},
   "outputs": [
    {
     "data": {
      "text/plain": [
       "Text(0.5, 1.0, 'Confusion Matrix for AdaBoost')"
      ]
     },
     "execution_count": 13,
     "metadata": {},
     "output_type": "execute_result"
    },
    {
     "data": {
      "image/png": "[encoded data removed]",
      "text/plain": [
       "<Figure size 432x288 with 2 Axes>"
      ]
     },
     "metadata": {
      "needs_background": "light"
     },
     "output_type": "display_data"
    }
   ],
   "source": [
    "plot_confusion_matrix(ada_model, \n",
    "                      X_val,\n",
    "                      y_val,\n",
    "                      cmap='Blues', \n",
    "                      normalize='true')\n",
    "plt.title('Confusion Matrix for AdaBoost')"
   ]
  },
  {
   "cell_type": "markdown",
   "metadata": {},
   "source": [
    "# Gradient Boosting"
   ]
  },
  {
   "cell_type": "code",
   "execution_count": 14,
   "metadata": {},
   "outputs": [
    {
     "data": {
      "text/plain": [
       "(0.9718574108818011, 0.947565543071161)"
      ]
     },
     "execution_count": 14,
     "metadata": {},
     "output_type": "execute_result"
    }
   ],
   "source": [
    "# fit model\n",
    "\n",
    "gb_model = GradientBoostingClassifier(random_state = 42)\n",
    "\n",
    "gb_model.fit(X_train, y_train)\n",
    "gb_model.score(X_train, y_train), gb_model.score(X_val, y_val)"
   ]
  },
  {
   "cell_type": "code",
   "execution_count": 15,
   "metadata": {},
   "outputs": [],
   "source": [
    "y_train_gb_pred = gb_model.predict(X_train)\n",
    "y_val_gb_pred = gb_model.predict(X_val)"
   ]
  },
  {
   "cell_type": "code",
   "execution_count": 16,
   "metadata": {},
   "outputs": [
    {
     "name": "stdout",
     "output_type": "stream",
     "text": [
      "Recall: 0.8193548387096774 \n",
      " Precision: {precision_score(true,pred)}\n",
      "Recall: 0.7125 \n",
      " Precision: {precision_score(true,pred)}\n"
     ]
    }
   ],
   "source": [
    "# observe metrics\n",
    "\n",
    "getscores(y_train, y_train_gb_pred)\n",
    "getscores(y_val, y_val_gb_pred)"
   ]
  },
  {
   "cell_type": "code",
   "execution_count": 17,
   "metadata": {},
   "outputs": [
    {
     "data": {
      "text/plain": [
       "<matplotlib.axes._subplots.AxesSubplot at 0x221e9828f60>"
      ]
     },
     "execution_count": 17,
     "metadata": {},
     "output_type": "execute_result"
    },
    {
     "data": {
      "image/png": "[encoded data removed]",
      "text/plain": [
       "<Figure size 432x288 with 1 Axes>"
      ]
     },
     "metadata": {
      "needs_background": "light"
     },
     "output_type": "display_data"
    }
   ],
   "source": [
    "sns.barplot(y=X.columns, x=gb_model.feature_importances_)"
   ]
  },
  {
   "cell_type": "code",
   "execution_count": 18,
   "metadata": {},
   "outputs": [
    {
     "data": {
      "text/plain": [
       "Text(0.5, 1.0, 'Confusion Matrix for GradientBoost')"
      ]
     },
     "execution_count": 18,
     "metadata": {},
     "output_type": "execute_result"
    },
    {
     "data": {
      "image/png": "[encoded data removed]",
      "text/plain": [
       "<Figure size 432x288 with 2 Axes>"
      ]
     },
     "metadata": {
      "needs_background": "light"
     },
     "output_type": "display_data"
    }
   ],
   "source": [
    "plot_confusion_matrix(gb_model, \n",
    "                      X_val,\n",
    "                      y_val,\n",
    "                      cmap='Blues', \n",
    "                      normalize='true')\n",
    "plt.title('Confusion Matrix for GradientBoost')"
   ]
  },
  {
   "cell_type": "markdown",
   "metadata": {},
   "source": [
    "# Balance Testing\n",
    "\n",
    "Since dataset is not large, using oversampling methods."
   ]
  },
  {
   "cell_type": "code",
   "execution_count": 20,
   "metadata": {},
   "outputs": [
    {
     "name": "stdout",
     "output_type": "stream",
     "text": [
      "random_over_sampler.RandomOverSampler: \n",
      " Train recall: 0.818331503841932 \n",
      " Test recall: 0.6559139784946236 \n",
      " Train precision: 0.8628472222222222 \n",
      " Test precision: 0.8628472222222222\n"
     ]
    },
    {
     "data": {
      "image/png": "[encoded data removed]",
      "text/plain": [
       "<Figure size 432x288 with 2 Axes>"
      ]
     },
     "metadata": {
      "needs_background": "light"
     },
     "output_type": "display_data"
    },
    {
     "name": "stdout",
     "output_type": "stream",
     "text": [
      "smote.SMOTE: \n",
      " Train recall: 0.889681668496158 \n",
      " Test recall: 0.4946236559139785 \n",
      " Train precision: 0.9310740953475014 \n",
      " Test precision: 0.9310740953475014\n"
     ]
    },
    {
     "data": {
      "image/png": "[encoded data removed]",
      "text/plain": [
       "<Figure size 432x288 with 2 Axes>"
      ]
     },
     "metadata": {
      "needs_background": "light"
     },
     "output_type": "display_data"
    },
    {
     "name": "stdout",
     "output_type": "stream",
     "text": [
      "adasyn.ADASYN: \n",
      " Train recall: 0.8822515795519816 \n",
      " Test recall: 0.4731182795698925 \n",
      " Train precision: 0.9303452453058753 \n",
      " Test precision: 0.9303452453058753\n"
     ]
    },
    {
     "data": {
      "image/png": "[encoded data removed]",
      "text/plain": [
       "<Figure size 432x288 with 2 Axes>"
      ]
     },
     "metadata": {
      "needs_background": "light"
     },
     "output_type": "display_data"
    }
   ],
   "source": [
    "# testing for adaboost\n",
    "\n",
    "for i in [RandomOverSampler, SMOTE, ADASYN]:\n",
    "    balancer = i(random_state=42)\n",
    "    X_train_bal, y_train_bal = balancer.fit_resample(X_train, y_train)\n",
    "    bal_ada_model = AdaBoostClassifier(random_state=42)\n",
    "    bal_ada_model.fit(X_train_bal, y_train_bal)\n",
    "    y_train_bal_pred = bal_ada_model.predict(X_train_bal)\n",
    "    y_test_bal_pred = bal_ada_model.predict(X_test)\n",
    "    print(f'{str(i)[32:-2]}:', '\\n',\n",
    "          'Train recall:', recall_score(y_train_bal, y_train_bal_pred), '\\n',\n",
    "          'Test recall:', recall_score(y_test, y_test_bal_pred), '\\n',\n",
    "         'Train precision:', precision_score(y_train_bal, y_train_bal_pred), '\\n',\n",
    "         'Test precision:', precision_score(y_train_bal, y_train_bal_pred))\n",
    "    plot_confusion_matrix(bal_ada_model, \n",
    "                      X_val,\n",
    "                      y_val,\n",
    "                      cmap='Blues', \n",
    "                      normalize='true')\n",
    "    plt.show()"
   ]
  },
  {
   "cell_type": "markdown",
   "metadata": {},
   "source": [
    "Random oversampling improved confusion matrix, but Gradient Boosting is still the superior booster."
   ]
  },
  {
   "cell_type": "code",
   "execution_count": 21,
   "metadata": {},
   "outputs": [
    {
     "name": "stdout",
     "output_type": "stream",
     "text": [
      "random_over_sampler.RandomOverSampler: \n",
      " Train recall: 0.8913282107574094 \n",
      " Test recall: 0.7956989247311828 \n",
      " Train precision: 0.9586776859504132 \n",
      " Test precision: 0.9586776859504132\n"
     ]
    },
    {
     "data": {
      "image/png": "[encoded data removed]",
      "text/plain": [
       "<Figure size 432x288 with 2 Axes>"
      ]
     },
     "metadata": {
      "needs_background": "light"
     },
     "output_type": "display_data"
    },
    {
     "name": "stdout",
     "output_type": "stream",
     "text": [
      "smote.SMOTE: \n",
      " Train recall: 0.9527991218441273 \n",
      " Test recall: 0.6989247311827957 \n",
      " Train precision: 0.9886104783599089 \n",
      " Test precision: 0.9886104783599089\n"
     ]
    },
    {
     "data": {
      "image/png": "[encoded data removed]",
      "text/plain": [
       "<Figure size 432x288 with 2 Axes>"
      ]
     },
     "metadata": {
      "needs_background": "light"
     },
     "output_type": "display_data"
    },
    {
     "name": "stdout",
     "output_type": "stream",
     "text": [
      "adasyn.ADASYN: \n",
      " Train recall: 0.9523262492820218 \n",
      " Test recall: 0.6774193548387096 \n",
      " Train precision: 0.9845605700712589 \n",
      " Test precision: 0.9845605700712589\n"
     ]
    },
    {
     "data": {
      "image/png": "[encoded data removed]",
      "text/plain": [
       "<Figure size 432x288 with 2 Axes>"
      ]
     },
     "metadata": {
      "needs_background": "light"
     },
     "output_type": "display_data"
    }
   ],
   "source": [
    "# testing for gradient boosting\n",
    "\n",
    "for i in [RandomOverSampler, SMOTE, ADASYN]:\n",
    "    balancer = i(random_state=42)\n",
    "    X_train_bal, y_train_bal = balancer.fit_resample(X_train, y_train)\n",
    "    bal_gb_model = GradientBoostingClassifier(random_state=42)\n",
    "    bal_gb_model.fit(X_train_bal, y_train_bal)\n",
    "    y_train_bal_pred = bal_gb_model.predict(X_train_bal)\n",
    "    y_test_bal_pred = bal_gb_model.predict(X_test)\n",
    "    print(f'{str(i)[32:-2]}:', '\\n',\n",
    "          'Train recall:', recall_score(y_train_bal, y_train_bal_pred), '\\n',\n",
    "          'Test recall:', recall_score(y_test, y_test_bal_pred), '\\n',\n",
    "         'Train precision:', precision_score(y_train_bal, y_train_bal_pred), '\\n',\n",
    "         'Test precision:', precision_score(y_train_bal, y_train_bal_pred))\n",
    "    plot_confusion_matrix(bal_gb_model, \n",
    "                      X_val,\n",
    "                      y_val,\n",
    "                      cmap='Blues', \n",
    "                      normalize='true')\n",
    "    plt.show()"
   ]
  },
  {
   "cell_type": "markdown",
   "metadata": {},
   "source": [
    "Best of these is Random Oversampling for Gradient Boost."
   ]
  },
  {
   "cell_type": "code",
   "execution_count": null,
   "metadata": {},
   "outputs": [],
   "source": []
  }
 ],
 "metadata": {
  "kernelspec": {
   "display_name": "Python 3",
   "language": "python",
   "name": "python3"
  },
  "language_info": {
   "codemirror_mode": {
    "name": "ipython",
    "version": 3
   },
   "file_extension": ".py",
   "mimetype": "text/x-python",
   "name": "python",
   "nbconvert_exporter": "python",
   "pygments_lexer": "ipython3",
   "version": "3.7.3"
  }
 },
 "nbformat": 4,
 "nbformat_minor": 2
}
