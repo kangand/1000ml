{
  "nbformat": 4,
  "nbformat_minor": 0,
  "metadata": {
    "colab": {
      "name": "CNN Training",
      "provenance": [],
      "collapsed_sections": [],
      "authorship_tag": "ABX9TyMH45LFuBMN34jV6b/P5kXG",
      "include_colab_link": true
    },
    "kernelspec": {
      "name": "python3",
      "display_name": "Python 3"
    },
    "accelerator": "TPU"
  },
  "cells": [
    {
      "cell_type": "markdown",
      "metadata": {
        "id": "view-in-github",
        "colab_type": "text"
      },
      "source": [
        "<a href=\"https://colab.research.google.com/github/kangand/1000ml/blob/master/Assignment_7/CNN_Training.ipynb\" target=\"_parent\"><img src=\"https://colab.research.google.com/assets/colab-badge.svg\" alt=\"Open In Colab\"/></a>"
      ]
    },
    {
      "cell_type": "markdown",
      "metadata": {
        "id": "D28sDM96xvcx",
        "colab_type": "text"
      },
      "source": [
        "Testing the fastai models with the highest accuracy scores with the larger, data augmented dataset."
      ]
    },
    {
      "cell_type": "code",
      "metadata": {
        "id": "AeQcXj1MoX7l",
        "colab_type": "code",
        "colab": {}
      },
      "source": [
        "import numpy as np\n",
        "import matplotlib.pyplot as plt\n",
        "import seaborn as sns\n",
        "\n",
        "plt.rcParams['figure.facecolor']='w'\n",
        "plt.rcParams['figure.edgecolor']='w'"
      ],
      "execution_count": 2,
      "outputs": []
    },
    {
      "cell_type": "code",
      "metadata": {
        "id": "qO1OwdQ3o1d4",
        "colab_type": "code",
        "colab": {}
      },
      "source": [
        "import os\n",
        "\n",
        "import warnings\n",
        "warnings.filterwarnings('ignore')"
      ],
      "execution_count": 3,
      "outputs": []
    },
    {
      "cell_type": "code",
      "metadata": {
        "id": "E0SXU4OKo4GH",
        "colab_type": "code",
        "colab": {
          "base_uri": "https://localhost:8080/",
          "height": 55
        },
        "outputId": "706efb1e-9f70-4246-96d7-69021e637372"
      },
      "source": [
        "from google.colab import drive\n",
        "drive.mount('/content/Drive')"
      ],
      "execution_count": 4,
      "outputs": [
        {
          "output_type": "stream",
          "text": [
            "Drive already mounted at /content/Drive; to attempt to forcibly remount, call drive.mount(\"/content/Drive\", force_remount=True).\n"
          ],
          "name": "stdout"
        }
      ]
    },
    {
      "cell_type": "code",
      "metadata": {
        "id": "gR9G4vhao4cv",
        "colab_type": "code",
        "colab": {}
      },
      "source": [
        "import torch\n",
        "\n",
        "from fastai.vision import get_transforms\n",
        "from fastai.vision.data import ImageList, ImageDataBunch\n",
        "from fastai.vision import defaults\n",
        "from fastai.metrics import error_rate, accuracy\n",
        "from fastai.vision.learner import create_cnn, cnn_learner\n",
        "from fastai.vision.models import squeezenet1_0 # best model from initial testing\n",
        "from fastai.widgets import *"
      ],
      "execution_count": 5,
      "outputs": []
    },
    {
      "cell_type": "code",
      "metadata": {
        "id": "ntq7rvD4xuUQ",
        "colab_type": "code",
        "colab": {}
      },
      "source": [
        "tfms = get_transforms(do_flip=True, \n",
        "                      max_rotate=25)\n",
        "\n",
        "path = '/content/Drive/My Drive/jewelery_images'"
      ],
      "execution_count": 6,
      "outputs": []
    },
    {
      "cell_type": "code",
      "metadata": {
        "id": "YmxGMKLqvdTw",
        "colab_type": "code",
        "colab": {}
      },
      "source": [
        "'''data = (ImageList.from_folder(path)\n",
        "  .split_by_rand_pct()\n",
        "  .label_from_folder()\n",
        "  .transform(tfms, size=224)\n",
        "  .databunch())'''"
      ],
      "execution_count": 6,
      "outputs": []
    },
    {
      "cell_type": "code",
      "metadata": {
        "id": "ynovDByqbBlk",
        "colab_type": "code",
        "colab": {}
      },
      "source": [
        "data = ImageDataBunch.from_folder(path, ds_tfms=tfms, size=224, train='train', valid='valid', test='test')"
      ],
      "execution_count": 7,
      "outputs": []
    },
    {
      "cell_type": "code",
      "metadata": {
        "id": "nE1pN-lDIL3N",
        "colab_type": "code",
        "colab": {}
      },
      "source": [
        "data.batch_size = 128"
      ],
      "execution_count": 8,
      "outputs": []
    },
    {
      "cell_type": "code",
      "metadata": {
        "id": "Qa-pnhwdH-Gl",
        "colab_type": "code",
        "colab": {
          "base_uri": "https://localhost:8080/",
          "height": 399
        },
        "outputId": "f9f5eab5-5afd-4606-8053-ce8d868dd579"
      },
      "source": [
        "data"
      ],
      "execution_count": 9,
      "outputs": [
        {
          "output_type": "execute_result",
          "data": {
            "text/plain": [
              "ImageDataBunch;\n",
              "\n",
              "Train: LabelList (1006 items)\n",
              "x: ImageList\n",
              "Image (3, 224, 224),Image (3, 224, 224),Image (3, 224, 224),Image (3, 224, 224),Image (3, 224, 224)\n",
              "y: CategoryList\n",
              "earrings,earrings,earrings,earrings,earrings\n",
              "Path: /content/Drive/My Drive/jewelery_images;\n",
              "\n",
              "Valid: LabelList (267 items)\n",
              "x: ImageList\n",
              "Image (3, 224, 224),Image (3, 224, 224),Image (3, 224, 224),Image (3, 224, 224),Image (3, 224, 224)\n",
              "y: CategoryList\n",
              "ring,ring,ring,ring,ring\n",
              "Path: /content/Drive/My Drive/jewelery_images;\n",
              "\n",
              "Test: LabelList (254 items)\n",
              "x: ImageList\n",
              "Image (3, 224, 224),Image (3, 224, 224),Image (3, 224, 224),Image (3, 224, 224),Image (3, 224, 224)\n",
              "y: EmptyLabelList\n",
              ",,,,\n",
              "Path: /content/Drive/My Drive/jewelery_images"
            ]
          },
          "metadata": {
            "tags": []
          },
          "execution_count": 9
        }
      ]
    },
    {
      "cell_type": "code",
      "metadata": {
        "id": "RqLVO8VG1sEH",
        "colab_type": "code",
        "colab": {}
      },
      "source": [
        "defaults.device = torch.device('cuda')"
      ],
      "execution_count": 10,
      "outputs": []
    },
    {
      "cell_type": "code",
      "metadata": {
        "id": "2TsYsv6t2TiS",
        "colab_type": "code",
        "colab": {
          "base_uri": "https://localhost:8080/",
          "height": 355
        },
        "outputId": "898a6b63-e522-4cbd-e004-67522098b531"
      },
      "source": [
        "learn = create_cnn(data, squeezenet1_0, metrics=accuracy)\n",
        "\n",
        "learn.fit_one_cycle(10)"
      ],
      "execution_count": 12,
      "outputs": [
        {
          "output_type": "display_data",
          "data": {
            "text/html": [
              "<table border=\"1\" class=\"dataframe\">\n",
              "  <thead>\n",
              "    <tr style=\"text-align: left;\">\n",
              "      <th>epoch</th>\n",
              "      <th>train_loss</th>\n",
              "      <th>valid_loss</th>\n",
              "      <th>accuracy</th>\n",
              "      <th>time</th>\n",
              "    </tr>\n",
              "  </thead>\n",
              "  <tbody>\n",
              "    <tr>\n",
              "      <td>0</td>\n",
              "      <td>1.932846</td>\n",
              "      <td>1.639835</td>\n",
              "      <td>0.539326</td>\n",
              "      <td>01:34</td>\n",
              "    </tr>\n",
              "    <tr>\n",
              "      <td>1</td>\n",
              "      <td>1.391282</td>\n",
              "      <td>0.919324</td>\n",
              "      <td>0.779026</td>\n",
              "      <td>01:32</td>\n",
              "    </tr>\n",
              "    <tr>\n",
              "      <td>2</td>\n",
              "      <td>1.089823</td>\n",
              "      <td>0.574772</td>\n",
              "      <td>0.835206</td>\n",
              "      <td>01:30</td>\n",
              "    </tr>\n",
              "    <tr>\n",
              "      <td>3</td>\n",
              "      <td>0.880738</td>\n",
              "      <td>0.442423</td>\n",
              "      <td>0.853933</td>\n",
              "      <td>01:30</td>\n",
              "    </tr>\n",
              "    <tr>\n",
              "      <td>4</td>\n",
              "      <td>0.730232</td>\n",
              "      <td>0.465814</td>\n",
              "      <td>0.876405</td>\n",
              "      <td>01:29</td>\n",
              "    </tr>\n",
              "    <tr>\n",
              "      <td>5</td>\n",
              "      <td>0.622083</td>\n",
              "      <td>0.512906</td>\n",
              "      <td>0.861423</td>\n",
              "      <td>01:31</td>\n",
              "    </tr>\n",
              "    <tr>\n",
              "      <td>6</td>\n",
              "      <td>0.539695</td>\n",
              "      <td>0.466961</td>\n",
              "      <td>0.872659</td>\n",
              "      <td>01:29</td>\n",
              "    </tr>\n",
              "    <tr>\n",
              "      <td>7</td>\n",
              "      <td>0.479447</td>\n",
              "      <td>0.434308</td>\n",
              "      <td>0.883895</td>\n",
              "      <td>01:30</td>\n",
              "    </tr>\n",
              "    <tr>\n",
              "      <td>8</td>\n",
              "      <td>0.427459</td>\n",
              "      <td>0.419317</td>\n",
              "      <td>0.883895</td>\n",
              "      <td>01:29</td>\n",
              "    </tr>\n",
              "    <tr>\n",
              "      <td>9</td>\n",
              "      <td>0.386499</td>\n",
              "      <td>0.418027</td>\n",
              "      <td>0.887640</td>\n",
              "      <td>01:30</td>\n",
              "    </tr>\n",
              "  </tbody>\n",
              "</table>"
            ],
            "text/plain": [
              "<IPython.core.display.HTML object>"
            ]
          },
          "metadata": {
            "tags": []
          }
        }
      ]
    },
    {
      "cell_type": "code",
      "metadata": {
        "id": "IJipmsh62ZJ-",
        "colab_type": "code",
        "colab": {
          "base_uri": "https://localhost:8080/",
          "height": 17
        },
        "outputId": "7a45f705-2b41-4a01-9a03-6ee092f979a6"
      },
      "source": [
        "interp = ClassificationInterpretation.from_learner(learn)"
      ],
      "execution_count": 13,
      "outputs": [
        {
          "output_type": "display_data",
          "data": {
            "text/html": [
              ""
            ],
            "text/plain": [
              "<IPython.core.display.HTML object>"
            ]
          },
          "metadata": {
            "tags": []
          }
        }
      ]
    },
    {
      "cell_type": "code",
      "metadata": {
        "id": "Lnql73MnHxq7",
        "colab_type": "code",
        "colab": {
          "base_uri": "https://localhost:8080/",
          "height": 311
        },
        "outputId": "d6d069bc-db1a-4a0b-b266-251f8a7d0b3b"
      },
      "source": [
        "interp.plot_confusion_matrix()"
      ],
      "execution_count": 14,
      "outputs": [
        {
          "output_type": "display_data",
          "data": {
            "image/png": "[encoded data removed]",
            "text/plain": [
              "<Figure size 432x288 with 1 Axes>"
            ]
          },
          "metadata": {
            "tags": []
          }
        }
      ]
    },
    {
      "cell_type": "code",
      "metadata": {
        "id": "TZFyn8ibD4xH",
        "colab_type": "code",
        "colab": {
          "base_uri": "https://localhost:8080/",
          "height": 87
        },
        "outputId": "2c4f0912-7322-47d2-9434-b983a696fa94"
      },
      "source": [
        "interp.confusion_matrix()"
      ],
      "execution_count": 17,
      "outputs": [
        {
          "output_type": "execute_result",
          "data": {
            "text/plain": [
              "array([[68,  3,  2,  5],\n",
              "       [ 0, 76,  4,  0],\n",
              "       [ 4,  6, 52,  2],\n",
              "       [ 2,  2,  0, 41]])"
            ]
          },
          "metadata": {
            "tags": []
          },
          "execution_count": 17
        }
      ]
    },
    {
      "cell_type": "code",
      "metadata": {
        "id": "daTbFUy4FDff",
        "colab_type": "code",
        "colab": {
          "base_uri": "https://localhost:8080/",
          "height": 173
        },
        "outputId": "5440fcf2-155f-4808-f445-7cb69908994a"
      },
      "source": [
        "interp.most_confused()"
      ],
      "execution_count": 18,
      "outputs": [
        {
          "output_type": "execute_result",
          "data": {
            "text/plain": [
              "[('necklace', 'earrings', 6),\n",
              " ('bracelet', 'ring', 5),\n",
              " ('earrings', 'necklace', 4),\n",
              " ('necklace', 'bracelet', 4),\n",
              " ('bracelet', 'earrings', 3),\n",
              " ('bracelet', 'necklace', 2),\n",
              " ('necklace', 'ring', 2),\n",
              " ('ring', 'bracelet', 2),\n",
              " ('ring', 'earrings', 2)]"
            ]
          },
          "metadata": {
            "tags": []
          },
          "execution_count": 18
        }
      ]
    }
  ]
}