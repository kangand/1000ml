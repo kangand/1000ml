{
  "nbformat": 4,
  "nbformat_minor": 0,
  "metadata": {
    "kernelspec": {
      "display_name": "Python 3",
      "language": "python",
      "name": "python3"
    },
    "language_info": {
      "codemirror_mode": {
        "name": "ipython",
        "version": 3
      },
      "file_extension": ".py",
      "mimetype": "text/x-python",
      "name": "python",
      "nbconvert_exporter": "python",
      "pygments_lexer": "ipython3",
      "version": "3.7.3"
    },
    "colab": {
      "name": "Draft Model.ipynb",
      "provenance": [],
      "collapsed_sections": [],
      "include_colab_link": true
    }
  },
  "cells": [
    {
      "cell_type": "markdown",
      "metadata": {
        "id": "view-in-github",
        "colab_type": "text"
      },
      "source": [
        "<a href=\"https://colab.research.google.com/github/kangand/1000ml/blob/master/Assignment_7/Draft_Model.ipynb\" target=\"_parent\"><img src=\"https://colab.research.google.com/assets/colab-badge.svg\" alt=\"Open In Colab\"/></a>"
      ]
    },
    {
      "cell_type": "markdown",
      "metadata": {
        "id": "BWO_AhbtlzH4",
        "colab_type": "text"
      },
      "source": [
        "Testing image classification at a basic level with smaller image dataset."
      ]
    },
    {
      "cell_type": "code",
      "metadata": {
        "id": "X7tGlgyRlzH9",
        "colab_type": "code",
        "colab": {
          "base_uri": "https://localhost:8080/",
          "height": 72
        },
        "outputId": "5e3759b4-10c5-4905-e943-bf821f124d3d"
      },
      "source": [
        "import numpy as np\n",
        "import matplotlib.pyplot as plt\n",
        "import seaborn as sns\n",
        "\n",
        "plt.rcParams['figure.facecolor']='w'\n",
        "plt.rcParams['figure.edgecolor']='w'"
      ],
      "execution_count": 1,
      "outputs": [
        {
          "output_type": "stream",
          "text": [
            "/usr/local/lib/python3.6/dist-packages/statsmodels/tools/_testing.py:19: FutureWarning: pandas.util.testing is deprecated. Use the functions in the public API at pandas.testing instead.\n",
            "  import pandas.util.testing as tm\n"
          ],
          "name": "stderr"
        }
      ]
    },
    {
      "cell_type": "code",
      "metadata": {
        "id": "qQ1EryMmlzIs",
        "colab_type": "code",
        "colab": {}
      },
      "source": [
        "import os\n",
        "\n",
        "import warnings\n",
        "warnings.filterwarnings('ignore')"
      ],
      "execution_count": 2,
      "outputs": []
    },
    {
      "cell_type": "code",
      "metadata": {
        "id": "lysc2PKpmHcs",
        "colab_type": "code",
        "colab": {
          "base_uri": "https://localhost:8080/",
          "height": 124
        },
        "outputId": "105a26f8-2de2-49fe-9460-d96d07a44328"
      },
      "source": [
        "from google.colab import drive\n",
        "drive.mount('/content/Drive')"
      ],
      "execution_count": 3,
      "outputs": [
        {
          "output_type": "stream",
          "text": [
            "Go to this URL in a browser: https://accounts.google.com/o/oauth2/auth?client_id=947318989803-6bn6qk8qdgf4n4g3pfee6491hc0brc4i.apps.googleusercontent.com&redirect_uri=urn%3aietf%3awg%3aoauth%3a2.0%3aoob&response_type=code&scope=email%20https%3a%2f%2fwww.googleapis.com%2fauth%2fdocs.test%20https%3a%2f%2fwww.googleapis.com%2fauth%2fdrive%20https%3a%2f%2fwww.googleapis.com%2fauth%2fdrive.photos.readonly%20https%3a%2f%2fwww.googleapis.com%2fauth%2fpeopleapi.readonly\n",
            "\n",
            "Enter your authorization code:\n",
            "··········\n",
            "Mounted at /content/Drive\n"
          ],
          "name": "stdout"
        }
      ]
    },
    {
      "cell_type": "code",
      "metadata": {
        "id": "-YbQhcAglzJv",
        "colab_type": "code",
        "colab": {}
      },
      "source": [
        "import torch\n",
        "\n",
        "from fastai.vision import get_transforms\n",
        "from fastai.vision.data import ImageList\n",
        "from fastai.vision import defaults\n",
        "from fastai.metrics import error_rate, accuracy\n",
        "from fastai.vision.learner import create_cnn, cnn_learner\n",
        "from fastai.vision.models import resnet34, vgg16_bn\n",
        "from fastai.widgets import *"
      ],
      "execution_count": 71,
      "outputs": []
    },
    {
      "cell_type": "code",
      "metadata": {
        "id": "DEI33_sxlzKb",
        "colab_type": "code",
        "colab": {
          "base_uri": "https://localhost:8080/",
          "height": 225
        },
        "outputId": "355c00d2-2785-485e-ce23-b28ade3ab95e"
      },
      "source": [
        "path = '/content/Drive/My Drive/jewelery_images'\n",
        "splits = ['train', 'valid', 'test']\n",
        "classes = ['bracelet', 'earrings', 'necklace', 'ring']\n",
        "\n",
        "for i in splits:\n",
        "  for j in classes:\n",
        "    print(os.path.join(path,i,j))\n",
        "    if not os.path.exists(os.path.join(path,i,j)):\n",
        "      os.makedirs(os.path.join(path,i,j))"
      ],
      "execution_count": 5,
      "outputs": [
        {
          "output_type": "stream",
          "text": [
            "/content/Drive/My Drive/jewelery_images/train/bracelet\n",
            "/content/Drive/My Drive/jewelery_images/train/earrings\n",
            "/content/Drive/My Drive/jewelery_images/train/necklace\n",
            "/content/Drive/My Drive/jewelery_images/train/ring\n",
            "/content/Drive/My Drive/jewelery_images/valid/bracelet\n",
            "/content/Drive/My Drive/jewelery_images/valid/earrings\n",
            "/content/Drive/My Drive/jewelery_images/valid/necklace\n",
            "/content/Drive/My Drive/jewelery_images/valid/ring\n",
            "/content/Drive/My Drive/jewelery_images/test/bracelet\n",
            "/content/Drive/My Drive/jewelery_images/test/earrings\n",
            "/content/Drive/My Drive/jewelery_images/test/necklace\n",
            "/content/Drive/My Drive/jewelery_images/test/ring\n"
          ],
          "name": "stdout"
        }
      ]
    },
    {
      "cell_type": "code",
      "metadata": {
        "id": "TjsP-txcnEK0",
        "colab_type": "code",
        "colab": {}
      },
      "source": [
        "tfms = get_transforms(do_flip=False)"
      ],
      "execution_count": 6,
      "outputs": []
    },
    {
      "cell_type": "code",
      "metadata": {
        "id": "w3lrSy2wlzLP",
        "colab_type": "code",
        "colab": {}
      },
      "source": [
        "data = (ImageList.from_folder(path)\n",
        "  .split_by_rand_pct()\n",
        "  .label_from_folder()\n",
        "  .transform(tfms,size=64)\n",
        "  .databunch())"
      ],
      "execution_count": 7,
      "outputs": []
    },
    {
      "cell_type": "code",
      "metadata": {
        "id": "n9rX2vwboxhs",
        "colab_type": "code",
        "colab": {
          "base_uri": "https://localhost:8080/",
          "height": 35
        },
        "outputId": "00df4f86-eb64-4949-be98-f91b2ddda7c4"
      },
      "source": [
        "data.batch_size"
      ],
      "execution_count": 8,
      "outputs": [
        {
          "output_type": "execute_result",
          "data": {
            "text/plain": [
              "64"
            ]
          },
          "metadata": {
            "tags": []
          },
          "execution_count": 8
        }
      ]
    },
    {
      "cell_type": "code",
      "metadata": {
        "id": "UU-x4DEclzL1",
        "colab_type": "code",
        "colab": {}
      },
      "source": [
        "learn = create_cnn(data, resnet34, metrics=accuracy)"
      ],
      "execution_count": 68,
      "outputs": []
    },
    {
      "cell_type": "code",
      "metadata": {
        "id": "9yj8oaPOlzMQ",
        "colab_type": "code",
        "colab": {}
      },
      "source": [
        "defaults.device = torch.device('cuda')"
      ],
      "execution_count": 69,
      "outputs": []
    },
    {
      "cell_type": "code",
      "metadata": {
        "id": "3d7JqG-llzMi",
        "colab_type": "code",
        "colab": {
          "base_uri": "https://localhost:8080/",
          "height": 206
        },
        "outputId": "bcac5934-cfb6-403e-832b-05c34c8d2295"
      },
      "source": [
        "learn.fit_one_cycle(4)\n",
        "\n",
        "%time"
      ],
      "execution_count": 70,
      "outputs": [
        {
          "output_type": "display_data",
          "data": {
            "text/html": [
              "<table border=\"1\" class=\"dataframe\">\n",
              "  <thead>\n",
              "    <tr style=\"text-align: left;\">\n",
              "      <th>epoch</th>\n",
              "      <th>train_loss</th>\n",
              "      <th>valid_loss</th>\n",
              "      <th>accuracy</th>\n",
              "      <th>time</th>\n",
              "    </tr>\n",
              "  </thead>\n",
              "  <tbody>\n",
              "    <tr>\n",
              "      <td>0</td>\n",
              "      <td>2.066460</td>\n",
              "      <td>1.061764</td>\n",
              "      <td>0.543307</td>\n",
              "      <td>00:35</td>\n",
              "    </tr>\n",
              "    <tr>\n",
              "      <td>1</td>\n",
              "      <td>1.536928</td>\n",
              "      <td>0.856536</td>\n",
              "      <td>0.685039</td>\n",
              "      <td>00:35</td>\n",
              "    </tr>\n",
              "    <tr>\n",
              "      <td>2</td>\n",
              "      <td>1.234206</td>\n",
              "      <td>0.879097</td>\n",
              "      <td>0.708661</td>\n",
              "      <td>00:33</td>\n",
              "    </tr>\n",
              "    <tr>\n",
              "      <td>3</td>\n",
              "      <td>1.030837</td>\n",
              "      <td>0.765125</td>\n",
              "      <td>0.779528</td>\n",
              "      <td>00:34</td>\n",
              "    </tr>\n",
              "  </tbody>\n",
              "</table>"
            ],
            "text/plain": [
              "<IPython.core.display.HTML object>"
            ]
          },
          "metadata": {
            "tags": []
          }
        },
        {
          "output_type": "stream",
          "text": [
            "CPU times: user 3 µs, sys: 0 ns, total: 3 µs\n",
            "Wall time: 12.9 µs\n"
          ],
          "name": "stdout"
        }
      ]
    },
    {
      "cell_type": "code",
      "metadata": {
        "id": "6NnSH_ySlzM3",
        "colab_type": "code",
        "colab": {
          "base_uri": "https://localhost:8080/",
          "height": 711
        },
        "outputId": "3584362d-dd76-4185-81af-ed41dcad25cb"
      },
      "source": [
        "learn.unfreeze()\n",
        "learn.lr_find()\n",
        "learn.recorder.plot()"
      ],
      "execution_count": 12,
      "outputs": [
        {
          "output_type": "display_data",
          "data": {
            "text/html": [
              "\n",
              "    <div>\n",
              "        <style>\n",
              "            /* Turns off some styling */\n",
              "            progress {\n",
              "                /* gets rid of default border in Firefox and Opera. */\n",
              "                border: none;\n",
              "                /* Needs to be in here for Safari polyfill so background images work as expected. */\n",
              "                background-size: auto;\n",
              "            }\n",
              "            .progress-bar-interrupted, .progress-bar-interrupted::-webkit-progress-bar {\n",
              "                background: #F44336;\n",
              "            }\n",
              "        </style>\n",
              "      <progress value='11' class='' max='15' style='width:300px; height:20px; vertical-align: middle;'></progress>\n",
              "      73.33% [11/15 05:57<02:09]\n",
              "    </div>\n",
              "    \n",
              "<table border=\"1\" class=\"dataframe\">\n",
              "  <thead>\n",
              "    <tr style=\"text-align: left;\">\n",
              "      <th>epoch</th>\n",
              "      <th>train_loss</th>\n",
              "      <th>valid_loss</th>\n",
              "      <th>error_rate</th>\n",
              "      <th>time</th>\n",
              "    </tr>\n",
              "  </thead>\n",
              "  <tbody>\n",
              "    <tr>\n",
              "      <td>0</td>\n",
              "      <td>0.580067</td>\n",
              "      <td>#na#</td>\n",
              "      <td>00:33</td>\n",
              "    </tr>\n",
              "    <tr>\n",
              "      <td>1</td>\n",
              "      <td>0.615110</td>\n",
              "      <td>#na#</td>\n",
              "      <td>00:32</td>\n",
              "    </tr>\n",
              "    <tr>\n",
              "      <td>2</td>\n",
              "      <td>0.627293</td>\n",
              "      <td>#na#</td>\n",
              "      <td>00:31</td>\n",
              "    </tr>\n",
              "    <tr>\n",
              "      <td>3</td>\n",
              "      <td>0.615719</td>\n",
              "      <td>#na#</td>\n",
              "      <td>00:32</td>\n",
              "    </tr>\n",
              "    <tr>\n",
              "      <td>4</td>\n",
              "      <td>0.558943</td>\n",
              "      <td>#na#</td>\n",
              "      <td>00:31</td>\n",
              "    </tr>\n",
              "    <tr>\n",
              "      <td>5</td>\n",
              "      <td>0.507068</td>\n",
              "      <td>#na#</td>\n",
              "      <td>00:32</td>\n",
              "    </tr>\n",
              "    <tr>\n",
              "      <td>6</td>\n",
              "      <td>0.454428</td>\n",
              "      <td>#na#</td>\n",
              "      <td>00:31</td>\n",
              "    </tr>\n",
              "    <tr>\n",
              "      <td>7</td>\n",
              "      <td>0.491225</td>\n",
              "      <td>#na#</td>\n",
              "      <td>00:32</td>\n",
              "    </tr>\n",
              "    <tr>\n",
              "      <td>8</td>\n",
              "      <td>0.639143</td>\n",
              "      <td>#na#</td>\n",
              "      <td>00:34</td>\n",
              "    </tr>\n",
              "    <tr>\n",
              "      <td>9</td>\n",
              "      <td>0.752866</td>\n",
              "      <td>#na#</td>\n",
              "      <td>00:32</td>\n",
              "    </tr>\n",
              "    <tr>\n",
              "      <td>10</td>\n",
              "      <td>0.939861</td>\n",
              "      <td>#na#</td>\n",
              "      <td>00:33</td>\n",
              "    </tr>\n",
              "  </tbody>\n",
              "</table><p>\n",
              "\n",
              "    <div>\n",
              "        <style>\n",
              "            /* Turns off some styling */\n",
              "            progress {\n",
              "                /* gets rid of default border in Firefox and Opera. */\n",
              "                border: none;\n",
              "                /* Needs to be in here for Safari polyfill so background images work as expected. */\n",
              "                background-size: auto;\n",
              "            }\n",
              "            .progress-bar-interrupted, .progress-bar-interrupted::-webkit-progress-bar {\n",
              "                background: #F44336;\n",
              "            }\n",
              "        </style>\n",
              "      <progress value='3' class='' max='7' style='width:300px; height:20px; vertical-align: middle;'></progress>\n",
              "      42.86% [3/7 00:19<00:26 1.3285]\n",
              "    </div>\n",
              "    "
            ],
            "text/plain": [
              "<IPython.core.display.HTML object>"
            ]
          },
          "metadata": {
            "tags": []
          }
        },
        {
          "output_type": "stream",
          "text": [
            "LR Finder is complete, type {learner_name}.recorder.plot() to see the graph.\n"
          ],
          "name": "stdout"
        },
        {
          "output_type": "display_data",
          "data": {
            "image/png": "[encoded data removed]",
            "text/plain": [
              "<Figure size 432x288 with 1 Axes>"
            ]
          },
          "metadata": {
            "tags": [],
            "needs_background": "light"
          }
        }
      ]
    },
    {
      "cell_type": "code",
      "metadata": {
        "id": "-kf_YrJrlzNZ",
        "colab_type": "code",
        "colab": {
          "base_uri": "https://localhost:8080/",
          "height": 202
        },
        "outputId": "bcd266ef-1891-4247-f9b8-338fe2e2fd23"
      },
      "source": [
        "df = pd.read_csv(os.path.join(path, 'cleaned.csv'), header='infer')\n",
        "df.head()"
      ],
      "execution_count": 14,
      "outputs": [
        {
          "output_type": "execute_result",
          "data": {
            "text/html": [
              "<div>\n",
              "<style scoped>\n",
              "    .dataframe tbody tr th:only-of-type {\n",
              "        vertical-align: middle;\n",
              "    }\n",
              "\n",
              "    .dataframe tbody tr th {\n",
              "        vertical-align: top;\n",
              "    }\n",
              "\n",
              "    .dataframe thead th {\n",
              "        text-align: right;\n",
              "    }\n",
              "</style>\n",
              "<table border=\"1\" class=\"dataframe\">\n",
              "  <thead>\n",
              "    <tr style=\"text-align: right;\">\n",
              "      <th></th>\n",
              "      <th>name</th>\n",
              "      <th>label</th>\n",
              "    </tr>\n",
              "  </thead>\n",
              "  <tbody>\n",
              "    <tr>\n",
              "      <th>0</th>\n",
              "      <td>valid/ring/image9.jpeg</td>\n",
              "      <td>ring</td>\n",
              "    </tr>\n",
              "    <tr>\n",
              "      <th>1</th>\n",
              "      <td>valid/ring/image0.jpeg</td>\n",
              "      <td>ring</td>\n",
              "    </tr>\n",
              "    <tr>\n",
              "      <th>2</th>\n",
              "      <td>valid/ring/image5.jpeg</td>\n",
              "      <td>ring</td>\n",
              "    </tr>\n",
              "    <tr>\n",
              "      <th>3</th>\n",
              "      <td>valid/ring/image6.jpeg</td>\n",
              "      <td>ring</td>\n",
              "    </tr>\n",
              "    <tr>\n",
              "      <th>4</th>\n",
              "      <td>valid/ring/image.jpeg</td>\n",
              "      <td>ring</td>\n",
              "    </tr>\n",
              "  </tbody>\n",
              "</table>\n",
              "</div>"
            ],
            "text/plain": [
              "                     name label\n",
              "0  valid/ring/image9.jpeg  ring\n",
              "1  valid/ring/image0.jpeg  ring\n",
              "2  valid/ring/image5.jpeg  ring\n",
              "3  valid/ring/image6.jpeg  ring\n",
              "4   valid/ring/image.jpeg  ring"
            ]
          },
          "metadata": {
            "tags": []
          },
          "execution_count": 14
        }
      ]
    },
    {
      "cell_type": "code",
      "metadata": {
        "id": "GviH4Dc5lzNq",
        "colab_type": "code",
        "colab": {
          "base_uri": "https://localhost:8080/",
          "height": 17
        },
        "outputId": "62fa5a92-84f2-4f55-bf5f-798cc611ef2e"
      },
      "source": [
        "interp = ClassificationInterpretation.from_learner(learn)"
      ],
      "execution_count": 15,
      "outputs": [
        {
          "output_type": "display_data",
          "data": {
            "text/html": [
              ""
            ],
            "text/plain": [
              "<IPython.core.display.HTML object>"
            ]
          },
          "metadata": {
            "tags": []
          }
        }
      ]
    },
    {
      "cell_type": "code",
      "metadata": {
        "id": "BrZw0JzmlzOb",
        "colab_type": "code",
        "colab": {
          "base_uri": "https://localhost:8080/",
          "height": 311
        },
        "outputId": "c92b4f0c-034d-4400-8c4c-17c88bb6b9e2"
      },
      "source": [
        "interp.plot_confusion_matrix()"
      ],
      "execution_count": 16,
      "outputs": [
        {
          "output_type": "display_data",
          "data": {
            "image/png": "[encoded data removed]",
            "text/plain": [
              "<Figure size 432x288 with 1 Axes>"
            ]
          },
          "metadata": {
            "tags": [],
            "needs_background": "light"
          }
        }
      ]
    },
    {
      "cell_type": "code",
      "metadata": {
        "id": "aFKRfrg3bHzG",
        "colab_type": "code",
        "colab": {}
      },
      "source": [
        "# cnn with other models\n",
        "\n",
        "learn2 = create_cnn(data, vgg16_bn, metrics=accuracy)"
      ],
      "execution_count": 73,
      "outputs": []
    },
    {
      "cell_type": "code",
      "metadata": {
        "id": "bkie6x8PeZlz",
        "colab_type": "code",
        "colab": {
          "base_uri": "https://localhost:8080/",
          "height": 206
        },
        "outputId": "dec0cf9b-64f0-426d-81ba-cbeebb2a24ca"
      },
      "source": [
        "learn2.fit_one_cycle(4)\n",
        "\n",
        "%time"
      ],
      "execution_count": 74,
      "outputs": [
        {
          "output_type": "display_data",
          "data": {
            "text/html": [
              "<table border=\"1\" class=\"dataframe\">\n",
              "  <thead>\n",
              "    <tr style=\"text-align: left;\">\n",
              "      <th>epoch</th>\n",
              "      <th>train_loss</th>\n",
              "      <th>valid_loss</th>\n",
              "      <th>accuracy</th>\n",
              "      <th>time</th>\n",
              "    </tr>\n",
              "  </thead>\n",
              "  <tbody>\n",
              "    <tr>\n",
              "      <td>0</td>\n",
              "      <td>2.168357</td>\n",
              "      <td>0.962751</td>\n",
              "      <td>0.598425</td>\n",
              "      <td>01:10</td>\n",
              "    </tr>\n",
              "    <tr>\n",
              "      <td>1</td>\n",
              "      <td>1.484199</td>\n",
              "      <td>0.676659</td>\n",
              "      <td>0.732283</td>\n",
              "      <td>01:09</td>\n",
              "    </tr>\n",
              "    <tr>\n",
              "      <td>2</td>\n",
              "      <td>1.136033</td>\n",
              "      <td>0.548316</td>\n",
              "      <td>0.834646</td>\n",
              "      <td>01:10</td>\n",
              "    </tr>\n",
              "    <tr>\n",
              "      <td>3</td>\n",
              "      <td>0.941395</td>\n",
              "      <td>0.513484</td>\n",
              "      <td>0.858268</td>\n",
              "      <td>01:09</td>\n",
              "    </tr>\n",
              "  </tbody>\n",
              "</table>"
            ],
            "text/plain": [
              "<IPython.core.display.HTML object>"
            ]
          },
          "metadata": {
            "tags": []
          }
        },
        {
          "output_type": "stream",
          "text": [
            "CPU times: user 3 µs, sys: 0 ns, total: 3 µs\n",
            "Wall time: 6.44 µs\n"
          ],
          "name": "stdout"
        }
      ]
    },
    {
      "cell_type": "code",
      "metadata": {
        "id": "XWuV8SkweYH1",
        "colab_type": "code",
        "colab": {
          "base_uri": "https://localhost:8080/",
          "height": 17
        },
        "outputId": "42fd4be3-dd66-478f-af38-4bf7299844ee"
      },
      "source": [
        "interp2 = ClassificationInterpretation.from_learner(learn2)"
      ],
      "execution_count": 75,
      "outputs": [
        {
          "output_type": "display_data",
          "data": {
            "text/html": [
              ""
            ],
            "text/plain": [
              "<IPython.core.display.HTML object>"
            ]
          },
          "metadata": {
            "tags": []
          }
        }
      ]
    },
    {
      "cell_type": "code",
      "metadata": {
        "id": "FiJCmWlFemPs",
        "colab_type": "code",
        "colab": {
          "base_uri": "https://localhost:8080/",
          "height": 311
        },
        "outputId": "74821065-96c2-4458-dc47-c2fcfff5c303"
      },
      "source": [
        "interp2.plot_confusion_matrix()"
      ],
      "execution_count": 76,
      "outputs": [
        {
          "output_type": "display_data",
          "data": {
            "image/png": "[encoded data removed]",
            "text/plain": [
              "<Figure size 432x288 with 1 Axes>"
            ]
          },
          "metadata": {
            "tags": [],
            "needs_background": "light"
          }
        }
      ]
    },
    {
      "cell_type": "code",
      "metadata": {
        "id": "q9sR5qx5u8so",
        "colab_type": "code",
        "colab": {}
      },
      "source": [
        "import tensorflow as tf"
      ],
      "execution_count": 18,
      "outputs": []
    },
    {
      "cell_type": "markdown",
      "metadata": {
        "id": "bZHQEAOADnBP",
        "colab_type": "text"
      },
      "source": [
        "Resetnet50"
      ]
    },
    {
      "cell_type": "code",
      "metadata": {
        "id": "pFUvl-jlBKQ9",
        "colab_type": "code",
        "colab": {
          "base_uri": "https://localhost:8080/",
          "height": 87
        },
        "outputId": "ec459b03-5adb-4c7a-9333-bee3600bcbea"
      },
      "source": [
        "from keras.preprocessing.image import ImageDataGenerator\n",
        "\n",
        "\n",
        "train_datagen = ImageDataGenerator(rescale=1./255,\n",
        "    shear_range=0.2,\n",
        "    zoom_range=0.2,\n",
        "    horizontal_flip=True)\n",
        "test_datagen = ImageDataGenerator()\n",
        "                                 \n",
        "train_generator = train_datagen.flow_from_directory(\n",
        "    directory=(path+\"/train\"),\n",
        "    target_size=(224, 224),\n",
        "    batch_size=64,\n",
        "    class_mode=\"categorical\",\n",
        ")\n",
        "valid_generator = train_datagen.flow_from_directory(\n",
        "    directory=(path+\"/valid\"),\n",
        "    target_size=(224, 224),\n",
        "    batch_size=64,\n",
        "    class_mode=\"categorical\",\n",
        "    \n",
        ")\n",
        "test_generator = test_datagen.flow_from_directory(\n",
        "    directory=(path+\"/test\"),\n",
        "    target_size=(224, 224),\n",
        "    batch_size=1,\n",
        "    class_mode=None\n",
        ")\n",
        "\n",
        "\n",
        "\n",
        "filenames = test_generator.filenames\n",
        "nb_samples = len(filenames)\n",
        "\n",
        "\n"
      ],
      "execution_count": 19,
      "outputs": [
        {
          "output_type": "stream",
          "text": [
            "Using TensorFlow backend.\n"
          ],
          "name": "stderr"
        },
        {
          "output_type": "stream",
          "text": [
            "Found 415 images belonging to 4 classes.\n",
            "Found 120 images belonging to 4 classes.\n",
            "Found 100 images belonging to 4 classes.\n"
          ],
          "name": "stdout"
        }
      ]
    },
    {
      "cell_type": "code",
      "metadata": {
        "id": "g9w_fTnBB7Je",
        "colab_type": "code",
        "colab": {}
      },
      "source": [
        "from tensorflow.keras.applications.resnet50 import ResNet50\n",
        "from keras.applications.resnet50 import preprocess_input\n",
        "from tensorflow.keras.preprocessing import image\n",
        "#from tensorflow.keras.applications.vgg16 import preprocess_input\n",
        "import numpy as np\n",
        "from tensorflow.keras.layers import Dense, Activation, Flatten,GlobalAveragePooling2D,Dropout\n",
        "from tensorflow.keras.layers import  Input\n",
        "from tensorflow.keras.models import  Model,Sequential\n",
        "from tensorflow.python.keras import optimizers"
      ],
      "execution_count": 20,
      "outputs": []
    },
    {
      "cell_type": "code",
      "metadata": {
        "id": "RFcJlhmmBZHM",
        "colab_type": "code",
        "colab": {
          "base_uri": "https://localhost:8080/",
          "height": 295
        },
        "outputId": "6325ba2f-8fe5-4a96-a9f9-d625d068caa0"
      },
      "source": [
        "image_input = Input(shape=(224, 224, 3))\n",
        "Restnet50 = Sequential()\n",
        "Restnet50.add(ResNet50(include_top=False, pooling='avg', weights='imagenet'))\n",
        "Restnet50.add(Dense(50, activation='relu'))\n",
        "Restnet50.add(Dense(4, activation='softmax'))\n",
        "Restnet50.compile(optimizer=\"adam\",loss=\"categorical_crossentropy\",metrics=[\"accuracy\"])\n",
        "\n",
        "\n",
        "# Say not to train first layer (ResNet) model. It is already trained\n",
        "Restnet50.layers[0].trainable = False\n",
        "Restnet50.summary()"
      ],
      "execution_count": 21,
      "outputs": [
        {
          "output_type": "stream",
          "text": [
            "Downloading data from https://storage.googleapis.com/tensorflow/keras-applications/resnet/resnet50_weights_tf_dim_ordering_tf_kernels_notop.h5\n",
            "94773248/94765736 [==============================] - 1s 0us/step\n",
            "Model: \"sequential\"\n",
            "_________________________________________________________________\n",
            "Layer (type)                 Output Shape              Param #   \n",
            "=================================================================\n",
            "resnet50 (Model)             (None, 2048)              23587712  \n",
            "_________________________________________________________________\n",
            "dense (Dense)                (None, 50)                102450    \n",
            "_________________________________________________________________\n",
            "dense_1 (Dense)              (None, 4)                 204       \n",
            "=================================================================\n",
            "Total params: 23,690,366\n",
            "Trainable params: 102,654\n",
            "Non-trainable params: 23,587,712\n",
            "_________________________________________________________________\n"
          ],
          "name": "stdout"
        }
      ]
    },
    {
      "cell_type": "code",
      "metadata": {
        "id": "LWLJ4nCjDGLN",
        "colab_type": "code",
        "colab": {
          "base_uri": "https://localhost:8080/",
          "height": 245
        },
        "outputId": "e5171877-af51-4d16-d8cd-24e6e693ebd9"
      },
      "source": [
        "Restnet50.fit_generator(generator=train_generator,\n",
        "                    verbose=1,\n",
        "                    epochs=4,\n",
        "                    validation_data=valid_generator)\n",
        "\n",
        "%time"
      ],
      "execution_count": 22,
      "outputs": [
        {
          "output_type": "stream",
          "text": [
            "WARNING:tensorflow:From <ipython-input-22-c76b78e84e57>:4: Model.fit_generator (from tensorflow.python.keras.engine.training) is deprecated and will be removed in a future version.\n",
            "Instructions for updating:\n",
            "Please use Model.fit, which supports generators.\n",
            "Epoch 1/4\n",
            "7/7 [==============================] - 258s 37s/step - loss: 0.9276 - accuracy: 0.6988 - val_loss: 182.8060 - val_accuracy: 0.2000\n",
            "Epoch 2/4\n",
            "7/7 [==============================] - 260s 37s/step - loss: 0.4811 - accuracy: 0.8458 - val_loss: 493.1225 - val_accuracy: 0.1833\n",
            "Epoch 3/4\n",
            "7/7 [==============================] - 259s 37s/step - loss: 0.4195 - accuracy: 0.8723 - val_loss: 428.1978 - val_accuracy: 0.1833\n",
            "Epoch 4/4\n",
            "7/7 [==============================] - 261s 37s/step - loss: 0.4275 - accuracy: 0.8723 - val_loss: 9.9565 - val_accuracy: 0.3000\n"
          ],
          "name": "stdout"
        },
        {
          "output_type": "execute_result",
          "data": {
            "text/plain": [
              "<tensorflow.python.keras.callbacks.History at 0x7fc551628b38>"
            ]
          },
          "metadata": {
            "tags": []
          },
          "execution_count": 22
        }
      ]
    },
    {
      "cell_type": "code",
      "metadata": {
        "id": "RGFGyDsVSGZk",
        "colab_type": "code",
        "colab": {}
      },
      "source": [
        "# xception\n",
        "\n",
        "from tensorflow.keras.applications.xception import Xception"
      ],
      "execution_count": 23,
      "outputs": []
    },
    {
      "cell_type": "code",
      "metadata": {
        "id": "qOCpxJqEuoGM",
        "colab_type": "code",
        "colab": {
          "base_uri": "https://localhost:8080/",
          "height": 260
        },
        "outputId": "065ef88b-2fc6-438b-8012-f2fa1aa2f349"
      },
      "source": [
        "\n",
        "Xception=Sequential()\n",
        "Xception.add(tf.keras.applications.Xception(include_top=False, pooling='avg', weights='imagenet'))\n",
        "Xception.add(Dense(50, activation='relu'))\n",
        "Xception.add(Dense(4, activation='softmax'))\n",
        "Xception.compile(optimizer=\"adam\",loss=\"categorical_crossentropy\",metrics=[\"accuracy\"])\n",
        "\n",
        "Xception.layers[0].trainable = False\n",
        "Xception.summary()"
      ],
      "execution_count": 49,
      "outputs": [
        {
          "output_type": "stream",
          "text": [
            "Model: \"sequential_7\"\n",
            "_________________________________________________________________\n",
            "Layer (type)                 Output Shape              Param #   \n",
            "=================================================================\n",
            "xception (Model)             (None, 2048)              20861480  \n",
            "_________________________________________________________________\n",
            "dense_8 (Dense)              (None, 50)                102450    \n",
            "_________________________________________________________________\n",
            "dense_9 (Dense)              (None, 4)                 204       \n",
            "=================================================================\n",
            "Total params: 20,964,134\n",
            "Trainable params: 102,654\n",
            "Non-trainable params: 20,861,480\n",
            "_________________________________________________________________\n"
          ],
          "name": "stdout"
        }
      ]
    },
    {
      "cell_type": "code",
      "metadata": {
        "id": "-Yz0bUWpQyCb",
        "colab_type": "code",
        "colab": {
          "base_uri": "https://localhost:8080/",
          "height": 208
        },
        "outputId": "077e24e3-9af5-4fe9-e9ec-4214e4ced644"
      },
      "source": [
        "Xception.fit_generator(generator=train_generator,\n",
        "                    verbose=1,\n",
        "                    epochs=4,\n",
        "                    validation_data=valid_generator)\n",
        "\n",
        "%time"
      ],
      "execution_count": 50,
      "outputs": [
        {
          "output_type": "stream",
          "text": [
            "CPU times: user 3 µs, sys: 0 ns, total: 3 µs\n",
            "Wall time: 6.2 µs\n",
            "Epoch 1/4\n",
            "7/7 [==============================] - 340s 49s/step - loss: 0.7111 - accuracy: 0.7205 - val_loss: 0.5161 - val_accuracy: 0.8500\n",
            "Epoch 2/4\n",
            "7/7 [==============================] - 332s 47s/step - loss: 0.1620 - accuracy: 0.9470 - val_loss: 1.5251 - val_accuracy: 0.8167\n",
            "Epoch 3/4\n",
            "7/7 [==============================] - 325s 46s/step - loss: 0.1969 - accuracy: 0.9422 - val_loss: 0.9218 - val_accuracy: 0.8500\n",
            "Epoch 4/4\n",
            "7/7 [==============================] - 323s 46s/step - loss: 0.1677 - accuracy: 0.9542 - val_loss: 5.6105 - val_accuracy: 0.5333\n"
          ],
          "name": "stdout"
        },
        {
          "output_type": "execute_result",
          "data": {
            "text/plain": [
              "<tensorflow.python.keras.callbacks.History at 0x7fc5026307f0>"
            ]
          },
          "metadata": {
            "tags": []
          },
          "execution_count": 50
        }
      ]
    },
    {
      "cell_type": "code",
      "metadata": {
        "id": "Stvmt-RGOqwX",
        "colab_type": "code",
        "colab": {
          "base_uri": "https://localhost:8080/",
          "height": 295
        },
        "outputId": "ebfd4aa7-0152-49a8-8382-670b9ac77ba6"
      },
      "source": [
        "DenseNet121=Sequential()\n",
        "DenseNet121.add(tf.keras.applications.DenseNet121(include_top=False, pooling='avg', weights='imagenet'))\n",
        "DenseNet121.add(Dense(50, activation='relu'))\n",
        "DenseNet121.add(Dense(4, activation='softmax'))\n",
        "DenseNet121.compile(optimizer=\"adam\",loss=\"categorical_crossentropy\",metrics=[\"accuracy\"])\n",
        "\n",
        "DenseNet121.layers[0].trainable = False\n",
        "DenseNet121.summary()"
      ],
      "execution_count": 51,
      "outputs": [
        {
          "output_type": "stream",
          "text": [
            "Downloading data from https://storage.googleapis.com/tensorflow/keras-applications/densenet/densenet121_weights_tf_dim_ordering_tf_kernels_notop.h5\n",
            "29089792/29084464 [==============================] - 0s 0us/step\n",
            "Model: \"sequential_8\"\n",
            "_________________________________________________________________\n",
            "Layer (type)                 Output Shape              Param #   \n",
            "=================================================================\n",
            "densenet121 (Model)          (None, 1024)              7037504   \n",
            "_________________________________________________________________\n",
            "dense_10 (Dense)             (None, 50)                51250     \n",
            "_________________________________________________________________\n",
            "dense_11 (Dense)             (None, 4)                 204       \n",
            "=================================================================\n",
            "Total params: 7,088,958\n",
            "Trainable params: 51,454\n",
            "Non-trainable params: 7,037,504\n",
            "_________________________________________________________________\n"
          ],
          "name": "stdout"
        }
      ]
    },
    {
      "cell_type": "code",
      "metadata": {
        "id": "9WVe9-q7PDsY",
        "colab_type": "code",
        "colab": {
          "base_uri": "https://localhost:8080/",
          "height": 208
        },
        "outputId": "5cfc3d0a-1417-4f7b-8f11-cb0a01f5ca9b"
      },
      "source": [
        "DenseNet121.fit_generator(generator=train_generator,\n",
        "                    verbose=1,\n",
        "                    epochs=4,\n",
        "                    validation_data=valid_generator)\n",
        "\n",
        "%time"
      ],
      "execution_count": 52,
      "outputs": [
        {
          "output_type": "stream",
          "text": [
            "CPU times: user 4 µs, sys: 0 ns, total: 4 µs\n",
            "Wall time: 8.82 µs\n",
            "Epoch 1/4\n",
            "7/7 [==============================] - 279s 40s/step - loss: 0.8254 - accuracy: 0.6723 - val_loss: 1.5652 - val_accuracy: 0.3917\n",
            "Epoch 2/4\n",
            "7/7 [==============================] - 280s 40s/step - loss: 0.2298 - accuracy: 0.9084 - val_loss: 13.2952 - val_accuracy: 0.2167\n",
            "Epoch 3/4\n",
            "7/7 [==============================] - 277s 40s/step - loss: 0.2168 - accuracy: 0.9133 - val_loss: 2.4025 - val_accuracy: 0.3750\n",
            "Epoch 4/4\n",
            "7/7 [==============================] - 277s 40s/step - loss: 0.1890 - accuracy: 0.9349 - val_loss: 5.1526 - val_accuracy: 0.4167\n"
          ],
          "name": "stdout"
        },
        {
          "output_type": "execute_result",
          "data": {
            "text/plain": [
              "<tensorflow.python.keras.callbacks.History at 0x7fc507070278>"
            ]
          },
          "metadata": {
            "tags": []
          },
          "execution_count": 52
        }
      ]
    },
    {
      "cell_type": "markdown",
      "metadata": {
        "id": "L6YFlZB8gOYB",
        "colab_type": "text"
      },
      "source": [
        "# Conclusion\n",
        "\n",
        "Xception is the best model in terms of predictive accuracy.\n",
        "VGG16 is the better CNN."
      ]
    },
    {
      "cell_type": "code",
      "metadata": {
        "id": "XIocUXcegTUz",
        "colab_type": "code",
        "colab": {}
      },
      "source": [
        ""
      ],
      "execution_count": null,
      "outputs": []
    }
  ]
}