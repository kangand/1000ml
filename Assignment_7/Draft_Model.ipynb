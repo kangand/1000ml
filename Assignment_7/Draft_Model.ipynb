{
  "nbformat": 4,
  "nbformat_minor": 0,
  "metadata": {
    "kernelspec": {
      "display_name": "Python 3",
      "language": "python",
      "name": "python3"
    },
    "language_info": {
      "codemirror_mode": {
        "name": "ipython",
        "version": 3
      },
      "file_extension": ".py",
      "mimetype": "text/x-python",
      "name": "python",
      "nbconvert_exporter": "python",
      "pygments_lexer": "ipython3",
      "version": "3.7.3"
    },
    "colab": {
      "name": "Draft Model.ipynb",
      "provenance": [],
      "collapsed_sections": [],
      "include_colab_link": true
    },
    "widgets": {
      "application/vnd.jupyter.widget-state+json": {
        "5bf3c87a353344f0bb6516e155588bfb": {
          "model_module": "@jupyter-widgets/controls",
          "model_name": "HBoxModel",
          "state": {
            "_view_name": "HBoxView",
            "_dom_classes": [],
            "_model_name": "HBoxModel",
            "_view_module": "@jupyter-widgets/controls",
            "_model_module_version": "1.5.0",
            "_view_count": null,
            "_view_module_version": "1.5.0",
            "box_style": "",
            "layout": "IPY_MODEL_6dfbb6ee04d54d53bfbf4bdfcbb81325",
            "_model_module": "@jupyter-widgets/controls",
            "children": [
              "IPY_MODEL_b74c030a0ed646e78ea812ee72d82181",
              "IPY_MODEL_9bd76a5b55254d00a6a4a2a0e334cc8a"
            ]
          }
        },
        "6dfbb6ee04d54d53bfbf4bdfcbb81325": {
          "model_module": "@jupyter-widgets/base",
          "model_name": "LayoutModel",
          "state": {
            "_view_name": "LayoutView",
            "grid_template_rows": null,
            "right": null,
            "justify_content": null,
            "_view_module": "@jupyter-widgets/base",
            "overflow": null,
            "_model_module_version": "1.2.0",
            "_view_count": null,
            "flex_flow": null,
            "width": null,
            "min_width": null,
            "border": null,
            "align_items": null,
            "bottom": null,
            "_model_module": "@jupyter-widgets/base",
            "top": null,
            "grid_column": null,
            "overflow_y": null,
            "overflow_x": null,
            "grid_auto_flow": null,
            "grid_area": null,
            "grid_template_columns": null,
            "flex": null,
            "_model_name": "LayoutModel",
            "justify_items": null,
            "grid_row": null,
            "max_height": null,
            "align_content": null,
            "visibility": null,
            "align_self": null,
            "height": null,
            "min_height": null,
            "padding": null,
            "grid_auto_rows": null,
            "grid_gap": null,
            "max_width": null,
            "order": null,
            "_view_module_version": "1.2.0",
            "grid_template_areas": null,
            "object_position": null,
            "object_fit": null,
            "grid_auto_columns": null,
            "margin": null,
            "display": null,
            "left": null
          }
        },
        "b74c030a0ed646e78ea812ee72d82181": {
          "model_module": "@jupyter-widgets/controls",
          "model_name": "FloatProgressModel",
          "state": {
            "_view_name": "ProgressView",
            "style": "IPY_MODEL_ed678de8c1b447139f76cbab508ad836",
            "_dom_classes": [],
            "description": "100%",
            "_model_name": "FloatProgressModel",
            "bar_style": "success",
            "max": 87306240,
            "_view_module": "@jupyter-widgets/controls",
            "_model_module_version": "1.5.0",
            "value": 87306240,
            "_view_count": null,
            "_view_module_version": "1.5.0",
            "orientation": "horizontal",
            "min": 0,
            "description_tooltip": null,
            "_model_module": "@jupyter-widgets/controls",
            "layout": "IPY_MODEL_8f18930c17e247679bd5d34ab345dead"
          }
        },
        "9bd76a5b55254d00a6a4a2a0e334cc8a": {
          "model_module": "@jupyter-widgets/controls",
          "model_name": "HTMLModel",
          "state": {
            "_view_name": "HTMLView",
            "style": "IPY_MODEL_ccd76b6565f54306a0da8dceca3e6fc6",
            "_dom_classes": [],
            "description": "",
            "_model_name": "HTMLModel",
            "placeholder": "​",
            "_view_module": "@jupyter-widgets/controls",
            "_model_module_version": "1.5.0",
            "value": " 83.3M/83.3M [09:06&lt;00:00, 160kB/s]",
            "_view_count": null,
            "_view_module_version": "1.5.0",
            "description_tooltip": null,
            "_model_module": "@jupyter-widgets/controls",
            "layout": "IPY_MODEL_26616f4272f34ccc9c34783625aa986c"
          }
        },
        "ed678de8c1b447139f76cbab508ad836": {
          "model_module": "@jupyter-widgets/controls",
          "model_name": "ProgressStyleModel",
          "state": {
            "_view_name": "StyleView",
            "_model_name": "ProgressStyleModel",
            "description_width": "initial",
            "_view_module": "@jupyter-widgets/base",
            "_model_module_version": "1.5.0",
            "_view_count": null,
            "_view_module_version": "1.2.0",
            "bar_color": null,
            "_model_module": "@jupyter-widgets/controls"
          }
        },
        "8f18930c17e247679bd5d34ab345dead": {
          "model_module": "@jupyter-widgets/base",
          "model_name": "LayoutModel",
          "state": {
            "_view_name": "LayoutView",
            "grid_template_rows": null,
            "right": null,
            "justify_content": null,
            "_view_module": "@jupyter-widgets/base",
            "overflow": null,
            "_model_module_version": "1.2.0",
            "_view_count": null,
            "flex_flow": null,
            "width": null,
            "min_width": null,
            "border": null,
            "align_items": null,
            "bottom": null,
            "_model_module": "@jupyter-widgets/base",
            "top": null,
            "grid_column": null,
            "overflow_y": null,
            "overflow_x": null,
            "grid_auto_flow": null,
            "grid_area": null,
            "grid_template_columns": null,
            "flex": null,
            "_model_name": "LayoutModel",
            "justify_items": null,
            "grid_row": null,
            "max_height": null,
            "align_content": null,
            "visibility": null,
            "align_self": null,
            "height": null,
            "min_height": null,
            "padding": null,
            "grid_auto_rows": null,
            "grid_gap": null,
            "max_width": null,
            "order": null,
            "_view_module_version": "1.2.0",
            "grid_template_areas": null,
            "object_position": null,
            "object_fit": null,
            "grid_auto_columns": null,
            "margin": null,
            "display": null,
            "left": null
          }
        },
        "ccd76b6565f54306a0da8dceca3e6fc6": {
          "model_module": "@jupyter-widgets/controls",
          "model_name": "DescriptionStyleModel",
          "state": {
            "_view_name": "StyleView",
            "_model_name": "DescriptionStyleModel",
            "description_width": "",
            "_view_module": "@jupyter-widgets/base",
            "_model_module_version": "1.5.0",
            "_view_count": null,
            "_view_module_version": "1.2.0",
            "_model_module": "@jupyter-widgets/controls"
          }
        },
        "26616f4272f34ccc9c34783625aa986c": {
          "model_module": "@jupyter-widgets/base",
          "model_name": "LayoutModel",
          "state": {
            "_view_name": "LayoutView",
            "grid_template_rows": null,
            "right": null,
            "justify_content": null,
            "_view_module": "@jupyter-widgets/base",
            "overflow": null,
            "_model_module_version": "1.2.0",
            "_view_count": null,
            "flex_flow": null,
            "width": null,
            "min_width": null,
            "border": null,
            "align_items": null,
            "bottom": null,
            "_model_module": "@jupyter-widgets/base",
            "top": null,
            "grid_column": null,
            "overflow_y": null,
            "overflow_x": null,
            "grid_auto_flow": null,
            "grid_area": null,
            "grid_template_columns": null,
            "flex": null,
            "_model_name": "LayoutModel",
            "justify_items": null,
            "grid_row": null,
            "max_height": null,
            "align_content": null,
            "visibility": null,
            "align_self": null,
            "height": null,
            "min_height": null,
            "padding": null,
            "grid_auto_rows": null,
            "grid_gap": null,
            "max_width": null,
            "order": null,
            "_view_module_version": "1.2.0",
            "grid_template_areas": null,
            "object_position": null,
            "object_fit": null,
            "grid_auto_columns": null,
            "margin": null,
            "display": null,
            "left": null
          }
        },
        "da7bd20b25bb41dda6febb6183116382": {
          "model_module": "@jupyter-widgets/controls",
          "model_name": "HBoxModel",
          "state": {
            "_view_name": "HBoxView",
            "_dom_classes": [],
            "_model_name": "HBoxModel",
            "_view_module": "@jupyter-widgets/controls",
            "_model_module_version": "1.5.0",
            "_view_count": null,
            "_view_module_version": "1.5.0",
            "box_style": "",
            "layout": "IPY_MODEL_64deaaae3dfb496a9924a1450afd3161",
            "_model_module": "@jupyter-widgets/controls",
            "children": [
              "IPY_MODEL_3a9ca6e72c8e408da2a4513450be2dad",
              "IPY_MODEL_1ced3ed7a82c43b68de9f830cf5570d9",
              "IPY_MODEL_b46ea0bb08ea47cd8d3883dba7d988da",
              "IPY_MODEL_09fcd564b153401289834b5ea060b8a4",
              "IPY_MODEL_19e0d5ab1ca64dcd81b6513595c875a7"
            ]
          }
        },
        "64deaaae3dfb496a9924a1450afd3161": {
          "model_module": "@jupyter-widgets/base",
          "model_name": "LayoutModel",
          "state": {
            "_view_name": "LayoutView",
            "grid_template_rows": null,
            "right": null,
            "justify_content": null,
            "_view_module": "@jupyter-widgets/base",
            "overflow": null,
            "_model_module_version": "1.2.0",
            "_view_count": null,
            "flex_flow": null,
            "width": null,
            "min_width": null,
            "border": null,
            "align_items": null,
            "bottom": null,
            "_model_module": "@jupyter-widgets/base",
            "top": null,
            "grid_column": null,
            "overflow_y": null,
            "overflow_x": null,
            "grid_auto_flow": null,
            "grid_area": null,
            "grid_template_columns": null,
            "flex": null,
            "_model_name": "LayoutModel",
            "justify_items": null,
            "grid_row": null,
            "max_height": null,
            "align_content": null,
            "visibility": null,
            "align_self": null,
            "height": null,
            "min_height": null,
            "padding": null,
            "grid_auto_rows": null,
            "grid_gap": null,
            "max_width": null,
            "order": null,
            "_view_module_version": "1.2.0",
            "grid_template_areas": null,
            "object_position": null,
            "object_fit": null,
            "grid_auto_columns": null,
            "margin": null,
            "display": null,
            "left": null
          }
        },
        "3a9ca6e72c8e408da2a4513450be2dad": {
          "model_module": "@jupyter-widgets/controls",
          "model_name": "VBoxModel",
          "state": {
            "_view_name": "VBoxView",
            "_dom_classes": [],
            "_model_name": "VBoxModel",
            "_view_module": "@jupyter-widgets/controls",
            "_model_module_version": "1.5.0",
            "_view_count": null,
            "_view_module_version": "1.5.0",
            "box_style": "",
            "layout": "IPY_MODEL_b9da936fbdf441b08e83924b248a96a0",
            "_model_module": "@jupyter-widgets/controls",
            "children": [
              "IPY_MODEL_c84835805a464619944b1a88cc50f746",
              "IPY_MODEL_f761b5754f494bcf802bb082e38cc633",
              "IPY_MODEL_d5e03c065e3546c0a3c97d7656a621a4"
            ]
          }
        },
        "1ced3ed7a82c43b68de9f830cf5570d9": {
          "model_module": "@jupyter-widgets/controls",
          "model_name": "VBoxModel",
          "state": {
            "_view_name": "VBoxView",
            "_dom_classes": [],
            "_model_name": "VBoxModel",
            "_view_module": "@jupyter-widgets/controls",
            "_model_module_version": "1.5.0",
            "_view_count": null,
            "_view_module_version": "1.5.0",
            "box_style": "",
            "layout": "IPY_MODEL_b9da936fbdf441b08e83924b248a96a0",
            "_model_module": "@jupyter-widgets/controls",
            "children": [
              "IPY_MODEL_9370f601c4b6437d9481433da61f8ab3",
              "IPY_MODEL_889fb42ba3764099a1f2d3697ff02981",
              "IPY_MODEL_dd035f2ee3984487a4a06d92d364a427"
            ]
          }
        },
        "b46ea0bb08ea47cd8d3883dba7d988da": {
          "model_module": "@jupyter-widgets/controls",
          "model_name": "VBoxModel",
          "state": {
            "_view_name": "VBoxView",
            "_dom_classes": [],
            "_model_name": "VBoxModel",
            "_view_module": "@jupyter-widgets/controls",
            "_model_module_version": "1.5.0",
            "_view_count": null,
            "_view_module_version": "1.5.0",
            "box_style": "",
            "layout": "IPY_MODEL_b9da936fbdf441b08e83924b248a96a0",
            "_model_module": "@jupyter-widgets/controls",
            "children": [
              "IPY_MODEL_6d61b13c3a3145868b9ae92cc4ae784b",
              "IPY_MODEL_a9e5a081e2474bd8a79532aa0e4001a4",
              "IPY_MODEL_1fa915ed29e24024bf6ed43f42de69d0"
            ]
          }
        },
        "09fcd564b153401289834b5ea060b8a4": {
          "model_module": "@jupyter-widgets/controls",
          "model_name": "VBoxModel",
          "state": {
            "_view_name": "VBoxView",
            "_dom_classes": [],
            "_model_name": "VBoxModel",
            "_view_module": "@jupyter-widgets/controls",
            "_model_module_version": "1.5.0",
            "_view_count": null,
            "_view_module_version": "1.5.0",
            "box_style": "",
            "layout": "IPY_MODEL_b9da936fbdf441b08e83924b248a96a0",
            "_model_module": "@jupyter-widgets/controls",
            "children": [
              "IPY_MODEL_a133b3994a9e40a8a37ecd4e613070e6",
              "IPY_MODEL_08f2a113dffe4ab29edd9dcd0580721c",
              "IPY_MODEL_17da2d5437a0497ab9e22bb4e4c264df"
            ]
          }
        },
        "19e0d5ab1ca64dcd81b6513595c875a7": {
          "model_module": "@jupyter-widgets/controls",
          "model_name": "VBoxModel",
          "state": {
            "_view_name": "VBoxView",
            "_dom_classes": [],
            "_model_name": "VBoxModel",
            "_view_module": "@jupyter-widgets/controls",
            "_model_module_version": "1.5.0",
            "_view_count": null,
            "_view_module_version": "1.5.0",
            "box_style": "",
            "layout": "IPY_MODEL_b9da936fbdf441b08e83924b248a96a0",
            "_model_module": "@jupyter-widgets/controls",
            "children": [
              "IPY_MODEL_778fd22038fb475c850c7156e439f871",
              "IPY_MODEL_25c6fd3891a549aca925d09b966c36ff",
              "IPY_MODEL_917248f095b044f8a25bfd39753286ba"
            ]
          }
        },
        "b9da936fbdf441b08e83924b248a96a0": {
          "model_module": "@jupyter-widgets/base",
          "model_name": "LayoutModel",
          "state": {
            "_view_name": "LayoutView",
            "grid_template_rows": null,
            "right": null,
            "justify_content": null,
            "_view_module": "@jupyter-widgets/base",
            "overflow": null,
            "_model_module_version": "1.2.0",
            "_view_count": null,
            "flex_flow": null,
            "width": "auto",
            "min_width": null,
            "border": null,
            "align_items": null,
            "bottom": null,
            "_model_module": "@jupyter-widgets/base",
            "top": null,
            "grid_column": null,
            "overflow_y": null,
            "overflow_x": "hidden",
            "grid_auto_flow": null,
            "grid_area": null,
            "grid_template_columns": null,
            "flex": null,
            "_model_name": "LayoutModel",
            "justify_items": null,
            "grid_row": null,
            "max_height": null,
            "align_content": null,
            "visibility": null,
            "align_self": null,
            "height": "300px",
            "min_height": null,
            "padding": null,
            "grid_auto_rows": null,
            "grid_gap": null,
            "max_width": null,
            "order": null,
            "_view_module_version": "1.2.0",
            "grid_template_areas": null,
            "object_position": null,
            "object_fit": null,
            "grid_auto_columns": null,
            "margin": null,
            "display": null,
            "left": null
          }
        },
        "c84835805a464619944b1a88cc50f746": {
          "model_module": "@jupyter-widgets/controls",
          "model_name": "ImageModel",
          "state": {
            "_view_name": "ImageView",
            "_dom_classes": [],
            "_model_name": "ImageModel",
            "format": "jpg",
            "_view_module": "@jupyter-widgets/controls",
            "_model_module_version": "1.5.0",
            "_view_count": null,
            "width": "",
            "_view_module_version": "1.5.0",
            "layout": "IPY_MODEL_7ca705f119724403a9b33d7a75a1347b",
            "height": "",
            "_model_module": "@jupyter-widgets/controls"
          }
        },
        "f761b5754f494bcf802bb082e38cc633": {
          "model_module": "@jupyter-widgets/controls",
          "model_name": "DropdownModel",
          "state": {
            "_options_labels": [
              "bracelet",
              "earrings",
              "necklace",
              "ring"
            ],
            "_view_name": "DropdownView",
            "style": "IPY_MODEL_d282ed05766f47d28a8e55c3f97c2c71",
            "_dom_classes": [],
            "description": "",
            "_model_name": "DropdownModel",
            "index": 0,
            "_view_module": "@jupyter-widgets/controls",
            "_model_module_version": "1.5.0",
            "_view_count": null,
            "disabled": false,
            "_view_module_version": "1.5.0",
            "description_tooltip": null,
            "_model_module": "@jupyter-widgets/controls",
            "layout": "IPY_MODEL_ce9852bf78d04dceb9edecbe25386000"
          }
        },
        "d5e03c065e3546c0a3c97d7656a621a4": {
          "model_module": "@jupyter-widgets/controls",
          "model_name": "ButtonModel",
          "state": {
            "_view_name": "ButtonView",
            "style": "IPY_MODEL_2ed73233affe481681d64c81fbfcc7ee",
            "_dom_classes": [],
            "description": "Delete",
            "_model_name": "ButtonModel",
            "button_style": "",
            "_view_module": "@jupyter-widgets/controls",
            "_model_module_version": "1.5.0",
            "tooltip": "",
            "_view_count": null,
            "disabled": false,
            "_view_module_version": "1.5.0",
            "layout": "IPY_MODEL_6501853dc6bb46f4b3ca087290b00024",
            "_model_module": "@jupyter-widgets/controls",
            "icon": ""
          }
        },
        "9370f601c4b6437d9481433da61f8ab3": {
          "model_module": "@jupyter-widgets/controls",
          "model_name": "ImageModel",
          "state": {
            "_view_name": "ImageView",
            "_dom_classes": [],
            "_model_name": "ImageModel",
            "format": "jpg",
            "_view_module": "@jupyter-widgets/controls",
            "_model_module_version": "1.5.0",
            "_view_count": null,
            "width": "",
            "_view_module_version": "1.5.0",
            "layout": "IPY_MODEL_7ca705f119724403a9b33d7a75a1347b",
            "height": "",
            "_model_module": "@jupyter-widgets/controls"
          }
        },
        "889fb42ba3764099a1f2d3697ff02981": {
          "model_module": "@jupyter-widgets/controls",
          "model_name": "DropdownModel",
          "state": {
            "_options_labels": [
              "bracelet",
              "earrings",
              "necklace",
              "ring"
            ],
            "_view_name": "DropdownView",
            "style": "IPY_MODEL_178dd5cd33c343a38e11ba3fa5946e16",
            "_dom_classes": [],
            "description": "",
            "_model_name": "DropdownModel",
            "index": 0,
            "_view_module": "@jupyter-widgets/controls",
            "_model_module_version": "1.5.0",
            "_view_count": null,
            "disabled": false,
            "_view_module_version": "1.5.0",
            "description_tooltip": null,
            "_model_module": "@jupyter-widgets/controls",
            "layout": "IPY_MODEL_ce9852bf78d04dceb9edecbe25386000"
          }
        },
        "dd035f2ee3984487a4a06d92d364a427": {
          "model_module": "@jupyter-widgets/controls",
          "model_name": "ButtonModel",
          "state": {
            "_view_name": "ButtonView",
            "style": "IPY_MODEL_bda57ae8d11640af9cee25ce12f26247",
            "_dom_classes": [],
            "description": "Delete",
            "_model_name": "ButtonModel",
            "button_style": "",
            "_view_module": "@jupyter-widgets/controls",
            "_model_module_version": "1.5.0",
            "tooltip": "",
            "_view_count": null,
            "disabled": false,
            "_view_module_version": "1.5.0",
            "layout": "IPY_MODEL_6501853dc6bb46f4b3ca087290b00024",
            "_model_module": "@jupyter-widgets/controls",
            "icon": ""
          }
        },
        "6d61b13c3a3145868b9ae92cc4ae784b": {
          "model_module": "@jupyter-widgets/controls",
          "model_name": "ImageModel",
          "state": {
            "_view_name": "ImageView",
            "_dom_classes": [],
            "_model_name": "ImageModel",
            "format": "jpg",
            "_view_module": "@jupyter-widgets/controls",
            "_model_module_version": "1.5.0",
            "_view_count": null,
            "width": "",
            "_view_module_version": "1.5.0",
            "layout": "IPY_MODEL_7ca705f119724403a9b33d7a75a1347b",
            "height": "",
            "_model_module": "@jupyter-widgets/controls"
          }
        },
        "a9e5a081e2474bd8a79532aa0e4001a4": {
          "model_module": "@jupyter-widgets/controls",
          "model_name": "DropdownModel",
          "state": {
            "_options_labels": [
              "bracelet",
              "earrings",
              "necklace",
              "ring"
            ],
            "_view_name": "DropdownView",
            "style": "IPY_MODEL_8c2371adb57946b4928d1b5fe892f2f5",
            "_dom_classes": [],
            "description": "",
            "_model_name": "DropdownModel",
            "index": 0,
            "_view_module": "@jupyter-widgets/controls",
            "_model_module_version": "1.5.0",
            "_view_count": null,
            "disabled": false,
            "_view_module_version": "1.5.0",
            "description_tooltip": null,
            "_model_module": "@jupyter-widgets/controls",
            "layout": "IPY_MODEL_ce9852bf78d04dceb9edecbe25386000"
          }
        },
        "1fa915ed29e24024bf6ed43f42de69d0": {
          "model_module": "@jupyter-widgets/controls",
          "model_name": "ButtonModel",
          "state": {
            "_view_name": "ButtonView",
            "style": "IPY_MODEL_888c99b2dc664e62bb2eac38af5bf3db",
            "_dom_classes": [],
            "description": "Delete",
            "_model_name": "ButtonModel",
            "button_style": "",
            "_view_module": "@jupyter-widgets/controls",
            "_model_module_version": "1.5.0",
            "tooltip": "",
            "_view_count": null,
            "disabled": false,
            "_view_module_version": "1.5.0",
            "layout": "IPY_MODEL_6501853dc6bb46f4b3ca087290b00024",
            "_model_module": "@jupyter-widgets/controls",
            "icon": ""
          }
        },
        "a133b3994a9e40a8a37ecd4e613070e6": {
          "model_module": "@jupyter-widgets/controls",
          "model_name": "ImageModel",
          "state": {
            "_view_name": "ImageView",
            "_dom_classes": [],
            "_model_name": "ImageModel",
            "format": "jpg",
            "_view_module": "@jupyter-widgets/controls",
            "_model_module_version": "1.5.0",
            "_view_count": null,
            "width": "",
            "_view_module_version": "1.5.0",
            "layout": "IPY_MODEL_7ca705f119724403a9b33d7a75a1347b",
            "height": "",
            "_model_module": "@jupyter-widgets/controls"
          }
        },
        "08f2a113dffe4ab29edd9dcd0580721c": {
          "model_module": "@jupyter-widgets/controls",
          "model_name": "DropdownModel",
          "state": {
            "_options_labels": [
              "bracelet",
              "earrings",
              "necklace",
              "ring"
            ],
            "_view_name": "DropdownView",
            "style": "IPY_MODEL_1209aca65adf41718611b3aef73b8d56",
            "_dom_classes": [],
            "description": "",
            "_model_name": "DropdownModel",
            "index": 3,
            "_view_module": "@jupyter-widgets/controls",
            "_model_module_version": "1.5.0",
            "_view_count": null,
            "disabled": false,
            "_view_module_version": "1.5.0",
            "description_tooltip": null,
            "_model_module": "@jupyter-widgets/controls",
            "layout": "IPY_MODEL_ce9852bf78d04dceb9edecbe25386000"
          }
        },
        "17da2d5437a0497ab9e22bb4e4c264df": {
          "model_module": "@jupyter-widgets/controls",
          "model_name": "ButtonModel",
          "state": {
            "_view_name": "ButtonView",
            "style": "IPY_MODEL_4d3e0686d210406d92653f1b9c0013c8",
            "_dom_classes": [],
            "description": "Delete",
            "_model_name": "ButtonModel",
            "button_style": "",
            "_view_module": "@jupyter-widgets/controls",
            "_model_module_version": "1.5.0",
            "tooltip": "",
            "_view_count": null,
            "disabled": false,
            "_view_module_version": "1.5.0",
            "layout": "IPY_MODEL_6501853dc6bb46f4b3ca087290b00024",
            "_model_module": "@jupyter-widgets/controls",
            "icon": ""
          }
        },
        "778fd22038fb475c850c7156e439f871": {
          "model_module": "@jupyter-widgets/controls",
          "model_name": "ImageModel",
          "state": {
            "_view_name": "ImageView",
            "_dom_classes": [],
            "_model_name": "ImageModel",
            "format": "jpg",
            "_view_module": "@jupyter-widgets/controls",
            "_model_module_version": "1.5.0",
            "_view_count": null,
            "width": "",
            "_view_module_version": "1.5.0",
            "layout": "IPY_MODEL_7ca705f119724403a9b33d7a75a1347b",
            "height": "",
            "_model_module": "@jupyter-widgets/controls"
          }
        },
        "25c6fd3891a549aca925d09b966c36ff": {
          "model_module": "@jupyter-widgets/controls",
          "model_name": "DropdownModel",
          "state": {
            "_options_labels": [
              "bracelet",
              "earrings",
              "necklace",
              "ring"
            ],
            "_view_name": "DropdownView",
            "style": "IPY_MODEL_8afbe4e1ebc44491a4313d2b58c18ddd",
            "_dom_classes": [],
            "description": "",
            "_model_name": "DropdownModel",
            "index": 0,
            "_view_module": "@jupyter-widgets/controls",
            "_model_module_version": "1.5.0",
            "_view_count": null,
            "disabled": false,
            "_view_module_version": "1.5.0",
            "description_tooltip": null,
            "_model_module": "@jupyter-widgets/controls",
            "layout": "IPY_MODEL_ce9852bf78d04dceb9edecbe25386000"
          }
        },
        "917248f095b044f8a25bfd39753286ba": {
          "model_module": "@jupyter-widgets/controls",
          "model_name": "ButtonModel",
          "state": {
            "_view_name": "ButtonView",
            "style": "IPY_MODEL_12eec4f9864441019fe43672b36794a2",
            "_dom_classes": [],
            "description": "Delete",
            "_model_name": "ButtonModel",
            "button_style": "",
            "_view_module": "@jupyter-widgets/controls",
            "_model_module_version": "1.5.0",
            "tooltip": "",
            "_view_count": null,
            "disabled": false,
            "_view_module_version": "1.5.0",
            "layout": "IPY_MODEL_6501853dc6bb46f4b3ca087290b00024",
            "_model_module": "@jupyter-widgets/controls",
            "icon": ""
          }
        },
        "7ca705f119724403a9b33d7a75a1347b": {
          "model_module": "@jupyter-widgets/base",
          "model_name": "LayoutModel",
          "state": {
            "_view_name": "LayoutView",
            "grid_template_rows": null,
            "right": null,
            "justify_content": null,
            "_view_module": "@jupyter-widgets/base",
            "overflow": null,
            "_model_module_version": "1.2.0",
            "_view_count": null,
            "flex_flow": null,
            "width": "300px",
            "min_width": null,
            "border": null,
            "align_items": null,
            "bottom": null,
            "_model_module": "@jupyter-widgets/base",
            "top": null,
            "grid_column": null,
            "overflow_y": null,
            "overflow_x": null,
            "grid_auto_flow": null,
            "grid_area": null,
            "grid_template_columns": null,
            "flex": null,
            "_model_name": "LayoutModel",
            "justify_items": null,
            "grid_row": null,
            "max_height": null,
            "align_content": null,
            "visibility": null,
            "align_self": null,
            "height": "250px",
            "min_height": null,
            "padding": null,
            "grid_auto_rows": null,
            "grid_gap": null,
            "max_width": null,
            "order": null,
            "_view_module_version": "1.2.0",
            "grid_template_areas": null,
            "object_position": null,
            "object_fit": null,
            "grid_auto_columns": null,
            "margin": null,
            "display": null,
            "left": null
          }
        },
        "d282ed05766f47d28a8e55c3f97c2c71": {
          "model_module": "@jupyter-widgets/controls",
          "model_name": "DescriptionStyleModel",
          "state": {
            "_view_name": "StyleView",
            "_model_name": "DescriptionStyleModel",
            "description_width": "",
            "_view_module": "@jupyter-widgets/base",
            "_model_module_version": "1.5.0",
            "_view_count": null,
            "_view_module_version": "1.2.0",
            "_model_module": "@jupyter-widgets/controls"
          }
        },
        "ce9852bf78d04dceb9edecbe25386000": {
          "model_module": "@jupyter-widgets/base",
          "model_name": "LayoutModel",
          "state": {
            "_view_name": "LayoutView",
            "grid_template_rows": null,
            "right": null,
            "justify_content": null,
            "_view_module": "@jupyter-widgets/base",
            "overflow": null,
            "_model_module_version": "1.2.0",
            "_view_count": null,
            "flex_flow": null,
            "width": "auto",
            "min_width": null,
            "border": null,
            "align_items": null,
            "bottom": null,
            "_model_module": "@jupyter-widgets/base",
            "top": null,
            "grid_column": null,
            "overflow_y": null,
            "overflow_x": null,
            "grid_auto_flow": null,
            "grid_area": null,
            "grid_template_columns": null,
            "flex": null,
            "_model_name": "LayoutModel",
            "justify_items": null,
            "grid_row": null,
            "max_height": null,
            "align_content": null,
            "visibility": null,
            "align_self": null,
            "height": null,
            "min_height": null,
            "padding": null,
            "grid_auto_rows": null,
            "grid_gap": null,
            "max_width": null,
            "order": null,
            "_view_module_version": "1.2.0",
            "grid_template_areas": null,
            "object_position": null,
            "object_fit": null,
            "grid_auto_columns": null,
            "margin": null,
            "display": null,
            "left": null
          }
        },
        "2ed73233affe481681d64c81fbfcc7ee": {
          "model_module": "@jupyter-widgets/controls",
          "model_name": "ButtonStyleModel",
          "state": {
            "_view_name": "StyleView",
            "_model_name": "ButtonStyleModel",
            "_view_module": "@jupyter-widgets/base",
            "_model_module_version": "1.5.0",
            "_view_count": null,
            "button_color": null,
            "font_weight": "",
            "_view_module_version": "1.2.0",
            "_model_module": "@jupyter-widgets/controls"
          }
        },
        "6501853dc6bb46f4b3ca087290b00024": {
          "model_module": "@jupyter-widgets/base",
          "model_name": "LayoutModel",
          "state": {
            "_view_name": "LayoutView",
            "grid_template_rows": null,
            "right": null,
            "justify_content": null,
            "_view_module": "@jupyter-widgets/base",
            "overflow": null,
            "_model_module_version": "1.2.0",
            "_view_count": null,
            "flex_flow": null,
            "width": "auto",
            "min_width": null,
            "border": null,
            "align_items": null,
            "bottom": null,
            "_model_module": "@jupyter-widgets/base",
            "top": null,
            "grid_column": null,
            "overflow_y": null,
            "overflow_x": null,
            "grid_auto_flow": null,
            "grid_area": null,
            "grid_template_columns": null,
            "flex": null,
            "_model_name": "LayoutModel",
            "justify_items": null,
            "grid_row": null,
            "max_height": null,
            "align_content": null,
            "visibility": null,
            "align_self": null,
            "height": null,
            "min_height": null,
            "padding": null,
            "grid_auto_rows": null,
            "grid_gap": null,
            "max_width": null,
            "order": null,
            "_view_module_version": "1.2.0",
            "grid_template_areas": null,
            "object_position": null,
            "object_fit": null,
            "grid_auto_columns": null,
            "margin": null,
            "display": null,
            "left": null
          }
        },
        "178dd5cd33c343a38e11ba3fa5946e16": {
          "model_module": "@jupyter-widgets/controls",
          "model_name": "DescriptionStyleModel",
          "state": {
            "_view_name": "StyleView",
            "_model_name": "DescriptionStyleModel",
            "description_width": "",
            "_view_module": "@jupyter-widgets/base",
            "_model_module_version": "1.5.0",
            "_view_count": null,
            "_view_module_version": "1.2.0",
            "_model_module": "@jupyter-widgets/controls"
          }
        },
        "bda57ae8d11640af9cee25ce12f26247": {
          "model_module": "@jupyter-widgets/controls",
          "model_name": "ButtonStyleModel",
          "state": {
            "_view_name": "StyleView",
            "_model_name": "ButtonStyleModel",
            "_view_module": "@jupyter-widgets/base",
            "_model_module_version": "1.5.0",
            "_view_count": null,
            "button_color": null,
            "font_weight": "",
            "_view_module_version": "1.2.0",
            "_model_module": "@jupyter-widgets/controls"
          }
        },
        "8c2371adb57946b4928d1b5fe892f2f5": {
          "model_module": "@jupyter-widgets/controls",
          "model_name": "DescriptionStyleModel",
          "state": {
            "_view_name": "StyleView",
            "_model_name": "DescriptionStyleModel",
            "description_width": "",
            "_view_module": "@jupyter-widgets/base",
            "_model_module_version": "1.5.0",
            "_view_count": null,
            "_view_module_version": "1.2.0",
            "_model_module": "@jupyter-widgets/controls"
          }
        },
        "888c99b2dc664e62bb2eac38af5bf3db": {
          "model_module": "@jupyter-widgets/controls",
          "model_name": "ButtonStyleModel",
          "state": {
            "_view_name": "StyleView",
            "_model_name": "ButtonStyleModel",
            "_view_module": "@jupyter-widgets/base",
            "_model_module_version": "1.5.0",
            "_view_count": null,
            "button_color": null,
            "font_weight": "",
            "_view_module_version": "1.2.0",
            "_model_module": "@jupyter-widgets/controls"
          }
        },
        "1209aca65adf41718611b3aef73b8d56": {
          "model_module": "@jupyter-widgets/controls",
          "model_name": "DescriptionStyleModel",
          "state": {
            "_view_name": "StyleView",
            "_model_name": "DescriptionStyleModel",
            "description_width": "",
            "_view_module": "@jupyter-widgets/base",
            "_model_module_version": "1.5.0",
            "_view_count": null,
            "_view_module_version": "1.2.0",
            "_model_module": "@jupyter-widgets/controls"
          }
        },
        "4d3e0686d210406d92653f1b9c0013c8": {
          "model_module": "@jupyter-widgets/controls",
          "model_name": "ButtonStyleModel",
          "state": {
            "_view_name": "StyleView",
            "_model_name": "ButtonStyleModel",
            "_view_module": "@jupyter-widgets/base",
            "_model_module_version": "1.5.0",
            "_view_count": null,
            "button_color": null,
            "font_weight": "",
            "_view_module_version": "1.2.0",
            "_model_module": "@jupyter-widgets/controls"
          }
        },
        "8afbe4e1ebc44491a4313d2b58c18ddd": {
          "model_module": "@jupyter-widgets/controls",
          "model_name": "DescriptionStyleModel",
          "state": {
            "_view_name": "StyleView",
            "_model_name": "DescriptionStyleModel",
            "description_width": "",
            "_view_module": "@jupyter-widgets/base",
            "_model_module_version": "1.5.0",
            "_view_count": null,
            "_view_module_version": "1.2.0",
            "_model_module": "@jupyter-widgets/controls"
          }
        },
        "12eec4f9864441019fe43672b36794a2": {
          "model_module": "@jupyter-widgets/controls",
          "model_name": "ButtonStyleModel",
          "state": {
            "_view_name": "StyleView",
            "_model_name": "ButtonStyleModel",
            "_view_module": "@jupyter-widgets/base",
            "_model_module_version": "1.5.0",
            "_view_count": null,
            "button_color": null,
            "font_weight": "",
            "_view_module_version": "1.2.0",
            "_model_module": "@jupyter-widgets/controls"
          }
        },
        "0c34f17fc0e04342822c5e682d55a357": {
          "model_module": "@jupyter-widgets/controls",
          "model_name": "ButtonModel",
          "state": {
            "_view_name": "ButtonView",
            "style": "IPY_MODEL_1be3eeb53e9c48b198a8c50c78b8edec",
            "_dom_classes": [],
            "description": "Next Batch",
            "_model_name": "ButtonModel",
            "button_style": "primary",
            "_view_module": "@jupyter-widgets/controls",
            "_model_module_version": "1.5.0",
            "tooltip": "",
            "_view_count": null,
            "disabled": false,
            "_view_module_version": "1.5.0",
            "layout": "IPY_MODEL_6501853dc6bb46f4b3ca087290b00024",
            "_model_module": "@jupyter-widgets/controls",
            "icon": ""
          }
        },
        "1be3eeb53e9c48b198a8c50c78b8edec": {
          "model_module": "@jupyter-widgets/controls",
          "model_name": "ButtonStyleModel",
          "state": {
            "_view_name": "StyleView",
            "_model_name": "ButtonStyleModel",
            "_view_module": "@jupyter-widgets/base",
            "_model_module_version": "1.5.0",
            "_view_count": null,
            "button_color": null,
            "font_weight": "",
            "_view_module_version": "1.2.0",
            "_model_module": "@jupyter-widgets/controls"
          }
        },
        "8e45bcc54d864ba08019d9308e8cae9b": {
          "model_module": "@jupyter-widgets/controls",
          "model_name": "HBoxModel",
          "state": {
            "_view_name": "HBoxView",
            "_dom_classes": [],
            "_model_name": "HBoxModel",
            "_view_module": "@jupyter-widgets/controls",
            "_model_module_version": "1.5.0",
            "_view_count": null,
            "_view_module_version": "1.5.0",
            "box_style": "",
            "layout": "IPY_MODEL_64deaaae3dfb496a9924a1450afd3161",
            "_model_module": "@jupyter-widgets/controls",
            "children": [
              "IPY_MODEL_9761dae813a24b07b27a9cc01f2570b5",
              "IPY_MODEL_72a5343531924525a86da085e5ab4552",
              "IPY_MODEL_b74b648ab37f48859447c80e0280bacb",
              "IPY_MODEL_832e5735091f4905912b75ec0a09bc71",
              "IPY_MODEL_2a7f355b8d684741b69261d4135c1996"
            ]
          }
        },
        "9761dae813a24b07b27a9cc01f2570b5": {
          "model_module": "@jupyter-widgets/controls",
          "model_name": "VBoxModel",
          "state": {
            "_view_name": "VBoxView",
            "_dom_classes": [],
            "_model_name": "VBoxModel",
            "_view_module": "@jupyter-widgets/controls",
            "_model_module_version": "1.5.0",
            "_view_count": null,
            "_view_module_version": "1.5.0",
            "box_style": "",
            "layout": "IPY_MODEL_b9da936fbdf441b08e83924b248a96a0",
            "_model_module": "@jupyter-widgets/controls",
            "children": [
              "IPY_MODEL_63f77e7222de46b4a671c2a95022076b",
              "IPY_MODEL_cf4b3edf72574149a7341f44c81d597a",
              "IPY_MODEL_2c92faba4cba4c538c853b573a883124"
            ]
          }
        },
        "72a5343531924525a86da085e5ab4552": {
          "model_module": "@jupyter-widgets/controls",
          "model_name": "VBoxModel",
          "state": {
            "_view_name": "VBoxView",
            "_dom_classes": [],
            "_model_name": "VBoxModel",
            "_view_module": "@jupyter-widgets/controls",
            "_model_module_version": "1.5.0",
            "_view_count": null,
            "_view_module_version": "1.5.0",
            "box_style": "",
            "layout": "IPY_MODEL_b9da936fbdf441b08e83924b248a96a0",
            "_model_module": "@jupyter-widgets/controls",
            "children": [
              "IPY_MODEL_5d8ea8a71c564185a32bc46e8e39f541",
              "IPY_MODEL_d8b47c6d98cc4cd190e759d46eb25876",
              "IPY_MODEL_e6259088999b4aadabebde090cb3a5a8"
            ]
          }
        },
        "b74b648ab37f48859447c80e0280bacb": {
          "model_module": "@jupyter-widgets/controls",
          "model_name": "VBoxModel",
          "state": {
            "_view_name": "VBoxView",
            "_dom_classes": [],
            "_model_name": "VBoxModel",
            "_view_module": "@jupyter-widgets/controls",
            "_model_module_version": "1.5.0",
            "_view_count": null,
            "_view_module_version": "1.5.0",
            "box_style": "",
            "layout": "IPY_MODEL_b9da936fbdf441b08e83924b248a96a0",
            "_model_module": "@jupyter-widgets/controls",
            "children": [
              "IPY_MODEL_b5a0dbcb6e1a4e1ea48b7b16ee274d92",
              "IPY_MODEL_64366e33099a462c9d1dcd087bd2d91f",
              "IPY_MODEL_79d0db29c4ed4487ad3d13683f20e993"
            ]
          }
        },
        "832e5735091f4905912b75ec0a09bc71": {
          "model_module": "@jupyter-widgets/controls",
          "model_name": "VBoxModel",
          "state": {
            "_view_name": "VBoxView",
            "_dom_classes": [],
            "_model_name": "VBoxModel",
            "_view_module": "@jupyter-widgets/controls",
            "_model_module_version": "1.5.0",
            "_view_count": null,
            "_view_module_version": "1.5.0",
            "box_style": "",
            "layout": "IPY_MODEL_b9da936fbdf441b08e83924b248a96a0",
            "_model_module": "@jupyter-widgets/controls",
            "children": [
              "IPY_MODEL_30aa63db705341b2a7fe54c7aab53dd9",
              "IPY_MODEL_23798d45641a4775bd21b8b70786490a",
              "IPY_MODEL_e8aac425775240d2b092b7cf702f68c3"
            ]
          }
        },
        "2a7f355b8d684741b69261d4135c1996": {
          "model_module": "@jupyter-widgets/controls",
          "model_name": "VBoxModel",
          "state": {
            "_view_name": "VBoxView",
            "_dom_classes": [],
            "_model_name": "VBoxModel",
            "_view_module": "@jupyter-widgets/controls",
            "_model_module_version": "1.5.0",
            "_view_count": null,
            "_view_module_version": "1.5.0",
            "box_style": "",
            "layout": "IPY_MODEL_b9da936fbdf441b08e83924b248a96a0",
            "_model_module": "@jupyter-widgets/controls",
            "children": [
              "IPY_MODEL_a6a10717cb36469b8928703290bfa335",
              "IPY_MODEL_c6599245aa8c464fb356be7c2d0c677f",
              "IPY_MODEL_6266f7aef7d9454f8626cc5cd470b8bd"
            ]
          }
        },
        "63f77e7222de46b4a671c2a95022076b": {
          "model_module": "@jupyter-widgets/controls",
          "model_name": "ImageModel",
          "state": {
            "_view_name": "ImageView",
            "_dom_classes": [],
            "_model_name": "ImageModel",
            "format": "jpg",
            "_view_module": "@jupyter-widgets/controls",
            "_model_module_version": "1.5.0",
            "_view_count": null,
            "width": "",
            "_view_module_version": "1.5.0",
            "layout": "IPY_MODEL_7ca705f119724403a9b33d7a75a1347b",
            "height": "",
            "_model_module": "@jupyter-widgets/controls"
          }
        },
        "cf4b3edf72574149a7341f44c81d597a": {
          "model_module": "@jupyter-widgets/controls",
          "model_name": "DropdownModel",
          "state": {
            "_options_labels": [
              "bracelet",
              "earrings",
              "necklace",
              "ring"
            ],
            "_view_name": "DropdownView",
            "style": "IPY_MODEL_6b17b9aa2ad140218463e3e37bf5f030",
            "_dom_classes": [],
            "description": "",
            "_model_name": "DropdownModel",
            "index": 2,
            "_view_module": "@jupyter-widgets/controls",
            "_model_module_version": "1.5.0",
            "_view_count": null,
            "disabled": false,
            "_view_module_version": "1.5.0",
            "description_tooltip": null,
            "_model_module": "@jupyter-widgets/controls",
            "layout": "IPY_MODEL_ce9852bf78d04dceb9edecbe25386000"
          }
        },
        "2c92faba4cba4c538c853b573a883124": {
          "model_module": "@jupyter-widgets/controls",
          "model_name": "ButtonModel",
          "state": {
            "_view_name": "ButtonView",
            "style": "IPY_MODEL_c754eaaa342f4f9c8f716c9a3c05e3f1",
            "_dom_classes": [],
            "description": "Delete",
            "_model_name": "ButtonModel",
            "button_style": "",
            "_view_module": "@jupyter-widgets/controls",
            "_model_module_version": "1.5.0",
            "tooltip": "",
            "_view_count": null,
            "disabled": false,
            "_view_module_version": "1.5.0",
            "layout": "IPY_MODEL_6501853dc6bb46f4b3ca087290b00024",
            "_model_module": "@jupyter-widgets/controls",
            "icon": ""
          }
        },
        "5d8ea8a71c564185a32bc46e8e39f541": {
          "model_module": "@jupyter-widgets/controls",
          "model_name": "ImageModel",
          "state": {
            "_view_name": "ImageView",
            "_dom_classes": [],
            "_model_name": "ImageModel",
            "format": "jpg",
            "_view_module": "@jupyter-widgets/controls",
            "_model_module_version": "1.5.0",
            "_view_count": null,
            "width": "",
            "_view_module_version": "1.5.0",
            "layout": "IPY_MODEL_7ca705f119724403a9b33d7a75a1347b",
            "height": "",
            "_model_module": "@jupyter-widgets/controls"
          }
        },
        "d8b47c6d98cc4cd190e759d46eb25876": {
          "model_module": "@jupyter-widgets/controls",
          "model_name": "DropdownModel",
          "state": {
            "_options_labels": [
              "bracelet",
              "earrings",
              "necklace",
              "ring"
            ],
            "_view_name": "DropdownView",
            "style": "IPY_MODEL_41839cdc79d2475699d7998a10f24763",
            "_dom_classes": [],
            "description": "",
            "_model_name": "DropdownModel",
            "index": 2,
            "_view_module": "@jupyter-widgets/controls",
            "_model_module_version": "1.5.0",
            "_view_count": null,
            "disabled": false,
            "_view_module_version": "1.5.0",
            "description_tooltip": null,
            "_model_module": "@jupyter-widgets/controls",
            "layout": "IPY_MODEL_ce9852bf78d04dceb9edecbe25386000"
          }
        },
        "e6259088999b4aadabebde090cb3a5a8": {
          "model_module": "@jupyter-widgets/controls",
          "model_name": "ButtonModel",
          "state": {
            "_view_name": "ButtonView",
            "style": "IPY_MODEL_05577f443bf74b66bf1d722364ac667a",
            "_dom_classes": [],
            "description": "Delete",
            "_model_name": "ButtonModel",
            "button_style": "",
            "_view_module": "@jupyter-widgets/controls",
            "_model_module_version": "1.5.0",
            "tooltip": "",
            "_view_count": null,
            "disabled": false,
            "_view_module_version": "1.5.0",
            "layout": "IPY_MODEL_6501853dc6bb46f4b3ca087290b00024",
            "_model_module": "@jupyter-widgets/controls",
            "icon": ""
          }
        },
        "b5a0dbcb6e1a4e1ea48b7b16ee274d92": {
          "model_module": "@jupyter-widgets/controls",
          "model_name": "ImageModel",
          "state": {
            "_view_name": "ImageView",
            "_dom_classes": [],
            "_model_name": "ImageModel",
            "format": "jpg",
            "_view_module": "@jupyter-widgets/controls",
            "_model_module_version": "1.5.0",
            "_view_count": null,
            "width": "",
            "_view_module_version": "1.5.0",
            "layout": "IPY_MODEL_7ca705f119724403a9b33d7a75a1347b",
            "height": "",
            "_model_module": "@jupyter-widgets/controls"
          }
        },
        "64366e33099a462c9d1dcd087bd2d91f": {
          "model_module": "@jupyter-widgets/controls",
          "model_name": "DropdownModel",
          "state": {
            "_options_labels": [
              "bracelet",
              "earrings",
              "necklace",
              "ring"
            ],
            "_view_name": "DropdownView",
            "style": "IPY_MODEL_58845e91b03f49b2a4ca111620b926f9",
            "_dom_classes": [],
            "description": "",
            "_model_name": "DropdownModel",
            "index": 0,
            "_view_module": "@jupyter-widgets/controls",
            "_model_module_version": "1.5.0",
            "_view_count": null,
            "disabled": false,
            "_view_module_version": "1.5.0",
            "description_tooltip": null,
            "_model_module": "@jupyter-widgets/controls",
            "layout": "IPY_MODEL_ce9852bf78d04dceb9edecbe25386000"
          }
        },
        "79d0db29c4ed4487ad3d13683f20e993": {
          "model_module": "@jupyter-widgets/controls",
          "model_name": "ButtonModel",
          "state": {
            "_view_name": "ButtonView",
            "style": "IPY_MODEL_907bfb082f8f45758b5e06fbfd38f629",
            "_dom_classes": [],
            "description": "Delete",
            "_model_name": "ButtonModel",
            "button_style": "",
            "_view_module": "@jupyter-widgets/controls",
            "_model_module_version": "1.5.0",
            "tooltip": "",
            "_view_count": null,
            "disabled": false,
            "_view_module_version": "1.5.0",
            "layout": "IPY_MODEL_6501853dc6bb46f4b3ca087290b00024",
            "_model_module": "@jupyter-widgets/controls",
            "icon": ""
          }
        },
        "30aa63db705341b2a7fe54c7aab53dd9": {
          "model_module": "@jupyter-widgets/controls",
          "model_name": "ImageModel",
          "state": {
            "_view_name": "ImageView",
            "_dom_classes": [],
            "_model_name": "ImageModel",
            "format": "jpg",
            "_view_module": "@jupyter-widgets/controls",
            "_model_module_version": "1.5.0",
            "_view_count": null,
            "width": "",
            "_view_module_version": "1.5.0",
            "layout": "IPY_MODEL_7ca705f119724403a9b33d7a75a1347b",
            "height": "",
            "_model_module": "@jupyter-widgets/controls"
          }
        },
        "23798d45641a4775bd21b8b70786490a": {
          "model_module": "@jupyter-widgets/controls",
          "model_name": "DropdownModel",
          "state": {
            "_options_labels": [
              "bracelet",
              "earrings",
              "necklace",
              "ring"
            ],
            "_view_name": "DropdownView",
            "style": "IPY_MODEL_26898e74706e4253a26a7c5565579793",
            "_dom_classes": [],
            "description": "",
            "_model_name": "DropdownModel",
            "index": 1,
            "_view_module": "@jupyter-widgets/controls",
            "_model_module_version": "1.5.0",
            "_view_count": null,
            "disabled": false,
            "_view_module_version": "1.5.0",
            "description_tooltip": null,
            "_model_module": "@jupyter-widgets/controls",
            "layout": "IPY_MODEL_ce9852bf78d04dceb9edecbe25386000"
          }
        },
        "e8aac425775240d2b092b7cf702f68c3": {
          "model_module": "@jupyter-widgets/controls",
          "model_name": "ButtonModel",
          "state": {
            "_view_name": "ButtonView",
            "style": "IPY_MODEL_e3801a8a4b264400aa530d2b942166c3",
            "_dom_classes": [],
            "description": "Delete",
            "_model_name": "ButtonModel",
            "button_style": "",
            "_view_module": "@jupyter-widgets/controls",
            "_model_module_version": "1.5.0",
            "tooltip": "",
            "_view_count": null,
            "disabled": false,
            "_view_module_version": "1.5.0",
            "layout": "IPY_MODEL_6501853dc6bb46f4b3ca087290b00024",
            "_model_module": "@jupyter-widgets/controls",
            "icon": ""
          }
        },
        "a6a10717cb36469b8928703290bfa335": {
          "model_module": "@jupyter-widgets/controls",
          "model_name": "ImageModel",
          "state": {
            "_view_name": "ImageView",
            "_dom_classes": [],
            "_model_name": "ImageModel",
            "format": "jpg",
            "_view_module": "@jupyter-widgets/controls",
            "_model_module_version": "1.5.0",
            "_view_count": null,
            "width": "",
            "_view_module_version": "1.5.0",
            "layout": "IPY_MODEL_7ca705f119724403a9b33d7a75a1347b",
            "height": "",
            "_model_module": "@jupyter-widgets/controls"
          }
        },
        "c6599245aa8c464fb356be7c2d0c677f": {
          "model_module": "@jupyter-widgets/controls",
          "model_name": "DropdownModel",
          "state": {
            "_options_labels": [
              "bracelet",
              "earrings",
              "necklace",
              "ring"
            ],
            "_view_name": "DropdownView",
            "style": "IPY_MODEL_7c87ee8d6e1c4c61a9bc2c1513224f86",
            "_dom_classes": [],
            "description": "",
            "_model_name": "DropdownModel",
            "index": 1,
            "_view_module": "@jupyter-widgets/controls",
            "_model_module_version": "1.5.0",
            "_view_count": null,
            "disabled": false,
            "_view_module_version": "1.5.0",
            "description_tooltip": null,
            "_model_module": "@jupyter-widgets/controls",
            "layout": "IPY_MODEL_ce9852bf78d04dceb9edecbe25386000"
          }
        },
        "6266f7aef7d9454f8626cc5cd470b8bd": {
          "model_module": "@jupyter-widgets/controls",
          "model_name": "ButtonModel",
          "state": {
            "_view_name": "ButtonView",
            "style": "IPY_MODEL_ddcd5be8a4f24cdbb7c9803bfaaeb905",
            "_dom_classes": [],
            "description": "Delete",
            "_model_name": "ButtonModel",
            "button_style": "",
            "_view_module": "@jupyter-widgets/controls",
            "_model_module_version": "1.5.0",
            "tooltip": "",
            "_view_count": null,
            "disabled": false,
            "_view_module_version": "1.5.0",
            "layout": "IPY_MODEL_6501853dc6bb46f4b3ca087290b00024",
            "_model_module": "@jupyter-widgets/controls",
            "icon": ""
          }
        },
        "6b17b9aa2ad140218463e3e37bf5f030": {
          "model_module": "@jupyter-widgets/controls",
          "model_name": "DescriptionStyleModel",
          "state": {
            "_view_name": "StyleView",
            "_model_name": "DescriptionStyleModel",
            "description_width": "",
            "_view_module": "@jupyter-widgets/base",
            "_model_module_version": "1.5.0",
            "_view_count": null,
            "_view_module_version": "1.2.0",
            "_model_module": "@jupyter-widgets/controls"
          }
        },
        "c754eaaa342f4f9c8f716c9a3c05e3f1": {
          "model_module": "@jupyter-widgets/controls",
          "model_name": "ButtonStyleModel",
          "state": {
            "_view_name": "StyleView",
            "_model_name": "ButtonStyleModel",
            "_view_module": "@jupyter-widgets/base",
            "_model_module_version": "1.5.0",
            "_view_count": null,
            "button_color": null,
            "font_weight": "",
            "_view_module_version": "1.2.0",
            "_model_module": "@jupyter-widgets/controls"
          }
        },
        "41839cdc79d2475699d7998a10f24763": {
          "model_module": "@jupyter-widgets/controls",
          "model_name": "DescriptionStyleModel",
          "state": {
            "_view_name": "StyleView",
            "_model_name": "DescriptionStyleModel",
            "description_width": "",
            "_view_module": "@jupyter-widgets/base",
            "_model_module_version": "1.5.0",
            "_view_count": null,
            "_view_module_version": "1.2.0",
            "_model_module": "@jupyter-widgets/controls"
          }
        },
        "05577f443bf74b66bf1d722364ac667a": {
          "model_module": "@jupyter-widgets/controls",
          "model_name": "ButtonStyleModel",
          "state": {
            "_view_name": "StyleView",
            "_model_name": "ButtonStyleModel",
            "_view_module": "@jupyter-widgets/base",
            "_model_module_version": "1.5.0",
            "_view_count": null,
            "button_color": null,
            "font_weight": "",
            "_view_module_version": "1.2.0",
            "_model_module": "@jupyter-widgets/controls"
          }
        },
        "58845e91b03f49b2a4ca111620b926f9": {
          "model_module": "@jupyter-widgets/controls",
          "model_name": "DescriptionStyleModel",
          "state": {
            "_view_name": "StyleView",
            "_model_name": "DescriptionStyleModel",
            "description_width": "",
            "_view_module": "@jupyter-widgets/base",
            "_model_module_version": "1.5.0",
            "_view_count": null,
            "_view_module_version": "1.2.0",
            "_model_module": "@jupyter-widgets/controls"
          }
        },
        "907bfb082f8f45758b5e06fbfd38f629": {
          "model_module": "@jupyter-widgets/controls",
          "model_name": "ButtonStyleModel",
          "state": {
            "_view_name": "StyleView",
            "_model_name": "ButtonStyleModel",
            "_view_module": "@jupyter-widgets/base",
            "_model_module_version": "1.5.0",
            "_view_count": null,
            "button_color": null,
            "font_weight": "",
            "_view_module_version": "1.2.0",
            "_model_module": "@jupyter-widgets/controls"
          }
        },
        "26898e74706e4253a26a7c5565579793": {
          "model_module": "@jupyter-widgets/controls",
          "model_name": "DescriptionStyleModel",
          "state": {
            "_view_name": "StyleView",
            "_model_name": "DescriptionStyleModel",
            "description_width": "",
            "_view_module": "@jupyter-widgets/base",
            "_model_module_version": "1.5.0",
            "_view_count": null,
            "_view_module_version": "1.2.0",
            "_model_module": "@jupyter-widgets/controls"
          }
        },
        "e3801a8a4b264400aa530d2b942166c3": {
          "model_module": "@jupyter-widgets/controls",
          "model_name": "ButtonStyleModel",
          "state": {
            "_view_name": "StyleView",
            "_model_name": "ButtonStyleModel",
            "_view_module": "@jupyter-widgets/base",
            "_model_module_version": "1.5.0",
            "_view_count": null,
            "button_color": null,
            "font_weight": "",
            "_view_module_version": "1.2.0",
            "_model_module": "@jupyter-widgets/controls"
          }
        },
        "7c87ee8d6e1c4c61a9bc2c1513224f86": {
          "model_module": "@jupyter-widgets/controls",
          "model_name": "DescriptionStyleModel",
          "state": {
            "_view_name": "StyleView",
            "_model_name": "DescriptionStyleModel",
            "description_width": "",
            "_view_module": "@jupyter-widgets/base",
            "_model_module_version": "1.5.0",
            "_view_count": null,
            "_view_module_version": "1.2.0",
            "_model_module": "@jupyter-widgets/controls"
          }
        },
        "ddcd5be8a4f24cdbb7c9803bfaaeb905": {
          "model_module": "@jupyter-widgets/controls",
          "model_name": "ButtonStyleModel",
          "state": {
            "_view_name": "StyleView",
            "_model_name": "ButtonStyleModel",
            "_view_module": "@jupyter-widgets/base",
            "_model_module_version": "1.5.0",
            "_view_count": null,
            "button_color": null,
            "font_weight": "",
            "_view_module_version": "1.2.0",
            "_model_module": "@jupyter-widgets/controls"
          }
        },
        "0ef0e6b489114a00977e933904573016": {
          "model_module": "@jupyter-widgets/controls",
          "model_name": "ButtonModel",
          "state": {
            "_view_name": "ButtonView",
            "style": "IPY_MODEL_2045b289ea604bdfb68fa5e9f5470ffb",
            "_dom_classes": [],
            "description": "Next Batch",
            "_model_name": "ButtonModel",
            "button_style": "primary",
            "_view_module": "@jupyter-widgets/controls",
            "_model_module_version": "1.5.0",
            "tooltip": "",
            "_view_count": null,
            "disabled": false,
            "_view_module_version": "1.5.0",
            "layout": "IPY_MODEL_6501853dc6bb46f4b3ca087290b00024",
            "_model_module": "@jupyter-widgets/controls",
            "icon": ""
          }
        },
        "2045b289ea604bdfb68fa5e9f5470ffb": {
          "model_module": "@jupyter-widgets/controls",
          "model_name": "ButtonStyleModel",
          "state": {
            "_view_name": "StyleView",
            "_model_name": "ButtonStyleModel",
            "_view_module": "@jupyter-widgets/base",
            "_model_module_version": "1.5.0",
            "_view_count": null,
            "button_color": null,
            "font_weight": "",
            "_view_module_version": "1.2.0",
            "_model_module": "@jupyter-widgets/controls"
          }
        },
        "c1e67ee0ff0d4f9c85a01d65c38cc342": {
          "model_module": "@jupyter-widgets/controls",
          "model_name": "HBoxModel",
          "state": {
            "_view_name": "HBoxView",
            "_dom_classes": [],
            "_model_name": "HBoxModel",
            "_view_module": "@jupyter-widgets/controls",
            "_model_module_version": "1.5.0",
            "_view_count": null,
            "_view_module_version": "1.5.0",
            "box_style": "",
            "layout": "IPY_MODEL_64deaaae3dfb496a9924a1450afd3161",
            "_model_module": "@jupyter-widgets/controls",
            "children": [
              "IPY_MODEL_0be27464c3144f5d8e522741923bd39d",
              "IPY_MODEL_795c4203544746b9814b74cda6c23465",
              "IPY_MODEL_447f03a7c5c645b8be6851672e47e5b4",
              "IPY_MODEL_534f7d4847ef410ebafea1c485af0fcd",
              "IPY_MODEL_dcbde99c7ec54853a49e2e983ea7654b"
            ]
          }
        },
        "0be27464c3144f5d8e522741923bd39d": {
          "model_module": "@jupyter-widgets/controls",
          "model_name": "VBoxModel",
          "state": {
            "_view_name": "VBoxView",
            "_dom_classes": [],
            "_model_name": "VBoxModel",
            "_view_module": "@jupyter-widgets/controls",
            "_model_module_version": "1.5.0",
            "_view_count": null,
            "_view_module_version": "1.5.0",
            "box_style": "",
            "layout": "IPY_MODEL_b9da936fbdf441b08e83924b248a96a0",
            "_model_module": "@jupyter-widgets/controls",
            "children": [
              "IPY_MODEL_6c7346abd894443a901175c5e02f7b3d",
              "IPY_MODEL_179e6f4c03664b43b7e9c3ed429e9662",
              "IPY_MODEL_002273fcb10544599c91683edd275c70"
            ]
          }
        },
        "795c4203544746b9814b74cda6c23465": {
          "model_module": "@jupyter-widgets/controls",
          "model_name": "VBoxModel",
          "state": {
            "_view_name": "VBoxView",
            "_dom_classes": [],
            "_model_name": "VBoxModel",
            "_view_module": "@jupyter-widgets/controls",
            "_model_module_version": "1.5.0",
            "_view_count": null,
            "_view_module_version": "1.5.0",
            "box_style": "",
            "layout": "IPY_MODEL_b9da936fbdf441b08e83924b248a96a0",
            "_model_module": "@jupyter-widgets/controls",
            "children": [
              "IPY_MODEL_e4228c9b520b48ccb7b10cd0b2645ed0",
              "IPY_MODEL_29999458375c48e09cd8fcd79f99f2ac",
              "IPY_MODEL_49905aa4cf724690bd96f1065268d1bc"
            ]
          }
        },
        "447f03a7c5c645b8be6851672e47e5b4": {
          "model_module": "@jupyter-widgets/controls",
          "model_name": "VBoxModel",
          "state": {
            "_view_name": "VBoxView",
            "_dom_classes": [],
            "_model_name": "VBoxModel",
            "_view_module": "@jupyter-widgets/controls",
            "_model_module_version": "1.5.0",
            "_view_count": null,
            "_view_module_version": "1.5.0",
            "box_style": "",
            "layout": "IPY_MODEL_b9da936fbdf441b08e83924b248a96a0",
            "_model_module": "@jupyter-widgets/controls",
            "children": [
              "IPY_MODEL_58136ae68e1e4d66a73a625fd2b7dd98",
              "IPY_MODEL_3dbc280e772748f8b7f4bd642a1c53c8",
              "IPY_MODEL_381f4efed9a84219bf554504d78a7844"
            ]
          }
        },
        "534f7d4847ef410ebafea1c485af0fcd": {
          "model_module": "@jupyter-widgets/controls",
          "model_name": "VBoxModel",
          "state": {
            "_view_name": "VBoxView",
            "_dom_classes": [],
            "_model_name": "VBoxModel",
            "_view_module": "@jupyter-widgets/controls",
            "_model_module_version": "1.5.0",
            "_view_count": null,
            "_view_module_version": "1.5.0",
            "box_style": "",
            "layout": "IPY_MODEL_b9da936fbdf441b08e83924b248a96a0",
            "_model_module": "@jupyter-widgets/controls",
            "children": [
              "IPY_MODEL_18bacbabc2cd4ea2963dada288c38a2f",
              "IPY_MODEL_1c64a94289034e75806463da31cd0641",
              "IPY_MODEL_5b9d5fb84d8a420787ded4ce68f3f3a1"
            ]
          }
        },
        "dcbde99c7ec54853a49e2e983ea7654b": {
          "model_module": "@jupyter-widgets/controls",
          "model_name": "VBoxModel",
          "state": {
            "_view_name": "VBoxView",
            "_dom_classes": [],
            "_model_name": "VBoxModel",
            "_view_module": "@jupyter-widgets/controls",
            "_model_module_version": "1.5.0",
            "_view_count": null,
            "_view_module_version": "1.5.0",
            "box_style": "",
            "layout": "IPY_MODEL_b9da936fbdf441b08e83924b248a96a0",
            "_model_module": "@jupyter-widgets/controls",
            "children": [
              "IPY_MODEL_9a3382174b3f458ea740578c321e5782",
              "IPY_MODEL_7279fd0b259c4d62b3e811acb912abdd",
              "IPY_MODEL_1a9a4d8eafa64cd0beb0b0970763a9c4"
            ]
          }
        },
        "6c7346abd894443a901175c5e02f7b3d": {
          "model_module": "@jupyter-widgets/controls",
          "model_name": "ImageModel",
          "state": {
            "_view_name": "ImageView",
            "_dom_classes": [],
            "_model_name": "ImageModel",
            "format": "jpg",
            "_view_module": "@jupyter-widgets/controls",
            "_model_module_version": "1.5.0",
            "_view_count": null,
            "width": "",
            "_view_module_version": "1.5.0",
            "layout": "IPY_MODEL_7ca705f119724403a9b33d7a75a1347b",
            "height": "",
            "_model_module": "@jupyter-widgets/controls"
          }
        },
        "179e6f4c03664b43b7e9c3ed429e9662": {
          "model_module": "@jupyter-widgets/controls",
          "model_name": "DropdownModel",
          "state": {
            "_options_labels": [
              "bracelet",
              "earrings",
              "necklace",
              "ring"
            ],
            "_view_name": "DropdownView",
            "style": "IPY_MODEL_32a506b4345f44c984249fa275d1c94a",
            "_dom_classes": [],
            "description": "",
            "_model_name": "DropdownModel",
            "index": 1,
            "_view_module": "@jupyter-widgets/controls",
            "_model_module_version": "1.5.0",
            "_view_count": null,
            "disabled": false,
            "_view_module_version": "1.5.0",
            "description_tooltip": null,
            "_model_module": "@jupyter-widgets/controls",
            "layout": "IPY_MODEL_ce9852bf78d04dceb9edecbe25386000"
          }
        },
        "002273fcb10544599c91683edd275c70": {
          "model_module": "@jupyter-widgets/controls",
          "model_name": "ButtonModel",
          "state": {
            "_view_name": "ButtonView",
            "style": "IPY_MODEL_da2a630400d14161aaeafca9579a3ee7",
            "_dom_classes": [],
            "description": "Delete",
            "_model_name": "ButtonModel",
            "button_style": "",
            "_view_module": "@jupyter-widgets/controls",
            "_model_module_version": "1.5.0",
            "tooltip": "",
            "_view_count": null,
            "disabled": false,
            "_view_module_version": "1.5.0",
            "layout": "IPY_MODEL_6501853dc6bb46f4b3ca087290b00024",
            "_model_module": "@jupyter-widgets/controls",
            "icon": ""
          }
        },
        "e4228c9b520b48ccb7b10cd0b2645ed0": {
          "model_module": "@jupyter-widgets/controls",
          "model_name": "ImageModel",
          "state": {
            "_view_name": "ImageView",
            "_dom_classes": [],
            "_model_name": "ImageModel",
            "format": "jpg",
            "_view_module": "@jupyter-widgets/controls",
            "_model_module_version": "1.5.0",
            "_view_count": null,
            "width": "",
            "_view_module_version": "1.5.0",
            "layout": "IPY_MODEL_7ca705f119724403a9b33d7a75a1347b",
            "height": "",
            "_model_module": "@jupyter-widgets/controls"
          }
        },
        "29999458375c48e09cd8fcd79f99f2ac": {
          "model_module": "@jupyter-widgets/controls",
          "model_name": "DropdownModel",
          "state": {
            "_options_labels": [
              "bracelet",
              "earrings",
              "necklace",
              "ring"
            ],
            "_view_name": "DropdownView",
            "style": "IPY_MODEL_b1d430614db840b1a035f7d39f95260b",
            "_dom_classes": [],
            "description": "",
            "_model_name": "DropdownModel",
            "index": 0,
            "_view_module": "@jupyter-widgets/controls",
            "_model_module_version": "1.5.0",
            "_view_count": null,
            "disabled": false,
            "_view_module_version": "1.5.0",
            "description_tooltip": null,
            "_model_module": "@jupyter-widgets/controls",
            "layout": "IPY_MODEL_ce9852bf78d04dceb9edecbe25386000"
          }
        },
        "49905aa4cf724690bd96f1065268d1bc": {
          "model_module": "@jupyter-widgets/controls",
          "model_name": "ButtonModel",
          "state": {
            "_view_name": "ButtonView",
            "style": "IPY_MODEL_76ec0cd96c6d4f36932ace5382d4de4e",
            "_dom_classes": [],
            "description": "Delete",
            "_model_name": "ButtonModel",
            "button_style": "",
            "_view_module": "@jupyter-widgets/controls",
            "_model_module_version": "1.5.0",
            "tooltip": "",
            "_view_count": null,
            "disabled": false,
            "_view_module_version": "1.5.0",
            "layout": "IPY_MODEL_6501853dc6bb46f4b3ca087290b00024",
            "_model_module": "@jupyter-widgets/controls",
            "icon": ""
          }
        },
        "58136ae68e1e4d66a73a625fd2b7dd98": {
          "model_module": "@jupyter-widgets/controls",
          "model_name": "ImageModel",
          "state": {
            "_view_name": "ImageView",
            "_dom_classes": [],
            "_model_name": "ImageModel",
            "format": "jpg",
            "_view_module": "@jupyter-widgets/controls",
            "_model_module_version": "1.5.0",
            "_view_count": null,
            "width": "",
            "_view_module_version": "1.5.0",
            "layout": "IPY_MODEL_7ca705f119724403a9b33d7a75a1347b",
            "height": "",
            "_model_module": "@jupyter-widgets/controls"
          }
        },
        "3dbc280e772748f8b7f4bd642a1c53c8": {
          "model_module": "@jupyter-widgets/controls",
          "model_name": "DropdownModel",
          "state": {
            "_options_labels": [
              "bracelet",
              "earrings",
              "necklace",
              "ring"
            ],
            "_view_name": "DropdownView",
            "style": "IPY_MODEL_76232785461e46f4bc0cd5cda321ac88",
            "_dom_classes": [],
            "description": "",
            "_model_name": "DropdownModel",
            "index": 2,
            "_view_module": "@jupyter-widgets/controls",
            "_model_module_version": "1.5.0",
            "_view_count": null,
            "disabled": false,
            "_view_module_version": "1.5.0",
            "description_tooltip": null,
            "_model_module": "@jupyter-widgets/controls",
            "layout": "IPY_MODEL_ce9852bf78d04dceb9edecbe25386000"
          }
        },
        "381f4efed9a84219bf554504d78a7844": {
          "model_module": "@jupyter-widgets/controls",
          "model_name": "ButtonModel",
          "state": {
            "_view_name": "ButtonView",
            "style": "IPY_MODEL_84b020d76dcd45bebe4bf474da9d1d9b",
            "_dom_classes": [],
            "description": "Delete",
            "_model_name": "ButtonModel",
            "button_style": "",
            "_view_module": "@jupyter-widgets/controls",
            "_model_module_version": "1.5.0",
            "tooltip": "",
            "_view_count": null,
            "disabled": false,
            "_view_module_version": "1.5.0",
            "layout": "IPY_MODEL_6501853dc6bb46f4b3ca087290b00024",
            "_model_module": "@jupyter-widgets/controls",
            "icon": ""
          }
        },
        "18bacbabc2cd4ea2963dada288c38a2f": {
          "model_module": "@jupyter-widgets/controls",
          "model_name": "ImageModel",
          "state": {
            "_view_name": "ImageView",
            "_dom_classes": [],
            "_model_name": "ImageModel",
            "format": "jpg",
            "_view_module": "@jupyter-widgets/controls",
            "_model_module_version": "1.5.0",
            "_view_count": null,
            "width": "",
            "_view_module_version": "1.5.0",
            "layout": "IPY_MODEL_7ca705f119724403a9b33d7a75a1347b",
            "height": "",
            "_model_module": "@jupyter-widgets/controls"
          }
        },
        "1c64a94289034e75806463da31cd0641": {
          "model_module": "@jupyter-widgets/controls",
          "model_name": "DropdownModel",
          "state": {
            "_options_labels": [
              "bracelet",
              "earrings",
              "necklace",
              "ring"
            ],
            "_view_name": "DropdownView",
            "style": "IPY_MODEL_128a4210a0704bdf9dcddc9798ae09af",
            "_dom_classes": [],
            "description": "",
            "_model_name": "DropdownModel",
            "index": 3,
            "_view_module": "@jupyter-widgets/controls",
            "_model_module_version": "1.5.0",
            "_view_count": null,
            "disabled": false,
            "_view_module_version": "1.5.0",
            "description_tooltip": null,
            "_model_module": "@jupyter-widgets/controls",
            "layout": "IPY_MODEL_ce9852bf78d04dceb9edecbe25386000"
          }
        },
        "5b9d5fb84d8a420787ded4ce68f3f3a1": {
          "model_module": "@jupyter-widgets/controls",
          "model_name": "ButtonModel",
          "state": {
            "_view_name": "ButtonView",
            "style": "IPY_MODEL_27a6a42c79734a02b886681713e89856",
            "_dom_classes": [],
            "description": "Delete",
            "_model_name": "ButtonModel",
            "button_style": "",
            "_view_module": "@jupyter-widgets/controls",
            "_model_module_version": "1.5.0",
            "tooltip": "",
            "_view_count": null,
            "disabled": false,
            "_view_module_version": "1.5.0",
            "layout": "IPY_MODEL_6501853dc6bb46f4b3ca087290b00024",
            "_model_module": "@jupyter-widgets/controls",
            "icon": ""
          }
        },
        "9a3382174b3f458ea740578c321e5782": {
          "model_module": "@jupyter-widgets/controls",
          "model_name": "ImageModel",
          "state": {
            "_view_name": "ImageView",
            "_dom_classes": [],
            "_model_name": "ImageModel",
            "format": "jpg",
            "_view_module": "@jupyter-widgets/controls",
            "_model_module_version": "1.5.0",
            "_view_count": null,
            "width": "",
            "_view_module_version": "1.5.0",
            "layout": "IPY_MODEL_7ca705f119724403a9b33d7a75a1347b",
            "height": "",
            "_model_module": "@jupyter-widgets/controls"
          }
        },
        "7279fd0b259c4d62b3e811acb912abdd": {
          "model_module": "@jupyter-widgets/controls",
          "model_name": "DropdownModel",
          "state": {
            "_options_labels": [
              "bracelet",
              "earrings",
              "necklace",
              "ring"
            ],
            "_view_name": "DropdownView",
            "style": "IPY_MODEL_6709ee96c5f94a27b242b8a36eb19322",
            "_dom_classes": [],
            "description": "",
            "_model_name": "DropdownModel",
            "index": 3,
            "_view_module": "@jupyter-widgets/controls",
            "_model_module_version": "1.5.0",
            "_view_count": null,
            "disabled": false,
            "_view_module_version": "1.5.0",
            "description_tooltip": null,
            "_model_module": "@jupyter-widgets/controls",
            "layout": "IPY_MODEL_ce9852bf78d04dceb9edecbe25386000"
          }
        },
        "1a9a4d8eafa64cd0beb0b0970763a9c4": {
          "model_module": "@jupyter-widgets/controls",
          "model_name": "ButtonModel",
          "state": {
            "_view_name": "ButtonView",
            "style": "IPY_MODEL_8e052564423a4e42b5f428d3ebae0df0",
            "_dom_classes": [],
            "description": "Delete",
            "_model_name": "ButtonModel",
            "button_style": "",
            "_view_module": "@jupyter-widgets/controls",
            "_model_module_version": "1.5.0",
            "tooltip": "",
            "_view_count": null,
            "disabled": false,
            "_view_module_version": "1.5.0",
            "layout": "IPY_MODEL_6501853dc6bb46f4b3ca087290b00024",
            "_model_module": "@jupyter-widgets/controls",
            "icon": ""
          }
        },
        "32a506b4345f44c984249fa275d1c94a": {
          "model_module": "@jupyter-widgets/controls",
          "model_name": "DescriptionStyleModel",
          "state": {
            "_view_name": "StyleView",
            "_model_name": "DescriptionStyleModel",
            "description_width": "",
            "_view_module": "@jupyter-widgets/base",
            "_model_module_version": "1.5.0",
            "_view_count": null,
            "_view_module_version": "1.2.0",
            "_model_module": "@jupyter-widgets/controls"
          }
        },
        "da2a630400d14161aaeafca9579a3ee7": {
          "model_module": "@jupyter-widgets/controls",
          "model_name": "ButtonStyleModel",
          "state": {
            "_view_name": "StyleView",
            "_model_name": "ButtonStyleModel",
            "_view_module": "@jupyter-widgets/base",
            "_model_module_version": "1.5.0",
            "_view_count": null,
            "button_color": null,
            "font_weight": "",
            "_view_module_version": "1.2.0",
            "_model_module": "@jupyter-widgets/controls"
          }
        },
        "b1d430614db840b1a035f7d39f95260b": {
          "model_module": "@jupyter-widgets/controls",
          "model_name": "DescriptionStyleModel",
          "state": {
            "_view_name": "StyleView",
            "_model_name": "DescriptionStyleModel",
            "description_width": "",
            "_view_module": "@jupyter-widgets/base",
            "_model_module_version": "1.5.0",
            "_view_count": null,
            "_view_module_version": "1.2.0",
            "_model_module": "@jupyter-widgets/controls"
          }
        },
        "76ec0cd96c6d4f36932ace5382d4de4e": {
          "model_module": "@jupyter-widgets/controls",
          "model_name": "ButtonStyleModel",
          "state": {
            "_view_name": "StyleView",
            "_model_name": "ButtonStyleModel",
            "_view_module": "@jupyter-widgets/base",
            "_model_module_version": "1.5.0",
            "_view_count": null,
            "button_color": null,
            "font_weight": "",
            "_view_module_version": "1.2.0",
            "_model_module": "@jupyter-widgets/controls"
          }
        },
        "76232785461e46f4bc0cd5cda321ac88": {
          "model_module": "@jupyter-widgets/controls",
          "model_name": "DescriptionStyleModel",
          "state": {
            "_view_name": "StyleView",
            "_model_name": "DescriptionStyleModel",
            "description_width": "",
            "_view_module": "@jupyter-widgets/base",
            "_model_module_version": "1.5.0",
            "_view_count": null,
            "_view_module_version": "1.2.0",
            "_model_module": "@jupyter-widgets/controls"
          }
        },
        "84b020d76dcd45bebe4bf474da9d1d9b": {
          "model_module": "@jupyter-widgets/controls",
          "model_name": "ButtonStyleModel",
          "state": {
            "_view_name": "StyleView",
            "_model_name": "ButtonStyleModel",
            "_view_module": "@jupyter-widgets/base",
            "_model_module_version": "1.5.0",
            "_view_count": null,
            "button_color": null,
            "font_weight": "",
            "_view_module_version": "1.2.0",
            "_model_module": "@jupyter-widgets/controls"
          }
        },
        "128a4210a0704bdf9dcddc9798ae09af": {
          "model_module": "@jupyter-widgets/controls",
          "model_name": "DescriptionStyleModel",
          "state": {
            "_view_name": "StyleView",
            "_model_name": "DescriptionStyleModel",
            "description_width": "",
            "_view_module": "@jupyter-widgets/base",
            "_model_module_version": "1.5.0",
            "_view_count": null,
            "_view_module_version": "1.2.0",
            "_model_module": "@jupyter-widgets/controls"
          }
        },
        "27a6a42c79734a02b886681713e89856": {
          "model_module": "@jupyter-widgets/controls",
          "model_name": "ButtonStyleModel",
          "state": {
            "_view_name": "StyleView",
            "_model_name": "ButtonStyleModel",
            "_view_module": "@jupyter-widgets/base",
            "_model_module_version": "1.5.0",
            "_view_count": null,
            "button_color": null,
            "font_weight": "",
            "_view_module_version": "1.2.0",
            "_model_module": "@jupyter-widgets/controls"
          }
        },
        "6709ee96c5f94a27b242b8a36eb19322": {
          "model_module": "@jupyter-widgets/controls",
          "model_name": "DescriptionStyleModel",
          "state": {
            "_view_name": "StyleView",
            "_model_name": "DescriptionStyleModel",
            "description_width": "",
            "_view_module": "@jupyter-widgets/base",
            "_model_module_version": "1.5.0",
            "_view_count": null,
            "_view_module_version": "1.2.0",
            "_model_module": "@jupyter-widgets/controls"
          }
        },
        "8e052564423a4e42b5f428d3ebae0df0": {
          "model_module": "@jupyter-widgets/controls",
          "model_name": "ButtonStyleModel",
          "state": {
            "_view_name": "StyleView",
            "_model_name": "ButtonStyleModel",
            "_view_module": "@jupyter-widgets/base",
            "_model_module_version": "1.5.0",
            "_view_count": null,
            "button_color": null,
            "font_weight": "",
            "_view_module_version": "1.2.0",
            "_model_module": "@jupyter-widgets/controls"
          }
        },
        "8808093096a4494d900bb7bb78689275": {
          "model_module": "@jupyter-widgets/controls",
          "model_name": "ButtonModel",
          "state": {
            "_view_name": "ButtonView",
            "style": "IPY_MODEL_483a4bf8810e4b8f9aa8388895d5db41",
            "_dom_classes": [],
            "description": "Next Batch",
            "_model_name": "ButtonModel",
            "button_style": "primary",
            "_view_module": "@jupyter-widgets/controls",
            "_model_module_version": "1.5.0",
            "tooltip": "",
            "_view_count": null,
            "disabled": false,
            "_view_module_version": "1.5.0",
            "layout": "IPY_MODEL_6501853dc6bb46f4b3ca087290b00024",
            "_model_module": "@jupyter-widgets/controls",
            "icon": ""
          }
        },
        "483a4bf8810e4b8f9aa8388895d5db41": {
          "model_module": "@jupyter-widgets/controls",
          "model_name": "ButtonStyleModel",
          "state": {
            "_view_name": "StyleView",
            "_model_name": "ButtonStyleModel",
            "_view_module": "@jupyter-widgets/base",
            "_model_module_version": "1.5.0",
            "_view_count": null,
            "button_color": null,
            "font_weight": "",
            "_view_module_version": "1.2.0",
            "_model_module": "@jupyter-widgets/controls"
          }
        }
      }
    }
  },
  "cells": [
    {
      "cell_type": "markdown",
      "metadata": {
        "id": "view-in-github",
        "colab_type": "text"
      },
      "source": [
        "<a href=\"https://colab.research.google.com/github/kangand/1000ml/blob/master/Assignment_7/Draft_Model.ipynb\" target=\"_parent\"><img src=\"https://colab.research.google.com/assets/colab-badge.svg\" alt=\"Open In Colab\"/></a>"
      ]
    },
    {
      "cell_type": "markdown",
      "metadata": {
        "id": "BWO_AhbtlzH4",
        "colab_type": "text"
      },
      "source": [
        "Testing image classification at a basic level with smaller image dataset."
      ]
    },
    {
      "cell_type": "code",
      "metadata": {
        "id": "X7tGlgyRlzH9",
        "colab_type": "code",
        "colab": {
          "base_uri": "https://localhost:8080/",
          "height": 72
        },
        "outputId": "14679b3d-b65b-4faf-b19f-5a7c1fbedff2"
      },
      "source": [
        "import numpy as np\n",
        "import matplotlib.pyplot as plt\n",
        "import seaborn as sns\n",
        "\n",
        "plt.rcParams['figure.facecolor']='w'\n",
        "plt.rcParams['figure.edgecolor']='w'"
      ],
      "execution_count": 1,
      "outputs": [
        {
          "output_type": "stream",
          "text": [
            "/usr/local/lib/python3.6/dist-packages/statsmodels/tools/_testing.py:19: FutureWarning: pandas.util.testing is deprecated. Use the functions in the public API at pandas.testing instead.\n",
            "  import pandas.util.testing as tm\n"
          ],
          "name": "stderr"
        }
      ]
    },
    {
      "cell_type": "code",
      "metadata": {
        "id": "qQ1EryMmlzIs",
        "colab_type": "code",
        "colab": {}
      },
      "source": [
        "import os\n",
        "\n",
        "import warnings\n",
        "warnings.filterwarnings('ignore')"
      ],
      "execution_count": 2,
      "outputs": []
    },
    {
      "cell_type": "code",
      "metadata": {
        "id": "lysc2PKpmHcs",
        "colab_type": "code",
        "colab": {
          "base_uri": "https://localhost:8080/",
          "height": 124
        },
        "outputId": "04d4b5bf-aaea-416d-83ba-1155ed5a5d71"
      },
      "source": [
        "from google.colab import drive\n",
        "drive.mount('/content/Drive')"
      ],
      "execution_count": 3,
      "outputs": [
        {
          "output_type": "stream",
          "text": [
            "Go to this URL in a browser: https://accounts.google.com/o/oauth2/auth?client_id=947318989803-6bn6qk8qdgf4n4g3pfee6491hc0brc4i.apps.googleusercontent.com&redirect_uri=urn%3aietf%3awg%3aoauth%3a2.0%3aoob&response_type=code&scope=email%20https%3a%2f%2fwww.googleapis.com%2fauth%2fdocs.test%20https%3a%2f%2fwww.googleapis.com%2fauth%2fdrive%20https%3a%2f%2fwww.googleapis.com%2fauth%2fdrive.photos.readonly%20https%3a%2f%2fwww.googleapis.com%2fauth%2fpeopleapi.readonly\n",
            "\n",
            "Enter your authorization code:\n",
            "··········\n",
            "Mounted at /content/Drive\n"
          ],
          "name": "stdout"
        }
      ]
    },
    {
      "cell_type": "code",
      "metadata": {
        "id": "-YbQhcAglzJv",
        "colab_type": "code",
        "colab": {}
      },
      "source": [
        "import torch\n",
        "\n",
        "from fastai.vision import get_transforms\n",
        "from fastai.vision.data import ImageList\n",
        "from fastai.vision import defaults\n",
        "from fastai.metrics import error_rate\n",
        "from fastai.vision.learner import create_cnn\n",
        "from fastai.vision.models import resnet34\n",
        "from fastai.widgets import *"
      ],
      "execution_count": 4,
      "outputs": []
    },
    {
      "cell_type": "code",
      "metadata": {
        "id": "DEI33_sxlzKb",
        "colab_type": "code",
        "colab": {
          "base_uri": "https://localhost:8080/",
          "height": 225
        },
        "outputId": "c4aae203-629d-4ff8-c278-673e12f058e2"
      },
      "source": [
        "path = '/content/Drive/My Drive/jewelery_images'\n",
        "splits = ['train', 'valid', 'test']\n",
        "classes = ['bracelet', 'earrings', 'necklace', 'ring']\n",
        "\n",
        "for i in splits:\n",
        "  for j in classes:\n",
        "    print(os.path.join(path,i,j))\n",
        "    if not os.path.exists(os.path.join(path,i,j)):\n",
        "      os.makedirs(os.path.join(path,i,j))"
      ],
      "execution_count": 5,
      "outputs": [
        {
          "output_type": "stream",
          "text": [
            "/content/Drive/My Drive/jewelery_images/train/bracelet\n",
            "/content/Drive/My Drive/jewelery_images/train/earrings\n",
            "/content/Drive/My Drive/jewelery_images/train/necklace\n",
            "/content/Drive/My Drive/jewelery_images/train/ring\n",
            "/content/Drive/My Drive/jewelery_images/valid/bracelet\n",
            "/content/Drive/My Drive/jewelery_images/valid/earrings\n",
            "/content/Drive/My Drive/jewelery_images/valid/necklace\n",
            "/content/Drive/My Drive/jewelery_images/valid/ring\n",
            "/content/Drive/My Drive/jewelery_images/test/bracelet\n",
            "/content/Drive/My Drive/jewelery_images/test/earrings\n",
            "/content/Drive/My Drive/jewelery_images/test/necklace\n",
            "/content/Drive/My Drive/jewelery_images/test/ring\n"
          ],
          "name": "stdout"
        }
      ]
    },
    {
      "cell_type": "code",
      "metadata": {
        "id": "TjsP-txcnEK0",
        "colab_type": "code",
        "colab": {}
      },
      "source": [
        "tfms = get_transforms(do_flip=False)"
      ],
      "execution_count": 6,
      "outputs": []
    },
    {
      "cell_type": "code",
      "metadata": {
        "id": "w3lrSy2wlzLP",
        "colab_type": "code",
        "colab": {}
      },
      "source": [
        "data = (ImageList.from_folder(path)\n",
        "  .split_by_rand_pct()\n",
        "  .label_from_folder()\n",
        "  .transform(tfms,size=64)\n",
        "  .databunch())"
      ],
      "execution_count": 7,
      "outputs": []
    },
    {
      "cell_type": "code",
      "metadata": {
        "id": "n9rX2vwboxhs",
        "colab_type": "code",
        "colab": {
          "base_uri": "https://localhost:8080/",
          "height": 35
        },
        "outputId": "4f987b75-75b4-4dd1-b2bd-c833024cfd3f"
      },
      "source": [
        "data.batch_size"
      ],
      "execution_count": 8,
      "outputs": [
        {
          "output_type": "execute_result",
          "data": {
            "text/plain": [
              "64"
            ]
          },
          "metadata": {
            "tags": []
          },
          "execution_count": 8
        }
      ]
    },
    {
      "cell_type": "code",
      "metadata": {
        "id": "UU-x4DEclzL1",
        "colab_type": "code",
        "colab": {
          "base_uri": "https://localhost:8080/",
          "height": 104,
          "referenced_widgets": [
            "5bf3c87a353344f0bb6516e155588bfb",
            "6dfbb6ee04d54d53bfbf4bdfcbb81325",
            "b74c030a0ed646e78ea812ee72d82181",
            "9bd76a5b55254d00a6a4a2a0e334cc8a",
            "ed678de8c1b447139f76cbab508ad836",
            "8f18930c17e247679bd5d34ab345dead",
            "ccd76b6565f54306a0da8dceca3e6fc6",
            "26616f4272f34ccc9c34783625aa986c"
          ]
        },
        "outputId": "80f836bd-f894-43c7-ff7f-a39e3f8662c1"
      },
      "source": [
        "learn = create_cnn(data, resnet34, metrics=error_rate)"
      ],
      "execution_count": 9,
      "outputs": [
        {
          "output_type": "stream",
          "text": [
            "Downloading: \"https://download.pytorch.org/models/resnet34-333f7ec4.pth\" to /root/.cache/torch/checkpoints/resnet34-333f7ec4.pth\n"
          ],
          "name": "stderr"
        },
        {
          "output_type": "display_data",
          "data": {
            "application/vnd.jupyter.widget-view+json": {
              "model_id": "5bf3c87a353344f0bb6516e155588bfb",
              "version_minor": 0,
              "version_major": 2
            },
            "text/plain": [
              "HBox(children=(FloatProgress(value=0.0, max=87306240.0), HTML(value='')))"
            ]
          },
          "metadata": {
            "tags": []
          }
        },
        {
          "output_type": "stream",
          "text": [
            "\n"
          ],
          "name": "stdout"
        }
      ]
    },
    {
      "cell_type": "code",
      "metadata": {
        "id": "9yj8oaPOlzMQ",
        "colab_type": "code",
        "colab": {}
      },
      "source": [
        "defaults.device = torch.device('cuda')"
      ],
      "execution_count": 10,
      "outputs": []
    },
    {
      "cell_type": "code",
      "metadata": {
        "id": "3d7JqG-llzMi",
        "colab_type": "code",
        "colab": {
          "base_uri": "https://localhost:8080/",
          "height": 171
        },
        "outputId": "f984f142-5bec-4ef3-f60e-1fbfa3ce6acd"
      },
      "source": [
        "learn.fit_one_cycle(4)"
      ],
      "execution_count": 11,
      "outputs": [
        {
          "output_type": "display_data",
          "data": {
            "text/html": [
              "<table border=\"1\" class=\"dataframe\">\n",
              "  <thead>\n",
              "    <tr style=\"text-align: left;\">\n",
              "      <th>epoch</th>\n",
              "      <th>train_loss</th>\n",
              "      <th>valid_loss</th>\n",
              "      <th>error_rate</th>\n",
              "      <th>time</th>\n",
              "    </tr>\n",
              "  </thead>\n",
              "  <tbody>\n",
              "    <tr>\n",
              "      <td>0</td>\n",
              "      <td>2.128083</td>\n",
              "      <td>0.913366</td>\n",
              "      <td>0.338583</td>\n",
              "      <td>01:09</td>\n",
              "    </tr>\n",
              "    <tr>\n",
              "      <td>1</td>\n",
              "      <td>1.552755</td>\n",
              "      <td>0.859446</td>\n",
              "      <td>0.338583</td>\n",
              "      <td>00:31</td>\n",
              "    </tr>\n",
              "    <tr>\n",
              "      <td>2</td>\n",
              "      <td>1.240132</td>\n",
              "      <td>0.726300</td>\n",
              "      <td>0.228346</td>\n",
              "      <td>00:28</td>\n",
              "    </tr>\n",
              "    <tr>\n",
              "      <td>3</td>\n",
              "      <td>1.054706</td>\n",
              "      <td>0.599159</td>\n",
              "      <td>0.188976</td>\n",
              "      <td>00:30</td>\n",
              "    </tr>\n",
              "  </tbody>\n",
              "</table>"
            ],
            "text/plain": [
              "<IPython.core.display.HTML object>"
            ]
          },
          "metadata": {
            "tags": []
          }
        }
      ]
    },
    {
      "cell_type": "code",
      "metadata": {
        "id": "6NnSH_ySlzM3",
        "colab_type": "code",
        "colab": {
          "base_uri": "https://localhost:8080/",
          "height": 711
        },
        "outputId": "cc2bdcaf-097d-4e9d-db89-e7455c969f2e"
      },
      "source": [
        "learn.unfreeze()\n",
        "learn.lr_find()\n",
        "learn.recorder.plot()"
      ],
      "execution_count": 12,
      "outputs": [
        {
          "output_type": "display_data",
          "data": {
            "text/html": [
              "\n",
              "    <div>\n",
              "        <style>\n",
              "            /* Turns off some styling */\n",
              "            progress {\n",
              "                /* gets rid of default border in Firefox and Opera. */\n",
              "                border: none;\n",
              "                /* Needs to be in here for Safari polyfill so background images work as expected. */\n",
              "                background-size: auto;\n",
              "            }\n",
              "            .progress-bar-interrupted, .progress-bar-interrupted::-webkit-progress-bar {\n",
              "                background: #F44336;\n",
              "            }\n",
              "        </style>\n",
              "      <progress value='11' class='' max='15' style='width:300px; height:20px; vertical-align: middle;'></progress>\n",
              "      73.33% [11/15 06:00<02:11]\n",
              "    </div>\n",
              "    \n",
              "<table border=\"1\" class=\"dataframe\">\n",
              "  <thead>\n",
              "    <tr style=\"text-align: left;\">\n",
              "      <th>epoch</th>\n",
              "      <th>train_loss</th>\n",
              "      <th>valid_loss</th>\n",
              "      <th>error_rate</th>\n",
              "      <th>time</th>\n",
              "    </tr>\n",
              "  </thead>\n",
              "  <tbody>\n",
              "    <tr>\n",
              "      <td>0</td>\n",
              "      <td>0.601429</td>\n",
              "      <td>#na#</td>\n",
              "      <td>00:33</td>\n",
              "    </tr>\n",
              "    <tr>\n",
              "      <td>1</td>\n",
              "      <td>0.641005</td>\n",
              "      <td>#na#</td>\n",
              "      <td>00:33</td>\n",
              "    </tr>\n",
              "    <tr>\n",
              "      <td>2</td>\n",
              "      <td>0.623462</td>\n",
              "      <td>#na#</td>\n",
              "      <td>00:32</td>\n",
              "    </tr>\n",
              "    <tr>\n",
              "      <td>3</td>\n",
              "      <td>0.634037</td>\n",
              "      <td>#na#</td>\n",
              "      <td>00:32</td>\n",
              "    </tr>\n",
              "    <tr>\n",
              "      <td>4</td>\n",
              "      <td>0.588315</td>\n",
              "      <td>#na#</td>\n",
              "      <td>00:33</td>\n",
              "    </tr>\n",
              "    <tr>\n",
              "      <td>5</td>\n",
              "      <td>0.533471</td>\n",
              "      <td>#na#</td>\n",
              "      <td>00:32</td>\n",
              "    </tr>\n",
              "    <tr>\n",
              "      <td>6</td>\n",
              "      <td>0.454636</td>\n",
              "      <td>#na#</td>\n",
              "      <td>00:32</td>\n",
              "    </tr>\n",
              "    <tr>\n",
              "      <td>7</td>\n",
              "      <td>0.440461</td>\n",
              "      <td>#na#</td>\n",
              "      <td>00:32</td>\n",
              "    </tr>\n",
              "    <tr>\n",
              "      <td>8</td>\n",
              "      <td>0.578433</td>\n",
              "      <td>#na#</td>\n",
              "      <td>00:32</td>\n",
              "    </tr>\n",
              "    <tr>\n",
              "      <td>9</td>\n",
              "      <td>0.715018</td>\n",
              "      <td>#na#</td>\n",
              "      <td>00:32</td>\n",
              "    </tr>\n",
              "    <tr>\n",
              "      <td>10</td>\n",
              "      <td>1.176010</td>\n",
              "      <td>#na#</td>\n",
              "      <td>00:32</td>\n",
              "    </tr>\n",
              "  </tbody>\n",
              "</table><p>\n",
              "\n",
              "    <div>\n",
              "        <style>\n",
              "            /* Turns off some styling */\n",
              "            progress {\n",
              "                /* gets rid of default border in Firefox and Opera. */\n",
              "                border: none;\n",
              "                /* Needs to be in here for Safari polyfill so background images work as expected. */\n",
              "                background-size: auto;\n",
              "            }\n",
              "            .progress-bar-interrupted, .progress-bar-interrupted::-webkit-progress-bar {\n",
              "                background: #F44336;\n",
              "            }\n",
              "        </style>\n",
              "      <progress value='3' class='' max='7' style='width:300px; height:20px; vertical-align: middle;'></progress>\n",
              "      42.86% [3/7 00:20<00:26 1.5967]\n",
              "    </div>\n",
              "    "
            ],
            "text/plain": [
              "<IPython.core.display.HTML object>"
            ]
          },
          "metadata": {
            "tags": []
          }
        },
        {
          "output_type": "stream",
          "text": [
            "LR Finder is complete, type {learner_name}.recorder.plot() to see the graph.\n"
          ],
          "name": "stdout"
        },
        {
          "output_type": "display_data",
          "data": {
            "image/png": "[encoded data removed]",
            "text/plain": [
              "<Figure size 432x288 with 1 Axes>"
            ]
          },
          "metadata": {
            "tags": [],
            "needs_background": "light"
          }
        }
      ]
    },
    {
      "cell_type": "code",
      "metadata": {
        "id": "vD0Wg_xDlzNL",
        "colab_type": "code",
        "colab": {
          "base_uri": "https://localhost:8080/",
          "height": 349,
          "referenced_widgets": [
            "da7bd20b25bb41dda6febb6183116382",
            "64deaaae3dfb496a9924a1450afd3161",
            "3a9ca6e72c8e408da2a4513450be2dad",
            "1ced3ed7a82c43b68de9f830cf5570d9",
            "b46ea0bb08ea47cd8d3883dba7d988da",
            "09fcd564b153401289834b5ea060b8a4",
            "19e0d5ab1ca64dcd81b6513595c875a7",
            "b9da936fbdf441b08e83924b248a96a0",
            "c84835805a464619944b1a88cc50f746",
            "f761b5754f494bcf802bb082e38cc633",
            "d5e03c065e3546c0a3c97d7656a621a4",
            "9370f601c4b6437d9481433da61f8ab3",
            "889fb42ba3764099a1f2d3697ff02981",
            "dd035f2ee3984487a4a06d92d364a427",
            "6d61b13c3a3145868b9ae92cc4ae784b",
            "a9e5a081e2474bd8a79532aa0e4001a4",
            "1fa915ed29e24024bf6ed43f42de69d0",
            "a133b3994a9e40a8a37ecd4e613070e6",
            "08f2a113dffe4ab29edd9dcd0580721c",
            "17da2d5437a0497ab9e22bb4e4c264df",
            "778fd22038fb475c850c7156e439f871",
            "25c6fd3891a549aca925d09b966c36ff",
            "917248f095b044f8a25bfd39753286ba",
            "7ca705f119724403a9b33d7a75a1347b",
            "d282ed05766f47d28a8e55c3f97c2c71",
            "ce9852bf78d04dceb9edecbe25386000",
            "2ed73233affe481681d64c81fbfcc7ee",
            "6501853dc6bb46f4b3ca087290b00024",
            "178dd5cd33c343a38e11ba3fa5946e16",
            "bda57ae8d11640af9cee25ce12f26247",
            "8c2371adb57946b4928d1b5fe892f2f5",
            "888c99b2dc664e62bb2eac38af5bf3db",
            "1209aca65adf41718611b3aef73b8d56",
            "4d3e0686d210406d92653f1b9c0013c8",
            "8afbe4e1ebc44491a4313d2b58c18ddd",
            "12eec4f9864441019fe43672b36794a2",
            "0c34f17fc0e04342822c5e682d55a357",
            "1be3eeb53e9c48b198a8c50c78b8edec",
            "8e45bcc54d864ba08019d9308e8cae9b",
            "9761dae813a24b07b27a9cc01f2570b5",
            "72a5343531924525a86da085e5ab4552",
            "b74b648ab37f48859447c80e0280bacb",
            "832e5735091f4905912b75ec0a09bc71",
            "2a7f355b8d684741b69261d4135c1996",
            "63f77e7222de46b4a671c2a95022076b",
            "cf4b3edf72574149a7341f44c81d597a",
            "2c92faba4cba4c538c853b573a883124",
            "5d8ea8a71c564185a32bc46e8e39f541",
            "d8b47c6d98cc4cd190e759d46eb25876",
            "e6259088999b4aadabebde090cb3a5a8",
            "b5a0dbcb6e1a4e1ea48b7b16ee274d92",
            "64366e33099a462c9d1dcd087bd2d91f",
            "79d0db29c4ed4487ad3d13683f20e993",
            "30aa63db705341b2a7fe54c7aab53dd9",
            "23798d45641a4775bd21b8b70786490a",
            "e8aac425775240d2b092b7cf702f68c3",
            "a6a10717cb36469b8928703290bfa335",
            "c6599245aa8c464fb356be7c2d0c677f",
            "6266f7aef7d9454f8626cc5cd470b8bd",
            "6b17b9aa2ad140218463e3e37bf5f030",
            "c754eaaa342f4f9c8f716c9a3c05e3f1",
            "41839cdc79d2475699d7998a10f24763",
            "05577f443bf74b66bf1d722364ac667a",
            "58845e91b03f49b2a4ca111620b926f9",
            "907bfb082f8f45758b5e06fbfd38f629",
            "26898e74706e4253a26a7c5565579793",
            "e3801a8a4b264400aa530d2b942166c3",
            "7c87ee8d6e1c4c61a9bc2c1513224f86",
            "ddcd5be8a4f24cdbb7c9803bfaaeb905",
            "0ef0e6b489114a00977e933904573016",
            "2045b289ea604bdfb68fa5e9f5470ffb",
            "c1e67ee0ff0d4f9c85a01d65c38cc342",
            "0be27464c3144f5d8e522741923bd39d",
            "795c4203544746b9814b74cda6c23465",
            "447f03a7c5c645b8be6851672e47e5b4",
            "534f7d4847ef410ebafea1c485af0fcd",
            "dcbde99c7ec54853a49e2e983ea7654b",
            "6c7346abd894443a901175c5e02f7b3d",
            "179e6f4c03664b43b7e9c3ed429e9662",
            "002273fcb10544599c91683edd275c70",
            "e4228c9b520b48ccb7b10cd0b2645ed0",
            "29999458375c48e09cd8fcd79f99f2ac",
            "49905aa4cf724690bd96f1065268d1bc",
            "58136ae68e1e4d66a73a625fd2b7dd98",
            "3dbc280e772748f8b7f4bd642a1c53c8",
            "381f4efed9a84219bf554504d78a7844",
            "18bacbabc2cd4ea2963dada288c38a2f",
            "1c64a94289034e75806463da31cd0641",
            "5b9d5fb84d8a420787ded4ce68f3f3a1",
            "9a3382174b3f458ea740578c321e5782",
            "7279fd0b259c4d62b3e811acb912abdd",
            "1a9a4d8eafa64cd0beb0b0970763a9c4",
            "32a506b4345f44c984249fa275d1c94a",
            "da2a630400d14161aaeafca9579a3ee7",
            "b1d430614db840b1a035f7d39f95260b",
            "76ec0cd96c6d4f36932ace5382d4de4e",
            "76232785461e46f4bc0cd5cda321ac88",
            "84b020d76dcd45bebe4bf474da9d1d9b",
            "128a4210a0704bdf9dcddc9798ae09af",
            "27a6a42c79734a02b886681713e89856",
            "6709ee96c5f94a27b242b8a36eb19322",
            "8e052564423a4e42b5f428d3ebae0df0",
            "8808093096a4494d900bb7bb78689275",
            "483a4bf8810e4b8f9aa8388895d5db41"
          ]
        },
        "outputId": "2f9e76bc-d533-401f-e6d9-235ad796d773"
      },
      "source": [
        "ds, idxs = DatasetFormatter().from_toplosses(learn)\n",
        "ImageCleaner(ds, idxs, path)"
      ],
      "execution_count": 13,
      "outputs": [
        {
          "output_type": "display_data",
          "data": {
            "application/vnd.jupyter.widget-view+json": {
              "model_id": "c1e67ee0ff0d4f9c85a01d65c38cc342",
              "version_minor": 0,
              "version_major": 2
            },
            "text/plain": [
              "HBox(children=(VBox(children=(Image(value=b'\\xff\\xd8\\xff\\xe0\\x00\\x10JFIF\\x00\\x01\\x01\\x01\\x00d\\x00d\\x00\\x00\\xff…"
            ]
          },
          "metadata": {
            "tags": []
          }
        },
        {
          "output_type": "display_data",
          "data": {
            "application/vnd.jupyter.widget-view+json": {
              "model_id": "8808093096a4494d900bb7bb78689275",
              "version_minor": 0,
              "version_major": 2
            },
            "text/plain": [
              "Button(button_style='primary', description='Next Batch', layout=Layout(width='auto'), style=ButtonStyle())"
            ]
          },
          "metadata": {
            "tags": []
          }
        }
      ]
    },
    {
      "cell_type": "code",
      "metadata": {
        "id": "-kf_YrJrlzNZ",
        "colab_type": "code",
        "colab": {
          "base_uri": "https://localhost:8080/",
          "height": 202
        },
        "outputId": "3fd32513-6a9c-4699-cd3f-6ded47552524"
      },
      "source": [
        "df = pd.read_csv(os.path.join(path, 'cleaned.csv'), header='infer')\n",
        "df.head()"
      ],
      "execution_count": 14,
      "outputs": [
        {
          "output_type": "execute_result",
          "data": {
            "text/html": [
              "<div>\n",
              "<style scoped>\n",
              "    .dataframe tbody tr th:only-of-type {\n",
              "        vertical-align: middle;\n",
              "    }\n",
              "\n",
              "    .dataframe tbody tr th {\n",
              "        vertical-align: top;\n",
              "    }\n",
              "\n",
              "    .dataframe thead th {\n",
              "        text-align: right;\n",
              "    }\n",
              "</style>\n",
              "<table border=\"1\" class=\"dataframe\">\n",
              "  <thead>\n",
              "    <tr style=\"text-align: right;\">\n",
              "      <th></th>\n",
              "      <th>name</th>\n",
              "      <th>label</th>\n",
              "    </tr>\n",
              "  </thead>\n",
              "  <tbody>\n",
              "    <tr>\n",
              "      <th>0</th>\n",
              "      <td>valid/ring/image8.jpeg</td>\n",
              "      <td>ring</td>\n",
              "    </tr>\n",
              "    <tr>\n",
              "      <th>1</th>\n",
              "      <td>valid/ring/image0.jpeg</td>\n",
              "      <td>ring</td>\n",
              "    </tr>\n",
              "    <tr>\n",
              "      <th>2</th>\n",
              "      <td>valid/ring/image3.jpeg</td>\n",
              "      <td>ring</td>\n",
              "    </tr>\n",
              "    <tr>\n",
              "      <th>3</th>\n",
              "      <td>valid/ring/image7.jpeg</td>\n",
              "      <td>ring</td>\n",
              "    </tr>\n",
              "    <tr>\n",
              "      <th>4</th>\n",
              "      <td>valid/ring/image12.jpeg</td>\n",
              "      <td>ring</td>\n",
              "    </tr>\n",
              "  </tbody>\n",
              "</table>\n",
              "</div>"
            ],
            "text/plain": [
              "                      name label\n",
              "0   valid/ring/image8.jpeg  ring\n",
              "1   valid/ring/image0.jpeg  ring\n",
              "2   valid/ring/image3.jpeg  ring\n",
              "3   valid/ring/image7.jpeg  ring\n",
              "4  valid/ring/image12.jpeg  ring"
            ]
          },
          "metadata": {
            "tags": []
          },
          "execution_count": 14
        }
      ]
    },
    {
      "cell_type": "code",
      "metadata": {
        "id": "GviH4Dc5lzNq",
        "colab_type": "code",
        "colab": {
          "base_uri": "https://localhost:8080/",
          "height": 17
        },
        "outputId": "ecdee503-4959-4dfb-cb23-a62b09ff81ab"
      },
      "source": [
        "interp = ClassificationInterpretation.from_learner(learn)"
      ],
      "execution_count": 15,
      "outputs": [
        {
          "output_type": "display_data",
          "data": {
            "text/html": [
              ""
            ],
            "text/plain": [
              "<IPython.core.display.HTML object>"
            ]
          },
          "metadata": {
            "tags": []
          }
        }
      ]
    },
    {
      "cell_type": "code",
      "metadata": {
        "id": "BrZw0JzmlzOb",
        "colab_type": "code",
        "colab": {
          "base_uri": "https://localhost:8080/",
          "height": 311
        },
        "outputId": "4b1d9106-a530-4420-9c55-84b7be003546"
      },
      "source": [
        "interp.plot_confusion_matrix()"
      ],
      "execution_count": 16,
      "outputs": [
        {
          "output_type": "display_data",
          "data": {
            "image/png": "[encoded data removed]",
            "text/plain": [
              "<Figure size 432x288 with 1 Axes>"
            ]
          },
          "metadata": {
            "tags": [],
            "needs_background": "light"
          }
        }
      ]
    },
    {
      "cell_type": "code",
      "metadata": {
        "id": "jT3PoAZklzOn",
        "colab_type": "code",
        "colab": {
          "base_uri": "https://localhost:8080/",
          "height": 954
        },
        "outputId": "4842071e-1509-4a9d-d5f6-2eadfdbbdc9f"
      },
      "source": [
        "interp.plot_top_losses(9, figsize=(15,15))"
      ],
      "execution_count": 17,
      "outputs": [
        {
          "output_type": "display_data",
          "data": {
            "image/png": "[encoded data removed]",
            "text/plain": [
              "<Figure size 1080x1080 with 9 Axes>"
            ]
          },
          "metadata": {
            "tags": [],
            "needs_background": "light"
          }
        }
      ]
    },
    {
      "cell_type": "code",
      "metadata": {
        "id": "q9sR5qx5u8so",
        "colab_type": "code",
        "colab": {}
      },
      "source": [
        "import tensorflow as tf"
      ],
      "execution_count": 19,
      "outputs": []
    },
    {
      "cell_type": "code",
      "metadata": {
        "id": "qOCpxJqEuoGM",
        "colab_type": "code",
        "colab": {}
      },
      "source": [
        "xcept = tf.keras.applications.Xception(\n",
        "    include_top=True,\n",
        "    weights=\"imagenet\",\n",
        "    input_tensor=None,\n",
        "    input_shape=None,\n",
        "    pooling=None,\n",
        "    classes=1000,\n",
        "    classifier_activation=\"softmax\",\n",
        ")"
      ],
      "execution_count": 21,
      "outputs": []
    },
    {
      "cell_type": "code",
      "metadata": {
        "id": "jvFCjZhYywsv",
        "colab_type": "code",
        "colab": {}
      },
      "source": [
        "xcept.compile()"
      ],
      "execution_count": 23,
      "outputs": []
    },
    {
      "cell_type": "markdown",
      "metadata": {
        "id": "bZHQEAOADnBP",
        "colab_type": "text"
      },
      "source": [
        "Resetnet50"
      ]
    },
    {
      "cell_type": "code",
      "metadata": {
        "id": "pFUvl-jlBKQ9",
        "colab_type": "code",
        "colab": {
          "base_uri": "https://localhost:8080/",
          "height": 69
        },
        "outputId": "a9b1dfb9-672c-4be1-b882-c1ffaa612392"
      },
      "source": [
        "from keras.preprocessing.image import ImageDataGenerator\n",
        "\n",
        "\n",
        "train_datagen = ImageDataGenerator(rescale=1./255,\n",
        "    shear_range=0.2,\n",
        "    zoom_range=0.2,\n",
        "    horizontal_flip=True)\n",
        "test_datagen = ImageDataGenerator()\n",
        "                                 \n",
        "train_generator = train_datagen.flow_from_directory(\n",
        "    directory=(path+\"/train\"),\n",
        "    target_size=(224, 224),\n",
        "    batch_size=64,\n",
        "    class_mode=\"categorical\",\n",
        ")\n",
        "valid_generator = train_datagen.flow_from_directory(\n",
        "    directory=(path+\"/valid\"),\n",
        "    target_size=(224, 224),\n",
        "    batch_size=64,\n",
        "    class_mode=\"categorical\",\n",
        "    \n",
        ")\n",
        "test_generator = test_datagen.flow_from_directory(\n",
        "    directory=(path+\"/test\"),\n",
        "    target_size=(224, 224),\n",
        "    batch_size=1,\n",
        "    class_mode=None\n",
        ")\n",
        "\n",
        "\n",
        "\n",
        "filenames = test_generator.filenames\n",
        "nb_samples = len(filenames)\n",
        "\n",
        "\n"
      ],
      "execution_count": 44,
      "outputs": [
        {
          "output_type": "stream",
          "text": [
            "Found 415 images belonging to 4 classes.\n",
            "Found 120 images belonging to 4 classes.\n",
            "Found 100 images belonging to 4 classes.\n"
          ],
          "name": "stdout"
        }
      ]
    },
    {
      "cell_type": "code",
      "metadata": {
        "id": "g9w_fTnBB7Je",
        "colab_type": "code",
        "colab": {}
      },
      "source": [
        "from tensorflow.keras.applications.resnet50 import ResNet50\n",
        "from keras.applications.resnet50 import preprocess_input\n",
        "from tensorflow.keras.preprocessing import image\n",
        "#from tensorflow.keras.applications.vgg16 import preprocess_input\n",
        "import numpy as np\n",
        "from tensorflow.keras.layers import Dense, Activation, Flatten,GlobalAveragePooling2D,Dropout\n",
        "from tensorflow.keras.layers import  Input\n",
        "from tensorflow.keras.models import  Model,Sequential"
      ],
      "execution_count": 52,
      "outputs": []
    },
    {
      "cell_type": "code",
      "metadata": {
        "id": "RFcJlhmmBZHM",
        "colab_type": "code",
        "colab": {
          "base_uri": "https://localhost:8080/",
          "height": 295
        },
        "outputId": "a0261d4b-6e0b-4cc6-87cd-11381c71abb6"
      },
      "source": [
        "image_input = Input(shape=(224, 224, 3))\n",
        "Restnet50 = Sequential()\n",
        "Restnet50.add(ResNet50(include_top=False, pooling='avg', weights='imagenet'))\n",
        "Restnet50.add(Dense(1024, activation='relu'))\n",
        "Restnet50.add(Dense(512, activation='relu'))\n",
        "Restnet50.add(Dense(4, activation='softmax'))\n",
        "\n",
        "\n",
        "# Say not to train first layer (ResNet) model. It is already trained\n",
        "Restnet50.layers[0].trainable = False\n",
        "Restnet50.summary()"
      ],
      "execution_count": 57,
      "outputs": [
        {
          "output_type": "stream",
          "text": [
            "Model: \"sequential_1\"\n",
            "_________________________________________________________________\n",
            "Layer (type)                 Output Shape              Param #   \n",
            "=================================================================\n",
            "resnet50 (Model)             (None, 2048)              23587712  \n",
            "_________________________________________________________________\n",
            "dense_3 (Dense)              (None, 1024)              2098176   \n",
            "_________________________________________________________________\n",
            "dense_4 (Dense)              (None, 512)               524800    \n",
            "_________________________________________________________________\n",
            "dense_5 (Dense)              (None, 4)                 2052      \n",
            "=================================================================\n",
            "Total params: 26,212,740\n",
            "Trainable params: 2,625,028\n",
            "Non-trainable params: 23,587,712\n",
            "_________________________________________________________________\n"
          ],
          "name": "stdout"
        }
      ]
    },
    {
      "cell_type": "code",
      "metadata": {
        "id": "gVNtsu-8DDFc",
        "colab_type": "code",
        "colab": {
          "base_uri": "https://localhost:8080/",
          "height": 295
        },
        "outputId": "9fd2e58a-27b7-40ee-8f9f-1d70110bb30e"
      },
      "source": [
        "from tensorflow.python.keras import optimizers\n",
        "\n",
        "\n",
        "Restnet50.compile(optimizer=\"adam\",loss=\"categorical_crossentropy\",metrics=[\"accuracy\"])\n",
        "Restnet50.summary()"
      ],
      "execution_count": 58,
      "outputs": [
        {
          "output_type": "stream",
          "text": [
            "Model: \"sequential_1\"\n",
            "_________________________________________________________________\n",
            "Layer (type)                 Output Shape              Param #   \n",
            "=================================================================\n",
            "resnet50 (Model)             (None, 2048)              23587712  \n",
            "_________________________________________________________________\n",
            "dense_3 (Dense)              (None, 1024)              2098176   \n",
            "_________________________________________________________________\n",
            "dense_4 (Dense)              (None, 512)               524800    \n",
            "_________________________________________________________________\n",
            "dense_5 (Dense)              (None, 4)                 2052      \n",
            "=================================================================\n",
            "Total params: 26,212,740\n",
            "Trainable params: 2,625,028\n",
            "Non-trainable params: 23,587,712\n",
            "_________________________________________________________________\n"
          ],
          "name": "stdout"
        }
      ]
    },
    {
      "cell_type": "code",
      "metadata": {
        "id": "akMs33ciDExP",
        "colab_type": "code",
        "colab": {
          "base_uri": "https://localhost:8080/",
          "height": 295
        },
        "outputId": "425c80c6-d170-4462-903b-dcca679b5f32"
      },
      "source": [
        "Restnet50.layers[0].trainable = False\n",
        "Restnet50.summary()"
      ],
      "execution_count": 59,
      "outputs": [
        {
          "output_type": "stream",
          "text": [
            "Model: \"sequential_1\"\n",
            "_________________________________________________________________\n",
            "Layer (type)                 Output Shape              Param #   \n",
            "=================================================================\n",
            "resnet50 (Model)             (None, 2048)              23587712  \n",
            "_________________________________________________________________\n",
            "dense_3 (Dense)              (None, 1024)              2098176   \n",
            "_________________________________________________________________\n",
            "dense_4 (Dense)              (None, 512)               524800    \n",
            "_________________________________________________________________\n",
            "dense_5 (Dense)              (None, 4)                 2052      \n",
            "=================================================================\n",
            "Total params: 26,212,740\n",
            "Trainable params: 2,625,028\n",
            "Non-trainable params: 23,587,712\n",
            "_________________________________________________________________\n"
          ],
          "name": "stdout"
        }
      ]
    },
    {
      "cell_type": "code",
      "metadata": {
        "id": "LWLJ4nCjDGLN",
        "colab_type": "code",
        "colab": {
          "base_uri": "https://localhost:8080/",
          "height": 35
        },
        "outputId": "5e137966-9324-4a87-c43c-027787f2f756"
      },
      "source": [
        "Restnet50.fit_generator(generator=train_generator,\n",
        "                    steps_per_epoch=359,\n",
        "                    verbose=1,\n",
        "                    epochs=1,\n",
        "                    validation_data=valid_generator,\n",
        "                    validation_steps=31\n",
        ")"
      ],
      "execution_count": null,
      "outputs": [
        {
          "output_type": "stream",
          "text": [
            "  4/359 [..............................] - ETA: 38:05 - loss: 1.8461 - accuracy: 0.4036"
          ],
          "name": "stdout"
        }
      ]
    },
    {
      "cell_type": "code",
      "metadata": {
        "id": "R4lR45994Io1",
        "colab_type": "code",
        "colab": {}
      },
      "source": [
        "test_generator.reset()\n",
        "pred=Restnet50.predict_generator(test_generator,steps = nb_samples)"
      ],
      "execution_count": null,
      "outputs": []
    }
  ]
}