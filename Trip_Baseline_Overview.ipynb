{
  "nbformat": 4,
  "nbformat_minor": 0,
  "metadata": {
    "colab": {
      "name": "Trip Baseline Overview.ipynb",
      "provenance": [],
      "collapsed_sections": [],
      "mount_file_id": "19PXj6PXQ7NZtqvHPAX8WTUm-GW1jlZW6",
      "authorship_tag": "ABX9TyPwjroZSjoRHYYe1PlacAi5",
      "include_colab_link": true
    },
    "kernelspec": {
      "name": "python3",
      "display_name": "Python 3"
    }
  },
  "cells": [
    {
      "cell_type": "markdown",
      "metadata": {
        "id": "view-in-github",
        "colab_type": "text"
      },
      "source": [
        "<a href=\"https://colab.research.google.com/github/kangand/1000ml/blob/master/Trip_Baseline_Overview.ipynb\" target=\"_parent\"><img src=\"https://colab.research.google.com/assets/colab-badge.svg\" alt=\"Open In Colab\"/></a>"
      ]
    },
    {
      "cell_type": "markdown",
      "metadata": {
        "id": "BTt7IKY8s229",
        "colab_type": "text"
      },
      "source": [
        "# Trip Data Overview\n",
        "\n",
        "Answers basic route overview questions using the Trips table."
      ]
    },
    {
      "cell_type": "code",
      "metadata": {
        "id": "Zejo3xeB2Q73",
        "colab_type": "code",
        "colab": {
          "base_uri": "https://localhost:8080/",
          "height": 51
        },
        "outputId": "c59d5cc5-38f4-44dd-f131-5783cf8093d5"
      },
      "source": [
        "import pandas as pd\n",
        "import numpy as np\n",
        "import matplotlib.pyplot as plt\n",
        "import seaborn as sns\n",
        "\n",
        "plt.rcParams['figure.facecolor']='w'"
      ],
      "execution_count": 1,
      "outputs": [
        {
          "output_type": "stream",
          "text": [
            "/usr/local/lib/python3.6/dist-packages/statsmodels/tools/_testing.py:19: FutureWarning: pandas.util.testing is deprecated. Use the functions in the public API at pandas.testing instead.\n",
            "  import pandas.util.testing as tm\n"
          ],
          "name": "stderr"
        }
      ]
    },
    {
      "cell_type": "code",
      "metadata": {
        "id": "Q2m8cIUg47QV",
        "colab_type": "code",
        "outputId": "b4cd2671-3aa7-46b8-c725-1e5bcae12cda",
        "colab": {
          "base_uri": "https://localhost:8080/",
          "height": 34
        }
      },
      "source": [
        "from google.colab import drive\n",
        "drive.mount('/content/drive')"
      ],
      "execution_count": 2,
      "outputs": [
        {
          "output_type": "stream",
          "text": [
            "Drive already mounted at /content/drive; to attempt to forcibly remount, call drive.mount(\"/content/drive\", force_remount=True).\n"
          ],
          "name": "stdout"
        }
      ]
    },
    {
      "cell_type": "code",
      "metadata": {
        "id": "DV7Q5Bri4FiL",
        "colab_type": "code",
        "colab": {
          "base_uri": "https://localhost:8080/",
          "height": 51
        },
        "outputId": "7f33799d-faee-4ab4-d4c9-b536fcb93f48"
      },
      "source": [
        "trips_df = pd.read_csv('/content/drive/My Drive/trips_df.csv', index_col = 0)"
      ],
      "execution_count": 13,
      "outputs": [
        {
          "output_type": "stream",
          "text": [
            "/usr/local/lib/python3.6/dist-packages/numpy/lib/arraysetops.py:569: FutureWarning: elementwise comparison failed; returning scalar instead, but in the future will perform elementwise comparison\n",
            "  mask |= (ar1 == a)\n"
          ],
          "name": "stderr"
        }
      ]
    },
    {
      "cell_type": "code",
      "metadata": {
        "id": "6MsKyWRy4z_c",
        "colab_type": "code",
        "outputId": "08ae2aee-176a-4793-bb0a-609ea0d8dc8f",
        "colab": {
          "base_uri": "https://localhost:8080/",
          "height": 204
        }
      },
      "source": [
        "# basic table overview\n",
        "\n",
        "trips_df.head()"
      ],
      "execution_count": 4,
      "outputs": [
        {
          "output_type": "execute_result",
          "data": {
            "text/html": [
              "<div>\n",
              "<style scoped>\n",
              "    .dataframe tbody tr th:only-of-type {\n",
              "        vertical-align: middle;\n",
              "    }\n",
              "\n",
              "    .dataframe tbody tr th {\n",
              "        vertical-align: top;\n",
              "    }\n",
              "\n",
              "    .dataframe thead th {\n",
              "        text-align: right;\n",
              "    }\n",
              "</style>\n",
              "<table border=\"1\" class=\"dataframe\">\n",
              "  <thead>\n",
              "    <tr style=\"text-align: right;\">\n",
              "      <th></th>\n",
              "      <th>SerialNo</th>\n",
              "      <th>TripId</th>\n",
              "      <th>StartTime</th>\n",
              "      <th>StopTime</th>\n",
              "      <th>DrivingDuration</th>\n",
              "      <th>StopDuration</th>\n",
              "      <th>Distance</th>\n",
              "      <th>IdlingDuration</th>\n",
              "      <th>StopLatitude</th>\n",
              "      <th>StopLongitude</th>\n",
              "    </tr>\n",
              "  </thead>\n",
              "  <tbody>\n",
              "    <tr>\n",
              "      <th>0</th>\n",
              "      <td>G7B620D8E5A9</td>\n",
              "      <td>69506070</td>\n",
              "      <td>2019-02-06 15:02:27.063000+00:00</td>\n",
              "      <td>2019-02-06 15:03:12+00:00</td>\n",
              "      <td>44.937</td>\n",
              "      <td>1333.000</td>\n",
              "      <td>0.109764</td>\n",
              "      <td>1333.0</td>\n",
              "      <td>49.273396</td>\n",
              "      <td>-123.091431</td>\n",
              "    </tr>\n",
              "    <tr>\n",
              "      <th>1</th>\n",
              "      <td>G7B620D8E5A9</td>\n",
              "      <td>69500796</td>\n",
              "      <td>2019-02-04 15:13:21.063000+00:00</td>\n",
              "      <td>2019-02-04 15:16:28+00:00</td>\n",
              "      <td>186.937</td>\n",
              "      <td>1515.063</td>\n",
              "      <td>0.145038</td>\n",
              "      <td>435.0</td>\n",
              "      <td>49.273293</td>\n",
              "      <td>-123.091408</td>\n",
              "    </tr>\n",
              "    <tr>\n",
              "      <th>2</th>\n",
              "      <td>G7B620D8E5A9</td>\n",
              "      <td>69500824</td>\n",
              "      <td>2019-02-04 22:24:17.187000+00:00</td>\n",
              "      <td>2019-02-04 22:25:11.063000+00:00</td>\n",
              "      <td>53.876</td>\n",
              "      <td>518.000</td>\n",
              "      <td>0.043088</td>\n",
              "      <td>149.0</td>\n",
              "      <td>49.274342</td>\n",
              "      <td>-123.091225</td>\n",
              "    </tr>\n",
              "    <tr>\n",
              "      <th>3</th>\n",
              "      <td>G7B620D8E5A9</td>\n",
              "      <td>69500775</td>\n",
              "      <td>2019-02-04 03:10:34.063000+00:00</td>\n",
              "      <td>2019-02-04 03:10:34.063000+00:00</td>\n",
              "      <td>0.000</td>\n",
              "      <td>3736.937</td>\n",
              "      <td>0.000000</td>\n",
              "      <td>1915.0</td>\n",
              "      <td>49.274319</td>\n",
              "      <td>-123.091125</td>\n",
              "    </tr>\n",
              "    <tr>\n",
              "      <th>4</th>\n",
              "      <td>G7B620D8E5A9</td>\n",
              "      <td>69500788</td>\n",
              "      <td>2019-02-04 09:11:51.063000+00:00</td>\n",
              "      <td>2019-02-04 09:12:11+00:00</td>\n",
              "      <td>19.937</td>\n",
              "      <td>655.000</td>\n",
              "      <td>0.145151</td>\n",
              "      <td>655.0</td>\n",
              "      <td>49.273266</td>\n",
              "      <td>-123.101059</td>\n",
              "    </tr>\n",
              "  </tbody>\n",
              "</table>\n",
              "</div>"
            ],
            "text/plain": [
              "       SerialNo    TripId  ... StopLatitude StopLongitude\n",
              "0  G7B620D8E5A9  69506070  ...    49.273396   -123.091431\n",
              "1  G7B620D8E5A9  69500796  ...    49.273293   -123.091408\n",
              "2  G7B620D8E5A9  69500824  ...    49.274342   -123.091225\n",
              "3  G7B620D8E5A9  69500775  ...    49.274319   -123.091125\n",
              "4  G7B620D8E5A9  69500788  ...    49.273266   -123.101059\n",
              "\n",
              "[5 rows x 10 columns]"
            ]
          },
          "metadata": {
            "tags": []
          },
          "execution_count": 4
        }
      ]
    },
    {
      "cell_type": "code",
      "metadata": {
        "id": "hlNYQ7q_6Svm",
        "colab_type": "code",
        "outputId": "7bdec943-e5a5-4ca1-d75b-8b83a507bd1b",
        "colab": {
          "base_uri": "https://localhost:8080/",
          "height": 34
        }
      },
      "source": [
        "trips_df.shape"
      ],
      "execution_count": 5,
      "outputs": [
        {
          "output_type": "execute_result",
          "data": {
            "text/plain": [
              "(7359532, 10)"
            ]
          },
          "metadata": {
            "tags": []
          },
          "execution_count": 5
        }
      ]
    },
    {
      "cell_type": "code",
      "metadata": {
        "id": "WXGaTSjp6XOf",
        "colab_type": "code",
        "outputId": "9584df75-b99c-4925-cf54-af75043b868e",
        "colab": {
          "base_uri": "https://localhost:8080/",
          "height": 34
        }
      },
      "source": [
        "trips_df.duplicated().sum()"
      ],
      "execution_count": 6,
      "outputs": [
        {
          "output_type": "execute_result",
          "data": {
            "text/plain": [
              "89383"
            ]
          },
          "metadata": {
            "tags": []
          },
          "execution_count": 6
        }
      ]
    },
    {
      "cell_type": "code",
      "metadata": {
        "id": "YTvtnUGh6tAG",
        "colab_type": "code",
        "outputId": "2401e356-8bc7-4ef5-b357-def10fececcd",
        "colab": {
          "base_uri": "https://localhost:8080/",
          "height": 204
        }
      },
      "source": [
        "trips_df.isna().sum()"
      ],
      "execution_count": 7,
      "outputs": [
        {
          "output_type": "execute_result",
          "data": {
            "text/plain": [
              "SerialNo           0\n",
              "TripId             0\n",
              "StartTime          0\n",
              "StopTime           0\n",
              "DrivingDuration    0\n",
              "StopDuration       0\n",
              "Distance           0\n",
              "IdlingDuration     0\n",
              "StopLatitude       0\n",
              "StopLongitude      0\n",
              "dtype: int64"
            ]
          },
          "metadata": {
            "tags": []
          },
          "execution_count": 7
        }
      ]
    },
    {
      "cell_type": "code",
      "metadata": {
        "id": "5TYf0pr261-Q",
        "colab_type": "code",
        "colab": {}
      },
      "source": [
        "trips_df.nunique()"
      ],
      "execution_count": 0,
      "outputs": []
    },
    {
      "cell_type": "code",
      "metadata": {
        "id": "u5EKJFpxvS6V",
        "colab_type": "code",
        "colab": {}
      },
      "source": [
        "trips_df.describe()"
      ],
      "execution_count": 0,
      "outputs": []
    },
    {
      "cell_type": "code",
      "metadata": {
        "id": "OkyVlQTlS3OV",
        "colab_type": "code",
        "colab": {
          "base_uri": "https://localhost:8080/",
          "height": 204
        },
        "outputId": "bb220d6c-0dc2-4bfb-cacb-a14239ef5c5b"
      },
      "source": [
        "trips_df.dtypes"
      ],
      "execution_count": 8,
      "outputs": [
        {
          "output_type": "execute_result",
          "data": {
            "text/plain": [
              "SerialNo            object\n",
              "TripId               int64\n",
              "StartTime           object\n",
              "StopTime            object\n",
              "DrivingDuration    float64\n",
              "StopDuration       float64\n",
              "Distance           float64\n",
              "IdlingDuration     float64\n",
              "StopLatitude       float64\n",
              "StopLongitude      float64\n",
              "dtype: object"
            ]
          },
          "metadata": {
            "tags": []
          },
          "execution_count": 8
        }
      ]
    },
    {
      "cell_type": "code",
      "metadata": {
        "id": "e3q8MUlABEDj",
        "colab_type": "code",
        "colab": {}
      },
      "source": [
        "# note that a lot of trips seem to end in .937 or 0, likely an measuring instrument limitation\n",
        "# a lot of trips have no driving duration, meaning the truck was turned on and off without moving\n",
        "\n",
        "\n",
        "trips_df.DrivingDuration.value_counts().sort_values(ascending=False).head(20)"
      ],
      "execution_count": 0,
      "outputs": []
    },
    {
      "cell_type": "code",
      "metadata": {
        "id": "lhmYPqOzBhAk",
        "colab_type": "code",
        "colab": {}
      },
      "source": [
        "# many counts of extremely short distance trips\n",
        "\n",
        "trips_df.Distance.value_counts().sort_values(ascending=False).head(20)"
      ],
      "execution_count": 0,
      "outputs": []
    },
    {
      "cell_type": "code",
      "metadata": {
        "id": "iiA5pR_84QqE",
        "colab_type": "code",
        "colab": {}
      },
      "source": [
        "sns.distplot(trips_df['DrivingDuration'])\n",
        "\n",
        "# distribution graphs look like shit because of the zeroes, so let's just drop them for now"
      ],
      "execution_count": 0,
      "outputs": []
    },
    {
      "cell_type": "code",
      "metadata": {
        "id": "PXTKajvOA9Ld",
        "colab_type": "code",
        "colab": {
          "base_uri": "https://localhost:8080/",
          "height": 68
        },
        "outputId": "bfe247e6-ce24-4e06-e351-09d34884fc07"
      },
      "source": [
        "trips_df2 = trips_df[trips_df['DrivingDuration'] > 0]\n",
        "trips_df2 = trips_df2[trips_df['Distance'] > 0]\n",
        "trips_df2.shape"
      ],
      "execution_count": 14,
      "outputs": [
        {
          "output_type": "stream",
          "text": [
            "/usr/local/lib/python3.6/dist-packages/ipykernel_launcher.py:2: UserWarning: Boolean Series key will be reindexed to match DataFrame index.\n",
            "  \n"
          ],
          "name": "stderr"
        },
        {
          "output_type": "execute_result",
          "data": {
            "text/plain": [
              "(7359532, 10)"
            ]
          },
          "metadata": {
            "tags": []
          },
          "execution_count": 14
        }
      ]
    },
    {
      "cell_type": "code",
      "metadata": {
        "id": "BwSdTpsRP-ae",
        "colab_type": "code",
        "colab": {
          "base_uri": "https://localhost:8080/",
          "height": 202
        },
        "outputId": "9108cf32-1a8b-45c8-c444-62a310271fd3"
      },
      "source": [
        "# start time and stop time convert to datetime\n",
        "# strings have lots of extraneous characters \n",
        "\n",
        "trips_df2[['StartTime', 'StopTime']].head()\n",
        "\n",
        "# we only need the first 19 to get datetime down to the second"
      ],
      "execution_count": 15,
      "outputs": [
        {
          "output_type": "execute_result",
          "data": {
            "text/html": [
              "<div>\n",
              "<style scoped>\n",
              "    .dataframe tbody tr th:only-of-type {\n",
              "        vertical-align: middle;\n",
              "    }\n",
              "\n",
              "    .dataframe tbody tr th {\n",
              "        vertical-align: top;\n",
              "    }\n",
              "\n",
              "    .dataframe thead th {\n",
              "        text-align: right;\n",
              "    }\n",
              "</style>\n",
              "<table border=\"1\" class=\"dataframe\">\n",
              "  <thead>\n",
              "    <tr style=\"text-align: right;\">\n",
              "      <th></th>\n",
              "      <th>StartTime</th>\n",
              "      <th>StopTime</th>\n",
              "    </tr>\n",
              "  </thead>\n",
              "  <tbody>\n",
              "    <tr>\n",
              "      <th>0</th>\n",
              "      <td>2019-02-06 15:02:27.063000+00:00</td>\n",
              "      <td>2019-02-06 15:03:12+00:00</td>\n",
              "    </tr>\n",
              "    <tr>\n",
              "      <th>1</th>\n",
              "      <td>2019-02-04 15:13:21.063000+00:00</td>\n",
              "      <td>2019-02-04 15:16:28+00:00</td>\n",
              "    </tr>\n",
              "    <tr>\n",
              "      <th>2</th>\n",
              "      <td>2019-02-04 22:24:17.187000+00:00</td>\n",
              "      <td>2019-02-04 22:25:11.063000+00:00</td>\n",
              "    </tr>\n",
              "    <tr>\n",
              "      <th>4</th>\n",
              "      <td>2019-02-04 09:11:51.063000+00:00</td>\n",
              "      <td>2019-02-04 09:12:11+00:00</td>\n",
              "    </tr>\n",
              "    <tr>\n",
              "      <th>5</th>\n",
              "      <td>2019-02-04 09:59:30.127000+00:00</td>\n",
              "      <td>2019-02-04 10:00:12+00:00</td>\n",
              "    </tr>\n",
              "  </tbody>\n",
              "</table>\n",
              "</div>"
            ],
            "text/plain": [
              "                          StartTime                          StopTime\n",
              "0  2019-02-06 15:02:27.063000+00:00         2019-02-06 15:03:12+00:00\n",
              "1  2019-02-04 15:13:21.063000+00:00         2019-02-04 15:16:28+00:00\n",
              "2  2019-02-04 22:24:17.187000+00:00  2019-02-04 22:25:11.063000+00:00\n",
              "4  2019-02-04 09:11:51.063000+00:00         2019-02-04 09:12:11+00:00\n",
              "5  2019-02-04 09:59:30.127000+00:00         2019-02-04 10:00:12+00:00"
            ]
          },
          "metadata": {
            "tags": []
          },
          "execution_count": 15
        }
      ]
    },
    {
      "cell_type": "code",
      "metadata": {
        "id": "qxlzTfL1Td7z",
        "colab_type": "code",
        "colab": {
          "base_uri": "https://localhost:8080/",
          "height": 225
        },
        "outputId": "1bf9cf77-c031-4b54-c623-ec50ae427b53"
      },
      "source": [
        "trips_df2['StartTime'].str.slice(0,19)"
      ],
      "execution_count": 20,
      "outputs": [
        {
          "output_type": "execute_result",
          "data": {
            "text/plain": [
              "0          2019-02-06 15:02:27\n",
              "1          2019-02-04 15:13:21\n",
              "2          2019-02-04 22:24:17\n",
              "4          2019-02-04 09:11:51\n",
              "5          2019-02-04 09:59:30\n",
              "                  ...         \n",
              "7359527    2019-11-28 16:30:44\n",
              "7359528    2019-07-25 14:33:50\n",
              "7359529    2019-04-29 14:25:53\n",
              "7359530    2019-06-28 19:05:09\n",
              "7359531    2019-02-27 19:56:33\n",
              "Name: StartTime, Length: 7259789, dtype: object"
            ]
          },
          "metadata": {
            "tags": []
          },
          "execution_count": 20
        }
      ]
    },
    {
      "cell_type": "code",
      "metadata": {
        "id": "55fAktbPTgFA",
        "colab_type": "code",
        "colab": {}
      },
      "source": [
        ""
      ],
      "execution_count": 0,
      "outputs": []
    }
  ]
}