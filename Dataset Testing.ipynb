{
 "cells": [
  {
   "cell_type": "code",
   "execution_count": 1,
   "metadata": {},
   "outputs": [],
   "source": [
    "import numpy as np\n",
    "import pandas as pd\n",
    "import matplotlib.pyplot as plt\n",
    "import seaborn as sns\n",
    "\n",
    "plt.rcParams['figure.facecolor']='w'"
   ]
  },
  {
   "cell_type": "code",
   "execution_count": 2,
   "metadata": {},
   "outputs": [],
   "source": [
    "\n",
    "from sklearn.preprocessing import StandardScaler, MinMaxScaler\n",
    "from sklearn.decomposition import PCA\n",
    "from sklearn.cluster import KMeans, DBSCAN, AgglomerativeClustering\n",
    "from sklearn.metrics import silhouette_score\n",
    "from sklearn.pipeline import Pipeline\n",
    "from scipy.cluster.hierarchy import dendrogram, linkage"
   ]
  },
  {
   "cell_type": "code",
   "execution_count": 3,
   "metadata": {},
   "outputs": [],
   "source": [
    "\n",
    "#no bins\n",
    "teledf = pd.read_csv('teledf.csv').drop(columns=['Unnamed: 0'])\n",
    "\n",
    "#binned and continuous\n",
    "teledf_all=pd.read_csv('teledf_all.csv').drop(columns=['Unnamed: 0'])\n",
    "\n",
    "#binned by 5\n",
    "teledf_bins=pd.read_csv('teledf_bins.csv').drop(columns=['Unnamed: 0'])\n",
    "teledf_churn=pd.read_csv('teledf_churn.csv').drop(columns=['Unnamed: 0'])\n",
    "teledf_nochurn=pd.read_csv('teledf_nochurn.csv').drop(columns=['Unnamed: 0'])\n",
    "\n",
    "#binned by 10\n",
    "teledf_bins10=pd.read_csv('teledf_bins10.csv').drop(columns=['Unnamed: 0']) # best\n",
    "teledf_churn_bins=pd.read_csv('teledf_churn_bins.csv').drop(columns=['Unnamed: 0']) #best\n",
    "teledf_nochurn_bins =pd.read_csv('teledf_nochurn_bins.csv').drop(columns=['Unnamed: 0']) #best"
   ]
  },
  {
   "cell_type": "code",
   "execution_count": 79,
   "metadata": {},
   "outputs": [
    {
     "data": {
      "text/html": [
       "<div>\n",
       "<style scoped>\n",
       "    .dataframe tbody tr th:only-of-type {\n",
       "        vertical-align: middle;\n",
       "    }\n",
       "\n",
       "    .dataframe tbody tr th {\n",
       "        vertical-align: top;\n",
       "    }\n",
       "\n",
       "    .dataframe thead th {\n",
       "        text-align: right;\n",
       "    }\n",
       "</style>\n",
       "<table border=\"1\" class=\"dataframe\">\n",
       "  <thead>\n",
       "    <tr style=\"text-align: right;\">\n",
       "      <th></th>\n",
       "      <th>State</th>\n",
       "      <th>Area code</th>\n",
       "      <th>International plan</th>\n",
       "      <th>Voice mail plan</th>\n",
       "      <th>Customer service calls</th>\n",
       "      <th>Churn</th>\n",
       "      <th>Bin_Total day minutes</th>\n",
       "      <th>Bin_Total day calls</th>\n",
       "      <th>Bin_Total day charge</th>\n",
       "      <th>Bin_Total eve minutes</th>\n",
       "      <th>...</th>\n",
       "      <th>Bin_Total night calls</th>\n",
       "      <th>Bin_Total night charge</th>\n",
       "      <th>Bin_Total intl minutes</th>\n",
       "      <th>Bin_Total intl calls</th>\n",
       "      <th>Bin_Total intl charge</th>\n",
       "      <th>Bin_Total minutes</th>\n",
       "      <th>Bin_Total calls</th>\n",
       "      <th>Bin_Total charge</th>\n",
       "      <th>Bin_Account length</th>\n",
       "      <th>Bin_Number vmail messages</th>\n",
       "    </tr>\n",
       "  </thead>\n",
       "  <tbody>\n",
       "    <tr>\n",
       "      <th>0</th>\n",
       "      <td>KS</td>\n",
       "      <td>415</td>\n",
       "      <td>0</td>\n",
       "      <td>1</td>\n",
       "      <td>1</td>\n",
       "      <td>0</td>\n",
       "      <td>8</td>\n",
       "      <td>7</td>\n",
       "      <td>8</td>\n",
       "      <td>6</td>\n",
       "      <td>...</td>\n",
       "      <td>5</td>\n",
       "      <td>6</td>\n",
       "      <td>5</td>\n",
       "      <td>2</td>\n",
       "      <td>5</td>\n",
       "      <td>8</td>\n",
       "      <td>5</td>\n",
       "      <td>8</td>\n",
       "      <td>6</td>\n",
       "      <td>5</td>\n",
       "    </tr>\n",
       "    <tr>\n",
       "      <th>1</th>\n",
       "      <td>OH</td>\n",
       "      <td>415</td>\n",
       "      <td>0</td>\n",
       "      <td>1</td>\n",
       "      <td>1</td>\n",
       "      <td>0</td>\n",
       "      <td>5</td>\n",
       "      <td>8</td>\n",
       "      <td>5</td>\n",
       "      <td>6</td>\n",
       "      <td>...</td>\n",
       "      <td>5</td>\n",
       "      <td>7</td>\n",
       "      <td>7</td>\n",
       "      <td>2</td>\n",
       "      <td>7</td>\n",
       "      <td>6</td>\n",
       "      <td>7</td>\n",
       "      <td>5</td>\n",
       "      <td>5</td>\n",
       "      <td>6</td>\n",
       "    </tr>\n",
       "    <tr>\n",
       "      <th>2</th>\n",
       "      <td>NJ</td>\n",
       "      <td>415</td>\n",
       "      <td>0</td>\n",
       "      <td>0</td>\n",
       "      <td>0</td>\n",
       "      <td>0</td>\n",
       "      <td>7</td>\n",
       "      <td>7</td>\n",
       "      <td>7</td>\n",
       "      <td>4</td>\n",
       "      <td>...</td>\n",
       "      <td>5</td>\n",
       "      <td>4</td>\n",
       "      <td>7</td>\n",
       "      <td>3</td>\n",
       "      <td>7</td>\n",
       "      <td>5</td>\n",
       "      <td>7</td>\n",
       "      <td>6</td>\n",
       "      <td>6</td>\n",
       "      <td>1</td>\n",
       "    </tr>\n",
       "    <tr>\n",
       "      <th>3</th>\n",
       "      <td>OH</td>\n",
       "      <td>408</td>\n",
       "      <td>1</td>\n",
       "      <td>0</td>\n",
       "      <td>2</td>\n",
       "      <td>0</td>\n",
       "      <td>9</td>\n",
       "      <td>5</td>\n",
       "      <td>9</td>\n",
       "      <td>2</td>\n",
       "      <td>...</td>\n",
       "      <td>4</td>\n",
       "      <td>5</td>\n",
       "      <td>4</td>\n",
       "      <td>4</td>\n",
       "      <td>4</td>\n",
       "      <td>5</td>\n",
       "      <td>3</td>\n",
       "      <td>6</td>\n",
       "      <td>4</td>\n",
       "      <td>1</td>\n",
       "    </tr>\n",
       "    <tr>\n",
       "      <th>4</th>\n",
       "      <td>OK</td>\n",
       "      <td>415</td>\n",
       "      <td>1</td>\n",
       "      <td>0</td>\n",
       "      <td>3</td>\n",
       "      <td>0</td>\n",
       "      <td>5</td>\n",
       "      <td>7</td>\n",
       "      <td>5</td>\n",
       "      <td>5</td>\n",
       "      <td>...</td>\n",
       "      <td>7</td>\n",
       "      <td>5</td>\n",
       "      <td>6</td>\n",
       "      <td>2</td>\n",
       "      <td>6</td>\n",
       "      <td>4</td>\n",
       "      <td>8</td>\n",
       "      <td>4</td>\n",
       "      <td>4</td>\n",
       "      <td>1</td>\n",
       "    </tr>\n",
       "  </tbody>\n",
       "</table>\n",
       "<p>5 rows × 23 columns</p>\n",
       "</div>"
      ],
      "text/plain": [
       "  State  Area code  International plan  Voice mail plan  \\\n",
       "0    KS        415                   0                1   \n",
       "1    OH        415                   0                1   \n",
       "2    NJ        415                   0                0   \n",
       "3    OH        408                   1                0   \n",
       "4    OK        415                   1                0   \n",
       "\n",
       "   Customer service calls  Churn  Bin_Total day minutes  Bin_Total day calls  \\\n",
       "0                       1      0                      8                    7   \n",
       "1                       1      0                      5                    8   \n",
       "2                       0      0                      7                    7   \n",
       "3                       2      0                      9                    5   \n",
       "4                       3      0                      5                    7   \n",
       "\n",
       "   Bin_Total day charge  Bin_Total eve minutes  ...  Bin_Total night calls  \\\n",
       "0                     8                      6  ...                      5   \n",
       "1                     5                      6  ...                      5   \n",
       "2                     7                      4  ...                      5   \n",
       "3                     9                      2  ...                      4   \n",
       "4                     5                      5  ...                      7   \n",
       "\n",
       "   Bin_Total night charge  Bin_Total intl minutes  Bin_Total intl calls  \\\n",
       "0                       6                       5                     2   \n",
       "1                       7                       7                     2   \n",
       "2                       4                       7                     3   \n",
       "3                       5                       4                     4   \n",
       "4                       5                       6                     2   \n",
       "\n",
       "   Bin_Total intl charge  Bin_Total minutes  Bin_Total calls  \\\n",
       "0                      5                  8                5   \n",
       "1                      7                  6                7   \n",
       "2                      7                  5                7   \n",
       "3                      4                  5                3   \n",
       "4                      6                  4                8   \n",
       "\n",
       "   Bin_Total charge  Bin_Account length  Bin_Number vmail messages  \n",
       "0                 8                   6                          5  \n",
       "1                 5                   5                          6  \n",
       "2                 6                   6                          1  \n",
       "3                 6                   4                          1  \n",
       "4                 4                   4                          1  \n",
       "\n",
       "[5 rows x 23 columns]"
      ]
     },
     "execution_count": 79,
     "metadata": {},
     "output_type": "execute_result"
    }
   ],
   "source": [
    "teledf_nochurn_bins.head()"
   ]
  },
  {
   "cell_type": "code",
   "execution_count": 94,
   "metadata": {},
   "outputs": [],
   "source": [
    "#sub in different datasets as wanted\n",
    "\n",
    "\n",
    "#X = teledf_all.drop(columns = ['State'])\n",
    "#X = teledf_bins10.drop(columns = ['State'])\n",
    "#X = teledf_bins.drop(columns = ['State'])\n",
    "#X = teledf_churn.drop(columns = ['State'])\n",
    "#X = teledf_nochurn.drop(columns = ['State'])\n",
    "#X = teledf_churn_bins.drop(columns = ['State'])\n",
    "X = teledf_nochurn_bins.drop(columns = ['State'])\n",
    "\n",
    "#in data prep, minmaxscaler yielded much better results than standardscaler\n",
    "scaler = MinMaxScaler()\n",
    "pca_test = PCA()\n",
    "\n",
    "X_scaled = scaler.fit_transform(X)\n",
    "X_scaled_pca_test = pca_test.fit_transform(X_scaled)"
   ]
  },
  {
   "cell_type": "code",
   "execution_count": 95,
   "metadata": {},
   "outputs": [
    {
     "data": {
      "text/plain": [
       "array([[0.06862745, 0.        , 1.        , ..., 0.875     , 0.55555556,\n",
       "        0.44444444],\n",
       "       [0.06862745, 0.        , 1.        , ..., 0.5       , 0.44444444,\n",
       "        0.55555556],\n",
       "       [0.06862745, 0.        , 0.        , ..., 0.625     , 0.55555556,\n",
       "        0.        ],\n",
       "       ...,\n",
       "       [0.06862745, 0.        , 0.        , ..., 0.5       , 0.22222222,\n",
       "        0.        ],\n",
       "       [0.06862745, 0.        , 0.        , ..., 0.5       , 0.66666667,\n",
       "        0.        ],\n",
       "       [1.        , 1.        , 0.        , ..., 0.5       , 0.77777778,\n",
       "        0.        ]])"
      ]
     },
     "execution_count": 95,
     "metadata": {},
     "output_type": "execute_result"
    }
   ],
   "source": [
    "X_scaled"
   ]
  },
  {
   "cell_type": "code",
   "execution_count": 96,
   "metadata": {},
   "outputs": [
    {
     "data": {
      "text/plain": [
       "22"
      ]
     },
     "execution_count": 96,
     "metadata": {},
     "output_type": "execute_result"
    }
   ],
   "source": [
    "#pca components testing\n",
    "\n",
    "pca_test.n_components_"
   ]
  },
  {
   "cell_type": "code",
   "execution_count": 97,
   "metadata": {},
   "outputs": [
    {
     "data": {
      "text/plain": [
       "(0, 1)"
      ]
     },
     "execution_count": 97,
     "metadata": {},
     "output_type": "execute_result"
    },
    {
     "data": {
      "image/png": "[encoded data removed]",
      "text/plain": [
       "<Figure size 432x288 with 1 Axes>"
      ]
     },
     "metadata": {
      "needs_background": "light"
     },
     "output_type": "display_data"
    }
   ],
   "source": [
    "#scree plot\n",
    "plt.bar(range(1,23),pca_test.explained_variance_ratio_)\n",
    "plt.title('Overall Scree Plot')\n",
    "plt.xlabel('PC')\n",
    "plt.ylabel('EVR')\n",
    "plt.ylim(0,1)"
   ]
  },
  {
   "cell_type": "code",
   "execution_count": 102,
   "metadata": {},
   "outputs": [],
   "source": [
    "#implementing pca\n",
    "\n",
    "pca = PCA(n_components=3)\n",
    "X_scaled_pca = pca.fit_transform(X_scaled)"
   ]
  },
  {
   "cell_type": "code",
   "execution_count": 103,
   "metadata": {},
   "outputs": [],
   "source": [
    "#kmeans testing K value\n",
    "\n",
    "\n",
    "inertias_list = []\n",
    "sil_list = []\n",
    "\n",
    "for i in range(1,10):\n",
    "    kmeans_1 = KMeans(n_clusters=i, random_state = 42)\n",
    "    kmeans_1.fit(X_scaled_pca)\n",
    "    inertias_list.append(kmeans_1.inertia_)\n",
    "    try:\n",
    "        sil_list.append(silhouette_score(X_scaled, kmeans_1.labels_))\n",
    "    except ValueError:\n",
    "        sil_list.append(np.nan)"
   ]
  },
  {
   "cell_type": "code",
   "execution_count": 104,
   "metadata": {},
   "outputs": [
    {
     "data": {
      "text/plain": [
       "Text(0.5, 1.0, 'Inertia plot')"
      ]
     },
     "execution_count": 104,
     "metadata": {},
     "output_type": "execute_result"
    },
    {
     "data": {
      "image/png": "[encoded data removed]",
      "text/plain": [
       "<Figure size 432x288 with 1 Axes>"
      ]
     },
     "metadata": {
      "needs_background": "light"
     },
     "output_type": "display_data"
    }
   ],
   "source": [
    "plt.scatter(range(1,10),inertias_list)\n",
    "plt.xlabel('K value')\n",
    "plt.ylabel('inertia')\n",
    "plt.title('Inertia plot')"
   ]
  },
  {
   "cell_type": "code",
   "execution_count": 105,
   "metadata": {},
   "outputs": [
    {
     "data": {
      "text/plain": [
       "Text(0.5, 1.0, 'Silhouette plot')"
      ]
     },
     "execution_count": 105,
     "metadata": {},
     "output_type": "execute_result"
    },
    {
     "data": {
      "image/png": "[encoded data removed]",
      "text/plain": [
       "<Figure size 432x288 with 1 Axes>"
      ]
     },
     "metadata": {
      "needs_background": "light"
     },
     "output_type": "display_data"
    }
   ],
   "source": [
    "plt.scatter(range(1,10),sil_list)\n",
    "plt.xlabel('K value')\n",
    "plt.ylabel('silhouette score')\n",
    "plt.title('Silhouette plot')"
   ]
  },
  {
   "cell_type": "code",
   "execution_count": 106,
   "metadata": {},
   "outputs": [],
   "source": [
    "# testing DBSCAN\n",
    "\n",
    "metrics_range = ['euclidean', 'manhattan', 'cosine']\n",
    "samples_range = range(1,10)\n",
    "eps_range = np.arange(0.1,1,0.1)\n",
    "\n",
    "sil2_list = []\n",
    "\n",
    "for i in metrics_range:\n",
    "    for j in samples_range:\n",
    "        for k in eps_range:\n",
    "            dbloop = DBSCAN(metric=i, min_samples=j, eps=k)\n",
    "            dbloop.fit(X_scaled_pca)\n",
    "            cluster_index_loop = np.where(dbloop.labels_ != -1)[0]\n",
    "            try:\n",
    "                sil2_list.append((i,j,k,silhouette_score(X_scaled[cluster_index_loop], dbloop.labels_[cluster_index_loop], metric = i)))\n",
    "            except ValueError:\n",
    "                sil2_list.append(np.nan)"
   ]
  },
  {
   "cell_type": "code",
   "execution_count": 107,
   "metadata": {},
   "outputs": [],
   "source": [
    "scoredf = pd.DataFrame(sil2_list, columns = ['metric','min_samples','eps','score'])"
   ]
  },
  {
   "cell_type": "code",
   "execution_count": 108,
   "metadata": {},
   "outputs": [
    {
     "data": {
      "text/html": [
       "<div>\n",
       "<style scoped>\n",
       "    .dataframe tbody tr th:only-of-type {\n",
       "        vertical-align: middle;\n",
       "    }\n",
       "\n",
       "    .dataframe tbody tr th {\n",
       "        vertical-align: top;\n",
       "    }\n",
       "\n",
       "    .dataframe thead th {\n",
       "        text-align: right;\n",
       "    }\n",
       "</style>\n",
       "<table border=\"1\" class=\"dataframe\">\n",
       "  <thead>\n",
       "    <tr style=\"text-align: right;\">\n",
       "      <th></th>\n",
       "      <th>metric</th>\n",
       "      <th>min_samples</th>\n",
       "      <th>eps</th>\n",
       "      <th>score</th>\n",
       "    </tr>\n",
       "  </thead>\n",
       "  <tbody>\n",
       "    <tr>\n",
       "      <th>235</th>\n",
       "      <td>cosine</td>\n",
       "      <td>9.0</td>\n",
       "      <td>0.2</td>\n",
       "      <td>0.484016</td>\n",
       "    </tr>\n",
       "    <tr>\n",
       "      <th>234</th>\n",
       "      <td>cosine</td>\n",
       "      <td>9.0</td>\n",
       "      <td>0.1</td>\n",
       "      <td>0.484016</td>\n",
       "    </tr>\n",
       "    <tr>\n",
       "      <th>162</th>\n",
       "      <td>cosine</td>\n",
       "      <td>1.0</td>\n",
       "      <td>0.1</td>\n",
       "      <td>0.484016</td>\n",
       "    </tr>\n",
       "    <tr>\n",
       "      <th>172</th>\n",
       "      <td>cosine</td>\n",
       "      <td>2.0</td>\n",
       "      <td>0.2</td>\n",
       "      <td>0.484016</td>\n",
       "    </tr>\n",
       "    <tr>\n",
       "      <th>180</th>\n",
       "      <td>cosine</td>\n",
       "      <td>3.0</td>\n",
       "      <td>0.1</td>\n",
       "      <td>0.484016</td>\n",
       "    </tr>\n",
       "    <tr>\n",
       "      <th>181</th>\n",
       "      <td>cosine</td>\n",
       "      <td>3.0</td>\n",
       "      <td>0.2</td>\n",
       "      <td>0.484016</td>\n",
       "    </tr>\n",
       "    <tr>\n",
       "      <th>189</th>\n",
       "      <td>cosine</td>\n",
       "      <td>4.0</td>\n",
       "      <td>0.1</td>\n",
       "      <td>0.484016</td>\n",
       "    </tr>\n",
       "    <tr>\n",
       "      <th>190</th>\n",
       "      <td>cosine</td>\n",
       "      <td>4.0</td>\n",
       "      <td>0.2</td>\n",
       "      <td>0.484016</td>\n",
       "    </tr>\n",
       "    <tr>\n",
       "      <th>198</th>\n",
       "      <td>cosine</td>\n",
       "      <td>5.0</td>\n",
       "      <td>0.1</td>\n",
       "      <td>0.484016</td>\n",
       "    </tr>\n",
       "    <tr>\n",
       "      <th>199</th>\n",
       "      <td>cosine</td>\n",
       "      <td>5.0</td>\n",
       "      <td>0.2</td>\n",
       "      <td>0.484016</td>\n",
       "    </tr>\n",
       "    <tr>\n",
       "      <th>207</th>\n",
       "      <td>cosine</td>\n",
       "      <td>6.0</td>\n",
       "      <td>0.1</td>\n",
       "      <td>0.484016</td>\n",
       "    </tr>\n",
       "    <tr>\n",
       "      <th>208</th>\n",
       "      <td>cosine</td>\n",
       "      <td>6.0</td>\n",
       "      <td>0.2</td>\n",
       "      <td>0.484016</td>\n",
       "    </tr>\n",
       "    <tr>\n",
       "      <th>216</th>\n",
       "      <td>cosine</td>\n",
       "      <td>7.0</td>\n",
       "      <td>0.1</td>\n",
       "      <td>0.484016</td>\n",
       "    </tr>\n",
       "    <tr>\n",
       "      <th>217</th>\n",
       "      <td>cosine</td>\n",
       "      <td>7.0</td>\n",
       "      <td>0.2</td>\n",
       "      <td>0.484016</td>\n",
       "    </tr>\n",
       "    <tr>\n",
       "      <th>225</th>\n",
       "      <td>cosine</td>\n",
       "      <td>8.0</td>\n",
       "      <td>0.1</td>\n",
       "      <td>0.484016</td>\n",
       "    </tr>\n",
       "    <tr>\n",
       "      <th>171</th>\n",
       "      <td>cosine</td>\n",
       "      <td>2.0</td>\n",
       "      <td>0.1</td>\n",
       "      <td>0.484016</td>\n",
       "    </tr>\n",
       "    <tr>\n",
       "      <th>226</th>\n",
       "      <td>cosine</td>\n",
       "      <td>8.0</td>\n",
       "      <td>0.2</td>\n",
       "      <td>0.484016</td>\n",
       "    </tr>\n",
       "    <tr>\n",
       "      <th>163</th>\n",
       "      <td>cosine</td>\n",
       "      <td>1.0</td>\n",
       "      <td>0.2</td>\n",
       "      <td>0.484016</td>\n",
       "    </tr>\n",
       "    <tr>\n",
       "      <th>72</th>\n",
       "      <td>euclidean</td>\n",
       "      <td>9.0</td>\n",
       "      <td>0.1</td>\n",
       "      <td>0.303976</td>\n",
       "    </tr>\n",
       "    <tr>\n",
       "      <th>63</th>\n",
       "      <td>euclidean</td>\n",
       "      <td>8.0</td>\n",
       "      <td>0.1</td>\n",
       "      <td>0.303871</td>\n",
       "    </tr>\n",
       "  </tbody>\n",
       "</table>\n",
       "</div>"
      ],
      "text/plain": [
       "        metric  min_samples  eps     score\n",
       "235     cosine          9.0  0.2  0.484016\n",
       "234     cosine          9.0  0.1  0.484016\n",
       "162     cosine          1.0  0.1  0.484016\n",
       "172     cosine          2.0  0.2  0.484016\n",
       "180     cosine          3.0  0.1  0.484016\n",
       "181     cosine          3.0  0.2  0.484016\n",
       "189     cosine          4.0  0.1  0.484016\n",
       "190     cosine          4.0  0.2  0.484016\n",
       "198     cosine          5.0  0.1  0.484016\n",
       "199     cosine          5.0  0.2  0.484016\n",
       "207     cosine          6.0  0.1  0.484016\n",
       "208     cosine          6.0  0.2  0.484016\n",
       "216     cosine          7.0  0.1  0.484016\n",
       "217     cosine          7.0  0.2  0.484016\n",
       "225     cosine          8.0  0.1  0.484016\n",
       "171     cosine          2.0  0.1  0.484016\n",
       "226     cosine          8.0  0.2  0.484016\n",
       "163     cosine          1.0  0.2  0.484016\n",
       "72   euclidean          9.0  0.1  0.303976\n",
       "63   euclidean          8.0  0.1  0.303871"
      ]
     },
     "execution_count": 108,
     "metadata": {},
     "output_type": "execute_result"
    }
   ],
   "source": [
    "scoredf.sort_values(by='score', ascending = False).head(20)"
   ]
  },
  {
   "cell_type": "code",
   "execution_count": 70,
   "metadata": {},
   "outputs": [],
   "source": [
    "#optimal DBSCAN model\n",
    "\n",
    "dbscan_final = DBSCAN(metric='cosine', min_samples=9, eps=0.2)\n",
    "\n",
    "# too many clusters?"
   ]
  },
  {
   "cell_type": "code",
   "execution_count": 92,
   "metadata": {},
   "outputs": [],
   "source": [
    "# testing agglomerative clustering\n",
    "# very long run time!\n",
    "\n",
    "linkage_list = ['ward', 'complete', 'average','single']\n",
    "clusters_range = range(1,10)\n",
    "\n",
    "sil4_list = []\n",
    "\n",
    "for i in linkage_list:\n",
    "    for j in clusters_range:\n",
    "        acloop = AgglomerativeClustering(linkage=i, n_clusters=j, distance_threshold=None)\n",
    "        acloop.fit(X_scaled_pca)\n",
    "        try:\n",
    "            sil4_list.append((i,j,silhouette_score(X_scaled, acloop.labels_)))\n",
    "        except ValueError:\n",
    "            sil4_list.append(np.nan)"
   ]
  },
  {
   "cell_type": "code",
   "execution_count": 93,
   "metadata": {},
   "outputs": [
    {
     "data": {
      "text/html": [
       "<div>\n",
       "<style scoped>\n",
       "    .dataframe tbody tr th:only-of-type {\n",
       "        vertical-align: middle;\n",
       "    }\n",
       "\n",
       "    .dataframe tbody tr th {\n",
       "        vertical-align: top;\n",
       "    }\n",
       "\n",
       "    .dataframe thead th {\n",
       "        text-align: right;\n",
       "    }\n",
       "</style>\n",
       "<table border=\"1\" class=\"dataframe\">\n",
       "  <thead>\n",
       "    <tr style=\"text-align: right;\">\n",
       "      <th></th>\n",
       "      <th>linkage</th>\n",
       "      <th>n_clusters</th>\n",
       "      <th>score</th>\n",
       "    </tr>\n",
       "  </thead>\n",
       "  <tbody>\n",
       "    <tr>\n",
       "      <th>18</th>\n",
       "      <td>average</td>\n",
       "      <td>2.0</td>\n",
       "      <td>0.272030</td>\n",
       "    </tr>\n",
       "    <tr>\n",
       "      <th>27</th>\n",
       "      <td>single</td>\n",
       "      <td>2.0</td>\n",
       "      <td>0.272030</td>\n",
       "    </tr>\n",
       "    <tr>\n",
       "      <th>33</th>\n",
       "      <td>single</td>\n",
       "      <td>8.0</td>\n",
       "      <td>0.270998</td>\n",
       "    </tr>\n",
       "    <tr>\n",
       "      <th>7</th>\n",
       "      <td>ward</td>\n",
       "      <td>9.0</td>\n",
       "      <td>0.269223</td>\n",
       "    </tr>\n",
       "    <tr>\n",
       "      <th>6</th>\n",
       "      <td>ward</td>\n",
       "      <td>8.0</td>\n",
       "      <td>0.268266</td>\n",
       "    </tr>\n",
       "  </tbody>\n",
       "</table>\n",
       "</div>"
      ],
      "text/plain": [
       "    linkage  n_clusters     score\n",
       "18  average         2.0  0.272030\n",
       "27   single         2.0  0.272030\n",
       "33   single         8.0  0.270998\n",
       "7      ward         9.0  0.269223\n",
       "6      ward         8.0  0.268266"
      ]
     },
     "execution_count": 93,
     "metadata": {},
     "output_type": "execute_result"
    }
   ],
   "source": [
    "scoredf3 = pd.DataFrame(sil4_list[1:], columns = ['linkage','n_clusters','score'])\n",
    "scoredf3.sort_values(by='score', ascending=False).head()"
   ]
  },
  {
   "cell_type": "code",
   "execution_count": 73,
   "metadata": {},
   "outputs": [],
   "source": [
    "#optimal AC model\n",
    "\n",
    "aggclus_final = AgglomerativeClustering(linkage = 'ward', n_clusters=9, distance_threshold=None)\n",
    "\n"
   ]
  },
  {
   "cell_type": "code",
   "execution_count": 74,
   "metadata": {},
   "outputs": [
    {
     "data": {
      "text/plain": [
       "DBSCAN(algorithm='auto', eps=0.2, leaf_size=30, metric='cosine',\n",
       "       metric_params=None, min_samples=9, n_jobs=None, p=None)"
      ]
     },
     "execution_count": 74,
     "metadata": {},
     "output_type": "execute_result"
    }
   ],
   "source": [
    "#best overall model by teledf = dbscan\n",
    "\n",
    "dbscan_final.fit(X_scaled_pca)"
   ]
  },
  {
   "cell_type": "code",
   "execution_count": 75,
   "metadata": {},
   "outputs": [
    {
     "data": {
      "image/png": "[encoded data removed]",
      "text/plain": [
       "<Figure size 432x288 with 1 Axes>"
      ]
     },
     "metadata": {
      "needs_background": "light"
     },
     "output_type": "display_data"
    }
   ],
   "source": [
    "#visualization\n",
    "\n",
    "sns.scatterplot(X_scaled[:,0],\n",
    "               X_scaled[:,1],\n",
    "               hue = dbscan_final.labels_)\n",
    "plt.title('DBSCAN')\n",
    "plt.xlabel('PCA1')\n",
    "plt.ylabel('PCA2')\n",
    "plt.show()"
   ]
  },
  {
   "cell_type": "code",
   "execution_count": 76,
   "metadata": {},
   "outputs": [
    {
     "data": {
      "image/png": "[encoded data removed]",
      "text/plain": [
       "<Figure size 432x288 with 1 Axes>"
      ]
     },
     "metadata": {
      "needs_background": "light"
     },
     "output_type": "display_data"
    }
   ],
   "source": [
    "distances = linkage(X_scaled, method = 'ward')\n",
    "dendrogram(distances)\n",
    "plt.axhline (np.average(distances[-9:,2]),color = 'k')\n",
    "plt.title(f'{i.capitalize()} Method')\n",
    "plt.show()"
   ]
  },
  {
   "cell_type": "code",
   "execution_count": 77,
   "metadata": {},
   "outputs": [
    {
     "ename": "IndentationError",
     "evalue": "unexpected indent (<ipython-input-77-1dcea27b44f4>, line 5)",
     "output_type": "error",
     "traceback": [
      "\u001b[1;36m  File \u001b[1;32m\"<ipython-input-77-1dcea27b44f4>\"\u001b[1;36m, line \u001b[1;32m5\u001b[0m\n\u001b[1;33m    plt.title(f'Linkage = {i} \\n Silhouette Score = {k:.3f}')\u001b[0m\n\u001b[1;37m    ^\u001b[0m\n\u001b[1;31mIndentationError\u001b[0m\u001b[1;31m:\u001b[0m unexpected indent\n"
     ]
    }
   ],
   "source": [
    "for i,j,k in zip(linkage_list, label_list, sil_list):\n",
    "    sns.scatterplot(X_scaled_pca[:,0],\n",
    "                X_scaled_pca[:,1],\n",
    "                hue = j)\n",
    "        plt.title(f'Linkage = {i} \\n Silhouette Score = {k:.3f}')\n",
    "        plt.xlabel('PC1')\n",
    "        plt.ylabel('PC2')\n",
    "        plt.show()"
   ]
  },
  {
   "cell_type": "code",
   "execution_count": null,
   "metadata": {},
   "outputs": [],
   "source": [
    "# try applying the binned labels to the original dataset\n",
    "# put visuals that support your point into the appendix\n",
    "# "
   ]
  },
  {
   "cell_type": "code",
   "execution_count": null,
   "metadata": {},
   "outputs": [],
   "source": [
    "X_plot = teledf_bins10.drop(columns='State')\n",
    "\n",
    "scaler_plot = StandardScaler()\n",
    "X_plot_scaled = scaler_plot.fit_transform(X_plot)\n",
    "\n",
    "pca_plot = PCA()\n",
    "\n",
    "X_plot_scaled_pca = pca_plot.fit_transform(X_plot_scaled)"
   ]
  },
  {
   "cell_type": "code",
   "execution_count": null,
   "metadata": {},
   "outputs": [],
   "source": [
    "sns.scatterplot(X_plot_scaled_pca[:,0],\n",
    "               X_plot_scaled_pca[:,1],\n",
    "               hue = dbscan_final.labels_)\n",
    "plt.title('DBSCAN')\n",
    "plt.xlabel('PCA1')\n",
    "plt.ylabel('PCA2')\n",
    "plt.show()"
   ]
  },
  {
   "cell_type": "code",
   "execution_count": null,
   "metadata": {},
   "outputs": [],
   "source": [
    "silhouette_score(X_scaled[cluster_index_loop], dbscan_final.labels_[cluster_index_loop])"
   ]
  },
  {
   "cell_type": "code",
   "execution_count": null,
   "metadata": {},
   "outputs": [],
   "source": []
  }
 ],
 "metadata": {
  "kernelspec": {
   "display_name": "Python 3",
   "language": "python",
   "name": "python3"
  },
  "language_info": {
   "codemirror_mode": {
    "name": "ipython",
    "version": 3
   },
   "file_extension": ".py",
   "mimetype": "text/x-python",
   "name": "python",
   "nbconvert_exporter": "python",
   "pygments_lexer": "ipython3",
   "version": "3.7.3"
  }
 },
 "nbformat": 4,
 "nbformat_minor": 2
}
