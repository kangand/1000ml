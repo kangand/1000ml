{
 "cells": [
  {
   "cell_type": "code",
   "execution_count": 1,
   "metadata": {},
   "outputs": [],
   "source": [
    "import numpy as np\n",
    "import pandas as pd\n",
    "import matplotlib.pyplot as plt\n",
    "import seaborn as sns\n",
    "\n",
    "plt.rcParams['figure.facecolor']='w'\n",
    "\n",
    "\n",
    "from sklearn.preprocessing import StandardScaler, MinMaxScaler\n",
    "from sklearn.decomposition import PCA\n",
    "from sklearn.cluster import KMeans, DBSCAN, AgglomerativeClustering\n",
    "from sklearn.metrics import silhouette_score\n",
    "from sklearn.pipeline import Pipeline\n",
    "from scipy.cluster.hierarchy import dendrogram, linkage"
   ]
  },
  {
   "cell_type": "code",
   "execution_count": null,
   "metadata": {},
   "outputs": [],
   "source": [
    "#selected datasets that produced the highest silhouette scores\n",
    "\n",
    "teledf = pd.read_csv('teledf.csv').drop(columns=['Unnamed: 0'])\n",
    "teledf_bins10=pd.read_csv('teledf_bins10.csv').drop(columns=['Unnamed: 0'])\n",
    "teledf_churn_bins=pd.read_csv('teledf_churn_bins.csv').drop(columns=['Unnamed: 0'])\n",
    "teledf_nochurn_bins =pd.read_csv('teledf_nochurn_bins.csv').drop(columns=['Unnamed: 0'])"
   ]
  },
  {
   "cell_type": "code",
   "execution_count": 2,
   "metadata": {},
   "outputs": [],
   "source": [
    "#pipeline for all data\n",
    "\n",
    "X = teledf_bins10.drop(columns='State')\n",
    "\n",
    "dball_pipeline = Pipeline(steps=[('scaler', MinMaxScaler()),\n",
    "                                ('pca', PCA(n_components=3)),\n",
    "                                ('dbscan', DBSCAN(metric='cosine', min_samples=5, eps=0.2))])\n",
    "\n"
   ]
  },
  {
   "cell_type": "code",
   "execution_count": 3,
   "metadata": {},
   "outputs": [],
   "source": [
    "#pipeline for churned data only\n",
    "\n",
    "X = teledf_churn_bins.drop(columns='State')\n",
    "\n",
    "dball_pipeline = Pipeline(steps=[('scaler', MinMaxScaler()),\n",
    "                                ('pca', PCA(n_components=4)),\n",
    "                                ('dbscan', DBSCAN(metric='cosine', min_samples=5, eps=0.1))])\n"
   ]
  },
  {
   "cell_type": "code",
   "execution_count": null,
   "metadata": {},
   "outputs": [],
   "source": [
    "#pipeline for unchurned data only\n",
    "\n",
    "X = teledf_nochurn_bins.drop(columns='State')\n",
    "\n",
    "dball_pipeline = Pipeline(steps=[('scaler', MinMaxScaler()),\n",
    "                                ('pca', PCA(n_components=3)),\n",
    "                                ('dbscan', DBSCAN(metric='cosine', min_samples=5, eps=0.2))])\n"
   ]
  }
 ],
 "metadata": {
  "kernelspec": {
   "display_name": "Python 3",
   "language": "python",
   "name": "python3"
  },
  "language_info": {
   "codemirror_mode": {
    "name": "ipython",
    "version": 3
   },
   "file_extension": ".py",
   "mimetype": "text/x-python",
   "name": "python",
   "nbconvert_exporter": "python",
   "pygments_lexer": "ipython3",
   "version": "3.7.3"
  }
 },
 "nbformat": 4,
 "nbformat_minor": 2
}
