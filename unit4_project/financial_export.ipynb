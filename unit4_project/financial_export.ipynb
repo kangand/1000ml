{
 "cells": [
  {
   "cell_type": "markdown",
   "metadata": {},
   "source": [
    "# Financial database export\n",
    "\n",
    "Grabbing all tables from financial database and exporting to csv."
   ]
  },
  {
   "cell_type": "code",
   "execution_count": 1,
   "metadata": {},
   "outputs": [],
   "source": [
    "import pymysql\n",
    "import pandas as pd\n",
    "import os"
   ]
  },
  {
   "cell_type": "code",
   "execution_count": 2,
   "metadata": {},
   "outputs": [],
   "source": [
    "#connecting to pymysql server\n",
    "\n",
    "conn = pymysql.connect(host=os.environ.get('SQLHOSTID'),\n",
    "                      port = 3306,\n",
    "                      user = os.environ.get('SQLUSERID'),\n",
    "                      passwd = os.environ.get('SQLPASSWORD'),\n",
    "                      db = 'financial')"
   ]
  },
  {
   "cell_type": "code",
   "execution_count": 23,
   "metadata": {},
   "outputs": [
    {
     "data": {
      "text/plain": [
       "['account', 'card', 'client', 'disp', 'district', 'loan', 'order', 'trans']"
      ]
     },
     "execution_count": 23,
     "metadata": {},
     "output_type": "execute_result"
    }
   ],
   "source": [
    "#list of all tables\n",
    "\n",
    "tables_list = pd.read_sql('SHOW TABLES', conn)\n",
    "tables_list = list(tables_list['Tables_in_financial'])\n",
    "tables_list"
   ]
  },
  {
   "cell_type": "code",
   "execution_count": 25,
   "metadata": {},
   "outputs": [],
   "source": [
    "#for loop to create csv\n",
    "\n",
    "for i in tables_list:\n",
    "    j = pd.read_sql(f'SELECT * from financial.{i}', conn)\n",
    "    j.to_csv(f'data/{i}.csv')"
   ]
  },
  {
   "cell_type": "code",
   "execution_count": null,
   "metadata": {},
   "outputs": [],
   "source": []
  }
 ],
 "metadata": {
  "kernelspec": {
   "display_name": "Python 3",
   "language": "python",
   "name": "python3"
  },
  "language_info": {
   "codemirror_mode": {
    "name": "ipython",
    "version": 3
   },
   "file_extension": ".py",
   "mimetype": "text/x-python",
   "name": "python",
   "nbconvert_exporter": "python",
   "pygments_lexer": "ipython3",
   "version": "3.6.9"
  }
 },
 "nbformat": 4,
 "nbformat_minor": 4
}
