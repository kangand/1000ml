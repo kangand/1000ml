{
 "cells": [
  {
   "cell_type": "markdown",
   "metadata": {},
   "source": [
    "# Data prep and exploration\n",
    "\n",
    "* import tables\n",
    "* explore data\n",
    "* join relevant info\n",
    "* data prep\n",
    "    * dummies\n",
    "    * feature selection\n",
    "* export train and test"
   ]
  },
  {
   "cell_type": "code",
   "execution_count": 2,
   "metadata": {},
   "outputs": [],
   "source": [
    "import pandas as pd\n",
    "import glob\n"
   ]
  },
  {
   "cell_type": "code",
   "execution_count": 3,
   "metadata": {},
   "outputs": [
    {
     "data": {
      "text/plain": [
       "['data/order.csv',\n",
       " 'data/disp.csv',\n",
       " 'data/account.csv',\n",
       " 'data/card.csv',\n",
       " 'data/client.csv',\n",
       " 'data/loan.csv',\n",
       " 'data/trans.csv',\n",
       " 'data/sample.csv',\n",
       " 'data/district.csv']"
      ]
     },
     "execution_count": 3,
     "metadata": {},
     "output_type": "execute_result"
    }
   ],
   "source": [
    "\n",
    "path = r'data/' # use your path\n",
    "files_list = glob.glob(path + \"/*.csv\")\n",
    "files_list"
   ]
  },
  {
   "cell_type": "code",
   "execution_count": 4,
   "metadata": {},
   "outputs": [
    {
     "name": "stderr",
     "output_type": "stream",
     "text": [
      "/home/learner/.local/lib/python3.6/site-packages/IPython/core/interactiveshell.py:3063: DtypeWarning: Columns (9) have mixed types.Specify dtype option on import or set low_memory=False.\n",
      "  interactivity=interactivity, compiler=compiler, result=result)\n",
      "/home/learner/.local/lib/python3.6/site-packages/numpy/lib/arraysetops.py:569: FutureWarning: elementwise comparison failed; returning scalar instead, but in the future will perform elementwise comparison\n",
      "  mask |= (ar1 == a)\n"
     ]
    }
   ],
   "source": [
    "order = pd.read_csv(files_list[0], index_col=0)\n",
    "disp = pd.read_csv(files_list[1], index_col=0)\n",
    "account = pd.read_csv(files_list[2], index_col=0)\n",
    "card = pd.read_csv(files_list[3], index_col=0)\n",
    "client = pd.read_csv(files_list[4], index_col=0)\n",
    "loan = pd.read_csv(files_list[5], index_col=0)\n",
    "trans = pd.read_csv(files_list[6], index_col=0)\n",
    "district = pd.read_csv(files_list[8], index_col=0)"
   ]
  },
  {
   "cell_type": "code",
   "execution_count": 6,
   "metadata": {},
   "outputs": [],
   "source": [
    "tables_list = [order, disp, account, card, client, loan, trans, district]"
   ]
  },
  {
   "cell_type": "code",
   "execution_count": 8,
   "metadata": {},
   "outputs": [
    {
     "data": {
      "text/plain": [
       "[(6471, 6),\n",
       " (5369, 4),\n",
       " (4500, 4),\n",
       " (892, 4),\n",
       " (5369, 4),\n",
       " (682, 7),\n",
       " (1056320, 10),\n",
       " (77, 16)]"
      ]
     },
     "execution_count": 8,
     "metadata": {},
     "output_type": "execute_result"
    }
   ],
   "source": [
    "[i.shape for i in tables_list]"
   ]
  },
  {
   "cell_type": "code",
   "execution_count": 9,
   "metadata": {},
   "outputs": [
    {
     "data": {
      "text/plain": [
       "[order_id         0\n",
       " account_id       0\n",
       " bank_to          0\n",
       " account_to       0\n",
       " amount           0\n",
       " k_symbol      1379\n",
       " dtype: int64,\n",
       " disp_id       0\n",
       " client_id     0\n",
       " account_id    0\n",
       " type          0\n",
       " dtype: int64,\n",
       " account_id     0\n",
       " district_id    0\n",
       " frequency      0\n",
       " date           0\n",
       " dtype: int64,\n",
       " card_id    0\n",
       " disp_id    0\n",
       " type       0\n",
       " issued     0\n",
       " dtype: int64,\n",
       " client_id      0\n",
       " gender         0\n",
       " birth_date     0\n",
       " district_id    0\n",
       " dtype: int64,\n",
       " loan_id       0\n",
       " account_id    0\n",
       " date          0\n",
       " amount        0\n",
       " duration      0\n",
       " payments      0\n",
       " status        0\n",
       " dtype: int64,\n",
       " trans_id           0\n",
       " account_id         0\n",
       " date               0\n",
       " type               0\n",
       " operation     183114\n",
       " amount             0\n",
       " balance            0\n",
       " k_symbol      481881\n",
       " bank          782812\n",
       " account       760931\n",
       " dtype: int64,\n",
       " district_id    0\n",
       " A2             0\n",
       " A3             0\n",
       " A4             0\n",
       " A5             0\n",
       " A6             0\n",
       " A7             0\n",
       " A8             0\n",
       " A9             0\n",
       " A10            0\n",
       " A11            0\n",
       " A12            1\n",
       " A13            0\n",
       " A14            0\n",
       " A15            1\n",
       " A16            0\n",
       " dtype: int64]"
      ]
     },
     "execution_count": 9,
     "metadata": {},
     "output_type": "execute_result"
    }
   ],
   "source": [
    "[i.isna().sum() for i in tables_list]"
   ]
  },
  {
   "cell_type": "code",
   "execution_count": null,
   "metadata": {},
   "outputs": [],
   "source": []
  }
 ],
 "metadata": {
  "kernelspec": {
   "display_name": "Python 3",
   "language": "python",
   "name": "python3"
  },
  "language_info": {
   "codemirror_mode": {
    "name": "ipython",
    "version": 3
   },
   "file_extension": ".py",
   "mimetype": "text/x-python",
   "name": "python",
   "nbconvert_exporter": "python",
   "pygments_lexer": "ipython3",
   "version": "3.6.9"
  }
 },
 "nbformat": 4,
 "nbformat_minor": 4
}
