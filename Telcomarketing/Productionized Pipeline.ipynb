{
 "cells": [
  {
   "cell_type": "code",
   "execution_count": 1,
   "metadata": {},
   "outputs": [],
   "source": [
    "import numpy as np\n",
    "import pandas as pd\n",
    "import matplotlib.pyplot as plt\n",
    "import seaborn as sns\n",
    "\n",
    "plt.rcParams['figure.facecolor']='w'\n",
    "\n",
    "\n",
    "from sklearn.preprocessing import StandardScaler, MinMaxScaler\n",
    "from sklearn.decomposition import PCA\n",
    "from sklearn.cluster import KMeans, DBSCAN, AgglomerativeClustering\n",
    "from sklearn.metrics import silhouette_score\n",
    "from sklearn.pipeline import Pipeline\n",
    "from scipy.cluster.hierarchy import dendrogram, linkage"
   ]
  },
  {
   "cell_type": "code",
   "execution_count": 2,
   "metadata": {},
   "outputs": [],
   "source": [
    "#selected datasets that produced the highest silhouette scores\n",
    "\n",
    "teledf = pd.read_csv('teledf.csv')\n",
    "teledf_bins = pd.read_csv('teledf_bins.csv')\n",
    "teledf_churn = pd.read_csv('teledf_churn.csv')\n",
    "teledf_nochurn = pd.read_csv('teledf_nochurn.csv')"
   ]
  },
  {
   "cell_type": "code",
   "execution_count": 5,
   "metadata": {},
   "outputs": [
    {
     "data": {
      "text/plain": [
       "Pipeline(memory=None,\n",
       "         steps=[('scaler', MinMaxScaler(copy=True, feature_range=(0, 1))),\n",
       "                ('pca',\n",
       "                 PCA(copy=True, iterated_power='auto', n_components=3,\n",
       "                     random_state=None, svd_solver='auto', tol=0.0,\n",
       "                     whiten=False)),\n",
       "                ('dbscan',\n",
       "                 DBSCAN(algorithm='auto', eps=0.2, leaf_size=30,\n",
       "                        metric='cosine', metric_params=None, min_samples=5,\n",
       "                        n_jobs=None, p=None))],\n",
       "         verbose=False)"
      ]
     },
     "execution_count": 5,
     "metadata": {},
     "output_type": "execute_result"
    }
   ],
   "source": [
    "#pipeline for all data\n",
    "\n",
    "X_all = teledf_bins.drop(columns='State')\n",
    "\n",
    "dball_pipeline = Pipeline(steps=[('scaler', MinMaxScaler()),\n",
    "                                ('pca', PCA(n_components=2)),\n",
    "                                ('dbscan', DBSCAN(metric='cosine', min_samples=5, eps=0.2))])\n",
    "\n",
    "dball_pipeline.fit(X_all)"
   ]
  },
  {
   "cell_type": "code",
   "execution_count": 6,
   "metadata": {},
   "outputs": [
    {
     "data": {
      "text/plain": [
       "Pipeline(memory=None,\n",
       "         steps=[('scaler', MinMaxScaler(copy=True, feature_range=(0, 1))),\n",
       "                ('pca',\n",
       "                 PCA(copy=True, iterated_power='auto', n_components=4,\n",
       "                     random_state=None, svd_solver='auto', tol=0.0,\n",
       "                     whiten=False)),\n",
       "                ('dbscan',\n",
       "                 DBSCAN(algorithm='auto', eps=0.1, leaf_size=30,\n",
       "                        metric='cosine', metric_params=None, min_samples=5,\n",
       "                        n_jobs=None, p=None))],\n",
       "         verbose=False)"
      ]
     },
     "execution_count": 6,
     "metadata": {},
     "output_type": "execute_result"
    }
   ],
   "source": [
    "#pipeline for churned data only\n",
    "#silhouette score: 0.515\n",
    "\n",
    "\n",
    "X_churn = teledf_churn.drop(columns='State')\n",
    "\n",
    "dbchurn_pipeline = Pipeline(steps=[('scaler', MinMaxScaler()),\n",
    "                                ('pca', PCA(n_components=3)),\n",
    "                                ('dbscan', DBSCAN(metric='cosine', min_samples=5, eps=0.1))])\n",
    "\n",
    "dbchurn_pipeline.fit(X_churn)"
   ]
  },
  {
   "cell_type": "code",
   "execution_count": 7,
   "metadata": {},
   "outputs": [
    {
     "data": {
      "text/plain": [
       "Pipeline(memory=None,\n",
       "         steps=[('scaler', MinMaxScaler(copy=True, feature_range=(0, 1))),\n",
       "                ('pca',\n",
       "                 PCA(copy=True, iterated_power='auto', n_components=2,\n",
       "                     random_state=None, svd_solver='auto', tol=0.0,\n",
       "                     whiten=False)),\n",
       "                ('dbscan',\n",
       "                 DBSCAN(algorithm='auto', eps=0.3, leaf_size=30,\n",
       "                        metric='cosine', metric_params=None, min_samples=7,\n",
       "                        n_jobs=None, p=None))],\n",
       "         verbose=False)"
      ]
     },
     "execution_count": 7,
     "metadata": {},
     "output_type": "execute_result"
    }
   ],
   "source": [
    "#pipeline for unchurned data only\n",
    "#silhouette score: 0.595\n",
    "\n",
    "X_nochurn = teledf_nochurn.drop(columns='State')\n",
    "\n",
    "dbnochurn_pipeline = Pipeline(steps=[('scaler', MinMaxScaler()),\n",
    "                                ('pca', PCA(n_components=2)),\n",
    "                                ('dbscan', DBSCAN(metric='cosine', min_samples=7, eps=0.3))])\n",
    "\n",
    "dbnochurn_pipeline.fit(X_nochurn)"
   ]
  },
  {
   "cell_type": "code",
   "execution_count": null,
   "metadata": {},
   "outputs": [],
   "source": []
  }
 ],
 "metadata": {
  "kernelspec": {
   "display_name": "Python 3",
   "language": "python",
   "name": "python3"
  },
  "language_info": {
   "codemirror_mode": {
    "name": "ipython",
    "version": 3
   },
   "file_extension": ".py",
   "mimetype": "text/x-python",
   "name": "python",
   "nbconvert_exporter": "python",
   "pygments_lexer": "ipython3",
   "version": "3.7.3"
  }
 },
 "nbformat": 4,
 "nbformat_minor": 2
}
